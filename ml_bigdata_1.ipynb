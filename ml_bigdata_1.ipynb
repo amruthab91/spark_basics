{
  "nbformat": 4,
  "nbformat_minor": 0,
  "metadata": {
    "colab": {
      "provenance": [],
      "authorship_tag": "ABX9TyN1hJ/4d8VfpC9bvntl0VLR"
    },
    "kernelspec": {
      "name": "python3",
      "display_name": "Python 3"
    },
    "language_info": {
      "name": "python"
    }
  },
  "cells": [
    {
      "cell_type": "code",
      "execution_count": null,
      "metadata": {
        "colab": {
          "base_uri": "https://localhost:8080/"
        },
        "id": "2ngWMLa2l48w",
        "outputId": "2ba80d62-47e2-4139-d8f3-9c140df169e6"
      },
      "outputs": [
        {
          "output_type": "stream",
          "name": "stdout",
          "text": [
            "Collecting pyspark\n",
            "  Downloading pyspark-3.5.0.tar.gz (316.9 MB)\n",
            "\u001b[2K     \u001b[90m━━━━━━━━━━━━━━━━━━━━━━━━━━━━━━━━━━━━━━━━\u001b[0m \u001b[32m316.9/316.9 MB\u001b[0m \u001b[31m2.3 MB/s\u001b[0m eta \u001b[36m0:00:00\u001b[0m\n",
            "\u001b[?25h  Preparing metadata (setup.py) ... \u001b[?25l\u001b[?25hdone\n",
            "Requirement already satisfied: py4j==0.10.9.7 in /usr/local/lib/python3.10/dist-packages (from pyspark) (0.10.9.7)\n",
            "Building wheels for collected packages: pyspark\n",
            "  Building wheel for pyspark (setup.py) ... \u001b[?25l\u001b[?25hdone\n",
            "  Created wheel for pyspark: filename=pyspark-3.5.0-py2.py3-none-any.whl size=317425345 sha256=281703690fbb9b83e6c3852b6c1c2f6ce6d8de25e807009ccb9374b23e8d3874\n",
            "  Stored in directory: /root/.cache/pip/wheels/41/4e/10/c2cf2467f71c678cfc8a6b9ac9241e5e44a01940da8fbb17fc\n",
            "Successfully built pyspark\n",
            "Installing collected packages: pyspark\n",
            "Successfully installed pyspark-3.5.0\n"
          ]
        }
      ],
      "source": [
        "#install the pyspark\n",
        "!pip install pyspark"
      ]
    },
    {
      "cell_type": "code",
      "source": [
        "# create pyspark session\n",
        "from pyspark.sql import SparkSession\n",
        "spark = SparkSession.builder.master(\"local[*]\").getOrCreate()"
      ],
      "metadata": {
        "id": "D4H1KGQ_nbqJ"
      },
      "execution_count": null,
      "outputs": []
    },
    {
      "cell_type": "code",
      "source": [
        "from pyspark.sql import SparkSession\n",
        "\n",
        "spark = SparkSession \\\n",
        "    .builder \\\n",
        "    .appName(\"Python Spark SQL basic example\") \\\n",
        "    .config(\"spark.some.config.option\", \"some-value\") \\\n",
        "    .getOrCreate()"
      ],
      "metadata": {
        "id": "2agWZ48_njkQ"
      },
      "execution_count": null,
      "outputs": []
    },
    {
      "cell_type": "code",
      "source": [
        "from google.colab import drive\n",
        "drive.mount('/content/drive')"
      ],
      "metadata": {
        "colab": {
          "base_uri": "https://localhost:8080/"
        },
        "id": "QlQi5DTunnTw",
        "outputId": "0458712a-b7a9-4048-87f5-16eeba735c98"
      },
      "execution_count": null,
      "outputs": [
        {
          "output_type": "stream",
          "name": "stdout",
          "text": [
            "Mounted at /content/drive\n"
          ]
        }
      ]
    },
    {
      "cell_type": "code",
      "source": [
        "#read dataset\n",
        "dataset = spark.read.csv('/content/diabetes.csv',inferSchema=True, header =True)"
      ],
      "metadata": {
        "id": "Ghs0uGWXn6tJ"
      },
      "execution_count": null,
      "outputs": []
    },
    {
      "cell_type": "code",
      "source": [
        "#display the columns in the dataset\n",
        "dataset.columns"
      ],
      "metadata": {
        "colab": {
          "base_uri": "https://localhost:8080/"
        },
        "id": "UuI37wZqoKyS",
        "outputId": "04cbaba9-7f07-410d-8229-2fc64f74db29"
      },
      "execution_count": null,
      "outputs": [
        {
          "output_type": "execute_result",
          "data": {
            "text/plain": [
              "['Pregnancies',\n",
              " 'Glucose',\n",
              " 'BloodPressure',\n",
              " 'SkinThickness',\n",
              " 'Insulin',\n",
              " 'BMI',\n",
              " 'DiabetesPedigreeFunction',\n",
              " 'Age',\n",
              " 'Outcome']"
            ]
          },
          "metadata": {},
          "execution_count": 7
        }
      ]
    },
    {
      "cell_type": "code",
      "source": [
        "#describing the dataset\n",
        "dataset.describe().select(\"Summary\",\"Pregnancies\",\"Glucose\",\"BloodPressure\").show()"
      ],
      "metadata": {
        "colab": {
          "base_uri": "https://localhost:8080/"
        },
        "id": "xDx7D0v7oUap",
        "outputId": "d9f48e73-3802-4e8b-e72f-4e27a3aefac4"
      },
      "execution_count": null,
      "outputs": [
        {
          "output_type": "stream",
          "name": "stdout",
          "text": [
            "+-------+------------------+-----------------+------------------+\n",
            "|Summary|       Pregnancies|          Glucose|     BloodPressure|\n",
            "+-------+------------------+-----------------+------------------+\n",
            "|  count|               768|              768|               768|\n",
            "|   mean|3.8450520833333335|     120.89453125|       69.10546875|\n",
            "| stddev|  3.36957806269887|31.97261819513622|19.355807170644777|\n",
            "|    min|                 0|                0|                 0|\n",
            "|    max|                17|              199|               122|\n",
            "+-------+------------------+-----------------+------------------+\n",
            "\n"
          ]
        }
      ]
    },
    {
      "cell_type": "code",
      "source": [
        "dataset.describe().select(\"Summary\",\"SkinThickness\",\"Insulin\").show()"
      ],
      "metadata": {
        "colab": {
          "base_uri": "https://localhost:8080/"
        },
        "id": "a1NHKUC3onp5",
        "outputId": "252f76db-e293-49de-f9e9-8ac1df808e59"
      },
      "execution_count": null,
      "outputs": [
        {
          "output_type": "stream",
          "name": "stdout",
          "text": [
            "+-------+------------------+------------------+\n",
            "|Summary|     SkinThickness|           Insulin|\n",
            "+-------+------------------+------------------+\n",
            "|  count|               768|               768|\n",
            "|   mean|20.536458333333332| 79.79947916666667|\n",
            "| stddev|15.952217567727642|115.24400235133803|\n",
            "|    min|                 0|                 0|\n",
            "|    max|                99|               846|\n",
            "+-------+------------------+------------------+\n",
            "\n"
          ]
        }
      ]
    },
    {
      "cell_type": "code",
      "source": [
        "dataset.describe().select(\"Summary\",\"BMI\",\"DiabetesPedigreeFunction\",\"Age\").show()"
      ],
      "metadata": {
        "colab": {
          "base_uri": "https://localhost:8080/"
        },
        "id": "xzTgWc3zsZtm",
        "outputId": "1c438f60-a95b-4d71-ba43-2ed8deb0ab36"
      },
      "execution_count": null,
      "outputs": [
        {
          "output_type": "stream",
          "name": "stdout",
          "text": [
            "+-------+------------------+------------------------+------------------+\n",
            "|Summary|               BMI|DiabetesPedigreeFunction|               Age|\n",
            "+-------+------------------+------------------------+------------------+\n",
            "|  count|               768|                     768|               768|\n",
            "|   mean|31.992578124999977|      0.4718763020833327|33.240885416666664|\n",
            "| stddev| 7.884160320375441|       0.331328595012775|11.760231540678689|\n",
            "|    min|               0.0|                   0.078|                21|\n",
            "|    max|              67.1|                    2.42|                81|\n",
            "+-------+------------------+------------------------+------------------+\n",
            "\n"
          ]
        }
      ]
    },
    {
      "cell_type": "code",
      "source": [
        "# replace min value of zeros with Nan as data cleaning processs\n",
        "import numpy as np\n",
        "from pyspark.sql.functions import when\n",
        "dataset=dataset.withColumn(\"Glucose\",when(dataset.Glucose==0,np.nan).otherwise (dataset.Glucose))\n",
        "dataset=dataset.withColumn(\"BloodPressure\",when(dataset.BloodPressure==0,np.nan).otherwise(dataset.BloodPressure))\n",
        "dataset=dataset.withColumn(\"SkinThickness\",when(dataset.SkinThickness==0,np.nan).otherwise(dataset.SkinThickness))\n",
        "dataset=dataset.withColumn(\"BMI\",when(dataset.BMI==0,np.nan).otherwise(dataset.BMI))\n",
        "dataset=dataset.withColumn(\"Insulin\",when(dataset.Insulin==0,np.nan).otherwise(dataset.Insulin))\n",
        "dataset.select(\"Insulin\",\"Glucose\",\"BloodPressure\",\"SkinThickness\",\"BMI\").show(10)"
      ],
      "metadata": {
        "colab": {
          "base_uri": "https://localhost:8080/"
        },
        "id": "qe5jkEmqsi8t",
        "outputId": "05fc5533-c74a-4562-c778-e5c5e55125d7"
      },
      "execution_count": null,
      "outputs": [
        {
          "output_type": "stream",
          "name": "stdout",
          "text": [
            "+-------+-------+-------------+-------------+----+\n",
            "|Insulin|Glucose|BloodPressure|SkinThickness| BMI|\n",
            "+-------+-------+-------------+-------------+----+\n",
            "|    NaN|  148.0|         72.0|         35.0|33.6|\n",
            "|    NaN|   85.0|         66.0|         29.0|26.6|\n",
            "|    NaN|  183.0|         64.0|          NaN|23.3|\n",
            "|   94.0|   89.0|         66.0|         23.0|28.1|\n",
            "|  168.0|  137.0|         40.0|         35.0|43.1|\n",
            "|    NaN|  116.0|         74.0|          NaN|25.6|\n",
            "|   88.0|   78.0|         50.0|         32.0|31.0|\n",
            "|    NaN|  115.0|          NaN|          NaN|35.3|\n",
            "|  543.0|  197.0|         70.0|         45.0|30.5|\n",
            "|    NaN|  125.0|         96.0|          NaN| NaN|\n",
            "+-------+-------+-------------+-------------+----+\n",
            "only showing top 10 rows\n",
            "\n"
          ]
        }
      ]
    },
    {
      "cell_type": "code",
      "source": [
        "#impute(removing NaN values)\n",
        "from pyspark.ml.feature import Imputer\n",
        "imputer=Imputer(inputCols=[\"Glucose\",\"BloodPressure\",\"SkinThickness\",\"BMI\",\"Insulin\"],outputCols=[\"Glucose\",\"BloodPressure\",\"SkinThickness\",\"BMI\",\"Insulin\"])\n",
        "model=imputer.fit(dataset)\n",
        "dataset=model.transform(dataset)\n",
        "dataset.show(5)"
      ],
      "metadata": {
        "colab": {
          "base_uri": "https://localhost:8080/"
        },
        "id": "253kVnzPsss9",
        "outputId": "adc2ab24-0cc2-446c-9059-6243b6bdf012"
      },
      "execution_count": null,
      "outputs": [
        {
          "output_type": "stream",
          "name": "stdout",
          "text": [
            "+-----------+-------+-------------+------------------+-----------------+----+------------------------+---+-------+\n",
            "|Pregnancies|Glucose|BloodPressure|     SkinThickness|          Insulin| BMI|DiabetesPedigreeFunction|Age|Outcome|\n",
            "+-----------+-------+-------------+------------------+-----------------+----+------------------------+---+-------+\n",
            "|          6|  148.0|         72.0|              35.0|155.5482233502538|33.6|                   0.627| 50|      1|\n",
            "|          1|   85.0|         66.0|              29.0|155.5482233502538|26.6|                   0.351| 31|      0|\n",
            "|          8|  183.0|         64.0|29.153419593345657|155.5482233502538|23.3|                   0.672| 32|      1|\n",
            "|          1|   89.0|         66.0|              23.0|             94.0|28.1|                   0.167| 21|      0|\n",
            "|          0|  137.0|         40.0|              35.0|            168.0|43.1|                   2.288| 33|      1|\n",
            "+-----------+-------+-------------+------------------+-----------------+----+------------------------+---+-------+\n",
            "only showing top 5 rows\n",
            "\n"
          ]
        }
      ]
    },
    {
      "cell_type": "code",
      "source": [
        "#us combine all the features in one single feature vector.\n",
        "cols=dataset.columns\n",
        "cols.remove(\"Outcome\")\n",
        "\n",
        "# Let us import the vector assembler\n",
        "from pyspark.ml.feature import VectorAssembler\n",
        "assembler = VectorAssembler(inputCols=cols,outputCol=\"features\")\n",
        "\n",
        "# Now let us use the transform method to transform our dataset\n",
        "dataset=assembler.transform(dataset)\n",
        "dataset.select(\"features\").show(truncate=False)"
      ],
      "metadata": {
        "colab": {
          "base_uri": "https://localhost:8080/"
        },
        "id": "lTlOGY7bszCO",
        "outputId": "5e2e8e1c-6e6a-4fdd-cdd5-957333dff035"
      },
      "execution_count": null,
      "outputs": [
        {
          "output_type": "stream",
          "name": "stdout",
          "text": [
            "+-----------------------------------------------------------------------------------+\n",
            "|features                                                                           |\n",
            "+-----------------------------------------------------------------------------------+\n",
            "|[6.0,148.0,72.0,35.0,155.5482233502538,33.6,0.627,50.0]                            |\n",
            "|[1.0,85.0,66.0,29.0,155.5482233502538,26.6,0.351,31.0]                             |\n",
            "|[8.0,183.0,64.0,29.153419593345657,155.5482233502538,23.3,0.672,32.0]              |\n",
            "|[1.0,89.0,66.0,23.0,94.0,28.1,0.167,21.0]                                          |\n",
            "|[0.0,137.0,40.0,35.0,168.0,43.1,2.288,33.0]                                        |\n",
            "|[5.0,116.0,74.0,29.153419593345657,155.5482233502538,25.6,0.201,30.0]              |\n",
            "|[3.0,78.0,50.0,32.0,88.0,31.0,0.248,26.0]                                          |\n",
            "|[10.0,115.0,72.40518417462484,29.153419593345657,155.5482233502538,35.3,0.134,29.0]|\n",
            "|[2.0,197.0,70.0,45.0,543.0,30.5,0.158,53.0]                                        |\n",
            "|[8.0,125.0,96.0,29.153419593345657,155.5482233502538,32.45746367239099,0.232,54.0] |\n",
            "|[4.0,110.0,92.0,29.153419593345657,155.5482233502538,37.6,0.191,30.0]              |\n",
            "|[10.0,168.0,74.0,29.153419593345657,155.5482233502538,38.0,0.537,34.0]             |\n",
            "|[10.0,139.0,80.0,29.153419593345657,155.5482233502538,27.1,1.441,57.0]             |\n",
            "|[1.0,189.0,60.0,23.0,846.0,30.1,0.398,59.0]                                        |\n",
            "|[5.0,166.0,72.0,19.0,175.0,25.8,0.587,51.0]                                        |\n",
            "|[7.0,100.0,72.40518417462484,29.153419593345657,155.5482233502538,30.0,0.484,32.0] |\n",
            "|[0.0,118.0,84.0,47.0,230.0,45.8,0.551,31.0]                                        |\n",
            "|[7.0,107.0,74.0,29.153419593345657,155.5482233502538,29.6,0.254,31.0]              |\n",
            "|[1.0,103.0,30.0,38.0,83.0,43.3,0.183,33.0]                                         |\n",
            "|[1.0,115.0,70.0,30.0,96.0,34.6,0.529,32.0]                                         |\n",
            "+-----------------------------------------------------------------------------------+\n",
            "only showing top 20 rows\n",
            "\n"
          ]
        }
      ]
    },
    {
      "cell_type": "code",
      "source": [
        "#Standard Sclarizer (scaling the values like eg range 1 to 10 to 0.1 and 11 to 20 as 0.2 etcfor eg)\n",
        "from pyspark.ml.feature import StandardScaler\n",
        "standardscaler=StandardScaler().setInputCol(\"features\").setOutputCol(\"Scaled_features\")\n",
        "dataset=standardscaler.fit(dataset).transform(dataset)\n",
        "dataset.select(\"features\",\"Scaled_features\").show(20)"
      ],
      "metadata": {
        "colab": {
          "base_uri": "https://localhost:8080/"
        },
        "id": "uw2HnWcwtBdG",
        "outputId": "a819a454-bbca-4de9-89b6-3e25b9a66cb7"
      },
      "execution_count": null,
      "outputs": [
        {
          "output_type": "stream",
          "name": "stdout",
          "text": [
            "+--------------------+--------------------+\n",
            "|            features|     Scaled_features|\n",
            "+--------------------+--------------------+\n",
            "|[6.0,148.0,72.0,3...|[1.78063837321943...|\n",
            "|[1.0,85.0,66.0,29...|[0.29677306220323...|\n",
            "|[8.0,183.0,64.0,2...|[2.37418449762590...|\n",
            "|[1.0,89.0,66.0,23...|[0.29677306220323...|\n",
            "|[0.0,137.0,40.0,3...|[0.0,4.5012560836...|\n",
            "|[5.0,116.0,74.0,2...|[1.48386531101619...|\n",
            "|[3.0,78.0,50.0,32...|[0.89031918660971...|\n",
            "|[10.0,115.0,72.40...|[2.96773062203238...|\n",
            "|[2.0,197.0,70.0,4...|[0.59354612440647...|\n",
            "|[8.0,125.0,96.0,2...|[2.37418449762590...|\n",
            "|[4.0,110.0,92.0,2...|[1.18709224881295...|\n",
            "|[10.0,168.0,74.0,...|[2.96773062203238...|\n",
            "|[10.0,139.0,80.0,...|[2.96773062203238...|\n",
            "|[1.0,189.0,60.0,2...|[0.29677306220323...|\n",
            "|[5.0,166.0,72.0,1...|[1.48386531101619...|\n",
            "|[7.0,100.0,72.405...|[2.07741143542266...|\n",
            "|[0.0,118.0,84.0,4...|[0.0,3.8769942910...|\n",
            "|[7.0,107.0,74.0,2...|[2.07741143542266...|\n",
            "|[1.0,103.0,30.0,3...|[0.29677306220323...|\n",
            "|[1.0,115.0,70.0,3...|[0.29677306220323...|\n",
            "+--------------------+--------------------+\n",
            "only showing top 20 rows\n",
            "\n"
          ]
        }
      ]
    },
    {
      "cell_type": "code",
      "source": [
        "#Train, test split\n",
        "train, test = dataset.randomSplit([0.8, 0.2], seed=12345)"
      ],
      "metadata": {
        "id": "AbuRbcfruebn"
      },
      "execution_count": null,
      "outputs": []
    },
    {
      "cell_type": "code",
      "source": [
        " #imbalance in the dataset\n",
        "dataset_size=float(train.select(\"Outcome\").count())\n",
        "numPositives=train.select(\"Outcome\").where('Outcome == 1').count()\n",
        "print('The number of ones are {}'.format(numPositives))"
      ],
      "metadata": {
        "colab": {
          "base_uri": "https://localhost:8080/"
        },
        "id": "xOL4apulutf_",
        "outputId": "c226be21-1393-4e0b-8123-bb65244484fc"
      },
      "execution_count": null,
      "outputs": [
        {
          "output_type": "stream",
          "name": "stdout",
          "text": [
            "The number of ones are 221\n"
          ]
        }
      ]
    },
    {
      "cell_type": "code",
      "source": [
        "#finding the number of negatives\n",
        "per_ones=(float(numPositives)/float(dataset_size))*100\n",
        "numNegatives=float(dataset_size-numPositives)\n",
        "print('Percentage of ones are {}'.format(per_ones))\n",
        "print('The number of numNegatives {}'.format(numNegatives))"
      ],
      "metadata": {
        "colab": {
          "base_uri": "https://localhost:8080/"
        },
        "id": "bUMnG9xFvLmn",
        "outputId": "3955c46a-c7f3-47ae-8a37-aeebabf1d7e1"
      },
      "execution_count": null,
      "outputs": [
        {
          "output_type": "stream",
          "name": "stdout",
          "text": [
            "Percentage of ones are 35.24720893141946\n",
            "The number of numNegatives 406.0\n"
          ]
        }
      ]
    },
    {
      "cell_type": "code",
      "source": [
        "#balancing the ratio\n",
        "BalancingRatio= numNegatives/dataset_size\n",
        "print('BalancingRatio = {}'.format(BalancingRatio))"
      ],
      "metadata": {
        "colab": {
          "base_uri": "https://localhost:8080/"
        },
        "id": "e_3PYQe3v5HI",
        "outputId": "2c362cd4-7064-406d-e632-d475be44b21d"
      },
      "execution_count": null,
      "outputs": [
        {
          "output_type": "stream",
          "name": "stdout",
          "text": [
            "BalancingRatio = 0.6475279106858054\n"
          ]
        }
      ]
    },
    {
      "cell_type": "code",
      "source": [
        "# balance by adding the class weights\n",
        "train=train.withColumn(\"classWeights\", when(train.Outcome == 1,BalancingRatio).otherwise(1-BalancingRatio))\n",
        "train.select(\"classWeights\").show(5)"
      ],
      "metadata": {
        "colab": {
          "base_uri": "https://localhost:8080/"
        },
        "id": "NXZLLYdYwDjw",
        "outputId": "a7b50d75-e0ab-49a6-9cde-47b64293bc7b"
      },
      "execution_count": null,
      "outputs": [
        {
          "output_type": "stream",
          "name": "stdout",
          "text": [
            "+------------------+\n",
            "|      classWeights|\n",
            "+------------------+\n",
            "|0.3524720893141946|\n",
            "|0.3524720893141946|\n",
            "|0.3524720893141946|\n",
            "|0.3524720893141946|\n",
            "|0.3524720893141946|\n",
            "+------------------+\n",
            "only showing top 5 rows\n",
            "\n"
          ]
        }
      ]
    },
    {
      "cell_type": "code",
      "source": [
        "#Feature selection (fpr = false positive rate)\n",
        "# Feature selection using chisquareSelector\n",
        "from pyspark.ml.feature import ChiSqSelector\n",
        "css = ChiSqSelector(featuresCol='Scaled_features',outputCol='Aspect',labelCol='Outcome',fpr=0.05)\n",
        "train=css.fit(train).transform(train)\n",
        "test=css.fit(test).transform(test)\n",
        "test.select(\"Aspect\").show(5,truncate=False)"
      ],
      "metadata": {
        "colab": {
          "base_uri": "https://localhost:8080/"
        },
        "id": "Cgjz6XWpw5n6",
        "outputId": "4e36b0cf-b9bf-4113-989d-5755da837884"
      },
      "execution_count": null,
      "outputs": [
        {
          "output_type": "stream",
          "name": "stdout",
          "text": [
            "+----------------------------------------------------------------------------------------------------------------------------------------+\n",
            "|Aspect                                                                                                                                  |\n",
            "+----------------------------------------------------------------------------------------------------------------------------------------+\n",
            "|[0.0,2.7598942410664704,6.778906518747398,3.526357045954172,1.4702231396384098,5.556241336417194,0.7032293726142661,1.955743806611537]  |\n",
            "|[0.0,3.3184442660442084,5.290853868290652,1.93380870262003,1.8295247783934943,3.0544782215906037,0.7605742570763735,1.785679127775751]  |\n",
            "|[0.0,3.3184442660442084,5.373523459982693,3.1850966866682846,1.8295247783934943,3.5781030595775647,0.7153019798694465,1.870711467193644]|\n",
            "|[0.0,3.3513001498664283,6.2002193769031075,2.616329421191805,1.8295247783934943,4.720981710256498,1.726382837490816,1.785679127775751]  |\n",
            "|[0.0,3.449867801333088,5.621532235058818,2.5025759680965094,1.8295247783934943,2.9090268777053367,0.7122838280556514,1.870711467193644] |\n",
            "+----------------------------------------------------------------------------------------------------------------------------------------+\n",
            "only showing top 5 rows\n",
            "\n"
          ]
        }
      ]
    },
    {
      "cell_type": "code",
      "source": [
        "#Building a classification model using Logistic Regression (LR)\n",
        "from pyspark.ml.classification import LogisticRegression\n",
        "lr = LogisticRegression(labelCol=\"Outcome\", featuresCol=\"Aspect\",weightCol=\"classWeights\",maxIter=10)\n",
        "model=lr.fit(train)\n",
        "predict_train=model.transform(train)\n",
        "predict_test=model.transform(test)\n",
        "predict_test.select(\"Outcome\",\"prediction\").show(10)"
      ],
      "metadata": {
        "colab": {
          "base_uri": "https://localhost:8080/"
        },
        "id": "PLUjw_ITyAt0",
        "outputId": "57788bc5-f42b-4862-eb12-4b5d7370e305"
      },
      "execution_count": null,
      "outputs": [
        {
          "output_type": "stream",
          "name": "stdout",
          "text": [
            "+-------+----------+\n",
            "|Outcome|prediction|\n",
            "+-------+----------+\n",
            "|      0|       0.0|\n",
            "|      0|       0.0|\n",
            "|      0|       0.0|\n",
            "|      0|       0.0|\n",
            "|      0|       0.0|\n",
            "|      0|       0.0|\n",
            "|      0|       0.0|\n",
            "|      0|       0.0|\n",
            "|      1|       1.0|\n",
            "|      1|       1.0|\n",
            "+-------+----------+\n",
            "only showing top 10 rows\n",
            "\n"
          ]
        }
      ]
    },
    {
      "cell_type": "code",
      "source": [
        "#Evaluating the model\n",
        "from pyspark.ml.evaluation import BinaryClassificationEvaluator\n",
        "from pyspark.ml.evaluation import BinaryClassificationEvaluator\n",
        "evaluator=BinaryClassificationEvaluator(rawPredictionCol=\"rawPrediction\",labelCol=\"Outcome\")\n",
        "predict_test.select(\"Outcome\",\"rawPrediction\",\"prediction\",\"probability\").show(5)"
      ],
      "metadata": {
        "colab": {
          "base_uri": "https://localhost:8080/"
        },
        "id": "4aWNAKlsyEjL",
        "outputId": "ebc7cd34-b758-4024-f148-f1c2a20d1f3a"
      },
      "execution_count": null,
      "outputs": [
        {
          "output_type": "stream",
          "name": "stdout",
          "text": [
            "+-------+--------------------+----------+--------------------+\n",
            "|Outcome|       rawPrediction|prediction|         probability|\n",
            "+-------+--------------------+----------+--------------------+\n",
            "|      0|[1.92703060509029...|       0.0|[0.87292038835456...|\n",
            "|      0|[2.86679587735939...|       0.0|[0.94618041741076...|\n",
            "|      0|[2.56925761588805...|       0.0|[0.92885665332668...|\n",
            "|      0|[1.51041800877943...|       0.0|[0.81912314746457...|\n",
            "|      0|[2.86307413613929...|       0.0|[0.94599058003314...|\n",
            "+-------+--------------------+----------+--------------------+\n",
            "only showing top 5 rows\n",
            "\n"
          ]
        }
      ]
    },
    {
      "cell_type": "code",
      "source": [
        "print(model.summary)\n",
        "import matplotlib.pyplot as plt\n",
        "pr = model.summary.pr.toPandas()\n",
        "plt.plot(pr['recall'],pr['precision'])\n",
        "plt.ylabel('Precision')\n",
        "plt.xlabel('Recall')\n",
        "plt.show()"
      ],
      "metadata": {
        "colab": {
          "base_uri": "https://localhost:8080/",
          "height": 466
        },
        "id": "eN7KFl-lyIkz",
        "outputId": "e46445e5-9001-4386-cc70-637e6a81cedb"
      },
      "execution_count": null,
      "outputs": [
        {
          "output_type": "stream",
          "name": "stdout",
          "text": [
            "<pyspark.ml.classification.BinaryLogisticRegressionTrainingSummary object at 0x7dbb30723a30>\n"
          ]
        },
        {
          "output_type": "display_data",
          "data": {
            "text/plain": [
              "<Figure size 640x480 with 1 Axes>"
            ],
            "image/png": "[encoded data removed]"
          },
          "metadata": {}
        }
      ]
    }
  ]
}