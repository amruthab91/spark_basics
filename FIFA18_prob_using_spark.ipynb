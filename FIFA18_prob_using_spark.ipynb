{
  "nbformat": 4,
  "nbformat_minor": 0,
  "metadata": {
    "colab": {
      "provenance": [],
      "authorship_tag": "ABX9TyPtQp/O1NsTwypaMkznzo3C"
    },
    "kernelspec": {
      "name": "python3",
      "display_name": "Python 3"
    },
    "language_info": {
      "name": "python"
    }
  },
  "cells": [
    {
      "cell_type": "code",
      "execution_count": null,
      "metadata": {
        "colab": {
          "base_uri": "https://localhost:8080/"
        },
        "id": "dlOwq37KsCem",
        "outputId": "1911c388-5d13-49c9-a6ed-e7c9a9f5e32f"
      },
      "outputs": [
        {
          "output_type": "stream",
          "name": "stdout",
          "text": [
            "Requirement already satisfied: pyspark in /usr/local/lib/python3.10/dist-packages (3.5.0)\n",
            "Requirement already satisfied: py4j==0.10.9.7 in /usr/local/lib/python3.10/dist-packages (from pyspark) (0.10.9.7)\n"
          ]
        }
      ],
      "source": [
        "!pip3 install pyspark"
      ]
    },
    {
      "cell_type": "markdown",
      "source": [
        "**Reading Data from CSV file**"
      ],
      "metadata": {
        "id": "UOQSgD50tydq"
      }
    },
    {
      "cell_type": "code",
      "source": [
        "from pyspark.sql import SparkSession\n",
        "spark = SparkSession \\\n",
        " .builder \\\n",
        " .appName(\"Python Spark SQL basic example\") \\\n",
        " .config(\"spark.some.config.option\", \"some-value\") \\\n",
        " .getOrCreate()"
      ],
      "metadata": {
        "id": "Es4MEY2St2qB"
      },
      "execution_count": null,
      "outputs": []
    },
    {
      "cell_type": "code",
      "source": [
        "!pip install itables"
      ],
      "metadata": {
        "colab": {
          "base_uri": "https://localhost:8080/"
        },
        "id": "OT5_Hwte-KEs",
        "outputId": "0e395212-04ad-4d42-8168-56ddd60d0989"
      },
      "execution_count": null,
      "outputs": [
        {
          "output_type": "stream",
          "name": "stdout",
          "text": [
            "Requirement already satisfied: itables in /usr/local/lib/python3.10/dist-packages (1.6.2)\n",
            "Requirement already satisfied: IPython in /usr/local/lib/python3.10/dist-packages (from itables) (7.34.0)\n",
            "Requirement already satisfied: pandas in /usr/local/lib/python3.10/dist-packages (from itables) (1.5.3)\n",
            "Requirement already satisfied: numpy in /usr/local/lib/python3.10/dist-packages (from itables) (1.23.5)\n",
            "Requirement already satisfied: setuptools>=18.5 in /usr/local/lib/python3.10/dist-packages (from IPython->itables) (67.7.2)\n",
            "Requirement already satisfied: jedi>=0.16 in /usr/local/lib/python3.10/dist-packages (from IPython->itables) (0.19.1)\n",
            "Requirement already satisfied: decorator in /usr/local/lib/python3.10/dist-packages (from IPython->itables) (4.4.2)\n",
            "Requirement already satisfied: pickleshare in /usr/local/lib/python3.10/dist-packages (from IPython->itables) (0.7.5)\n",
            "Requirement already satisfied: traitlets>=4.2 in /usr/local/lib/python3.10/dist-packages (from IPython->itables) (5.7.1)\n",
            "Requirement already satisfied: prompt-toolkit!=3.0.0,!=3.0.1,<3.1.0,>=2.0.0 in /usr/local/lib/python3.10/dist-packages (from IPython->itables) (3.0.39)\n",
            "Requirement already satisfied: pygments in /usr/local/lib/python3.10/dist-packages (from IPython->itables) (2.16.1)\n",
            "Requirement already satisfied: backcall in /usr/local/lib/python3.10/dist-packages (from IPython->itables) (0.2.0)\n",
            "Requirement already satisfied: matplotlib-inline in /usr/local/lib/python3.10/dist-packages (from IPython->itables) (0.1.6)\n",
            "Requirement already satisfied: pexpect>4.3 in /usr/local/lib/python3.10/dist-packages (from IPython->itables) (4.8.0)\n",
            "Requirement already satisfied: python-dateutil>=2.8.1 in /usr/local/lib/python3.10/dist-packages (from pandas->itables) (2.8.2)\n",
            "Requirement already satisfied: pytz>=2020.1 in /usr/local/lib/python3.10/dist-packages (from pandas->itables) (2023.3.post1)\n",
            "Requirement already satisfied: parso<0.9.0,>=0.8.3 in /usr/local/lib/python3.10/dist-packages (from jedi>=0.16->IPython->itables) (0.8.3)\n",
            "Requirement already satisfied: ptyprocess>=0.5 in /usr/local/lib/python3.10/dist-packages (from pexpect>4.3->IPython->itables) (0.7.0)\n",
            "Requirement already satisfied: wcwidth in /usr/local/lib/python3.10/dist-packages (from prompt-toolkit!=3.0.0,!=3.0.1,<3.1.0,>=2.0.0->IPython->itables) (0.2.8)\n",
            "Requirement already satisfied: six>=1.5 in /usr/local/lib/python3.10/dist-packages (from python-dateutil>=2.8.1->pandas->itables) (1.16.0)\n"
          ]
        }
      ]
    },
    {
      "cell_type": "code",
      "source": [
        "from itables import init_notebook_mode\n",
        "init_notebook_mode(all_interactive=True)"
      ],
      "metadata": {
        "id": "fhWOJezp9pGz"
      },
      "execution_count": null,
      "outputs": []
    },
    {
      "cell_type": "markdown",
      "source": [
        " **create DataFrame and display the content**"
      ],
      "metadata": {
        "id": "1PfVVSp7utks"
      }
    },
    {
      "cell_type": "code",
      "source": [
        "fifa_df = spark.read.load(\"CompleteDataset.csv\", format=\"csv\", inferSchema=True,\n",
        " header=True)\n",
        "fifa_df.show()"
      ],
      "metadata": {
        "colab": {
          "base_uri": "https://localhost:8080/"
        },
        "id": "0XgZ14UQuu1z",
        "outputId": "5dc8bc43-2cab-47ca-dda0-ff7162219eca"
      },
      "execution_count": null,
      "outputs": [
        {
          "output_type": "stream",
          "name": "stdout",
          "text": [
            "+---+-----------------+---+--------------------+-----------+--------------------+-------+---------+-------------------+--------------------+------+-----+-------+------------+----------+-------+-------+------------+---------+--------+-----+---------+---------+------------------+---------+-----------+----------+--------------+-----------+----------------+-------------+-------+------------+----------+-------+---------+-----------+---------+-------------+----------+--------------+------------+-------+---------------+--------+------+-------+----+----+----+----+----+------+----+----+----+----+----+----+----+----+----+----+-------------------+----+----+----+----+----+----+----+----+----+----+----+\n",
            "|_c0|             Name|Age|               Photo|Nationality|                Flag|Overall|Potential|               Club|           Club Logo| Value| Wage|Special|Acceleration|Aggression|Agility|Balance|Ball control|Composure|Crossing|Curve|Dribbling|Finishing|Free kick accuracy|GK diving|GK handling|GK kicking|GK positioning|GK reflexes|Heading accuracy|Interceptions|Jumping|Long passing|Long shots|Marking|Penalties|Positioning|Reactions|Short passing|Shot power|Sliding tackle|Sprint speed|Stamina|Standing tackle|Strength|Vision|Volleys| CAM|  CB| CDM|  CF|  CM|    ID| LAM|  LB| LCB| LCM| LDM|  LF|  LM|  LS|  LW| LWB|Preferred Positions| RAM|  RB| RCB| RCM| RDM|  RF|  RM|  RS|  RW| RWB|  ST|\n",
            "+---+-----------------+---+--------------------+-----------+--------------------+-------+---------+-------------------+--------------------+------+-----+-------+------------+----------+-------+-------+------------+---------+--------+-----+---------+---------+------------------+---------+-----------+----------+--------------+-----------+----------------+-------------+-------+------------+----------+-------+---------+-----------+---------+-------------+----------+--------------+------------+-------+---------------+--------+------+-------+----+----+----+----+----+------+----+----+----+----+----+----+----+----+----+----+-------------------+----+----+----+----+----+----+----+----+----+----+----+\n",
            "|  0|Cristiano Ronaldo| 32|https://cdn.sofif...|   Portugal|https://cdn.sofif...|     94|       94|     Real Madrid CF|https://cdn.sofif...|€95.5M|€565K|   2228|          89|        63|     89|     63|          93|       95|      85|   81|       91|       94|                76|        7|         11|        15|            14|         11|              88|           29|     95|          77|        92|     22|       85|         95|       96|           83|        94|            23|          91|     92|             31|      80|    85|     88|89.0|53.0|62.0|91.0|82.0| 20801|89.0|61.0|53.0|82.0|62.0|91.0|89.0|92.0|91.0|66.0|             ST LW |89.0|61.0|53.0|82.0|62.0|91.0|89.0|92.0|91.0|66.0|92.0|\n",
            "|  1|         L. Messi| 30|https://cdn.sofif...|  Argentina|https://cdn.sofif...|     93|       93|       FC Barcelona|https://cdn.sofif...| €105M|€565K|   2154|          92|        48|     90|     95|          95|       96|      77|   89|       97|       95|                90|        6|         11|        15|            14|          8|              71|           22|     68|          87|        88|     13|       74|         93|       95|           88|        85|            26|          87|     73|             28|      59|    90|     85|92.0|45.0|59.0|92.0|84.0|158023|92.0|57.0|45.0|84.0|59.0|92.0|90.0|88.0|91.0|62.0|                RW |92.0|57.0|45.0|84.0|59.0|92.0|90.0|88.0|91.0|62.0|88.0|\n",
            "|  2|           Neymar| 25|https://cdn.sofif...|     Brazil|https://cdn.sofif...|     92|       94|Paris Saint-Germain|https://cdn.sofif...| €123M|€280K|   2100|          94|        56|     96|     82|          95|       92|      75|   81|       96|       89|                84|        9|          9|        15|            15|         11|              62|           36|     61|          75|        77|     21|       81|         90|       88|           81|        80|            33|          90|     78|             24|      53|    80|     83|88.0|46.0|59.0|88.0|79.0|190871|88.0|59.0|46.0|79.0|59.0|88.0|87.0|84.0|89.0|64.0|                LW |88.0|59.0|46.0|79.0|59.0|88.0|87.0|84.0|89.0|64.0|84.0|\n",
            "|  3|        L. Suárez| 30|https://cdn.sofif...|    Uruguay|https://cdn.sofif...|     92|       92|       FC Barcelona|https://cdn.sofif...|  €97M|€510K|   2291|          88|        78|     86|     60|          91|       83|      77|   86|       86|       94|                84|       27|         25|        31|            33|         37|              77|           41|     69|          64|        86|     30|       85|         92|       93|           83|        87|            38|          77|     89|             45|      80|    84|     88|87.0|58.0|65.0|88.0|80.0|176580|87.0|64.0|58.0|80.0|65.0|88.0|85.0|88.0|87.0|68.0|                ST |87.0|64.0|58.0|80.0|65.0|88.0|85.0|88.0|87.0|68.0|88.0|\n",
            "|  4|         M. Neuer| 31|https://cdn.sofif...|    Germany|https://cdn.sofif...|     92|       92|   FC Bayern Munich|https://cdn.sofif...|  €61M|€230K|   1493|          58|        29|     52|     35|          48|       70|      15|   14|       30|       13|                11|       91|         90|        95|            91|         89|              25|           30|     78|          59|        16|     10|       47|         12|       85|           55|        25|            11|          61|     44|             10|      83|    70|     11|NULL|NULL|NULL|NULL|NULL|167495|NULL|NULL|NULL|NULL|NULL|NULL|NULL|NULL|NULL|NULL|                GK |NULL|NULL|NULL|NULL|NULL|NULL|NULL|NULL|NULL|NULL|NULL|\n",
            "|  5|   R. Lewandowski| 28|https://cdn.sofif...|     Poland|https://cdn.sofif...|     91|       91|   FC Bayern Munich|https://cdn.sofif...|  €92M|€355K|   2143|          79|        80|     78|     80|          89|       87|      62|   77|       85|       91|                84|       15|          6|        12|             8|         10|              85|           39|     84|          65|        83|     25|       81|         91|       91|           83|        88|            19|          83|     79|             42|      84|    78|     87|84.0|57.0|62.0|87.0|78.0|188545|84.0|58.0|57.0|78.0|62.0|87.0|82.0|88.0|84.0|61.0|                ST |84.0|58.0|57.0|78.0|62.0|87.0|82.0|88.0|84.0|61.0|88.0|\n",
            "|  6|           De Gea| 26|https://cdn.sofif...|      Spain|https://cdn.sofif...|     90|       92|  Manchester United|https://cdn.sofif...|€64.5M|€215K|   1458|          57|        38|     60|     43|          42|       64|      17|   21|       18|       13|                19|       90|         85|        87|            86|         90|              21|           30|     67|          51|        12|     13|       40|         12|       88|           50|        31|            13|          58|     40|             21|      64|    68|     13|NULL|NULL|NULL|NULL|NULL|193080|NULL|NULL|NULL|NULL|NULL|NULL|NULL|NULL|NULL|NULL|                GK |NULL|NULL|NULL|NULL|NULL|NULL|NULL|NULL|NULL|NULL|NULL|\n",
            "|  7|        E. Hazard| 26|https://cdn.sofif...|    Belgium|https://cdn.sofif...|     90|       91|            Chelsea|https://cdn.sofif...|€90.5M|€295K|   2096|          93|        54|     93|     91|          92|       87|      80|   82|       93|       83|                79|       11|         12|         6|             8|          8|              57|           41|     59|          81|        82|     25|       86|         85|       85|           86|        79|            22|          87|     79|             27|      65|    86|     79|88.0|47.0|61.0|87.0|81.0|183277|88.0|59.0|47.0|81.0|61.0|87.0|87.0|82.0|88.0|64.0|                LW |88.0|59.0|47.0|81.0|61.0|87.0|87.0|82.0|88.0|64.0|82.0|\n",
            "|  8|         T. Kroos| 27|https://cdn.sofif...|    Germany|https://cdn.sofif...|     90|       90|     Real Madrid CF|https://cdn.sofif...|  €79M|€340K|   2165|          60|        60|     71|     69|          89|       85|      85|   85|       79|       76|                84|       10|         11|        13|             7|         10|              54|           85|     32|          93|        90|     63|       73|         79|       86|           90|        87|            69|          52|     77|             82|      74|    88|     82|83.0|72.0|82.0|81.0|87.0|182521|83.0|76.0|72.0|87.0|82.0|81.0|81.0|77.0|80.0|78.0|            CDM CM |83.0|76.0|72.0|87.0|82.0|81.0|81.0|77.0|80.0|78.0|77.0|\n",
            "|  9|       G. Higuaín| 29|https://cdn.sofif...|  Argentina|https://cdn.sofif...|     90|       90|           Juventus|https://cdn.sofif...|  €77M|€275K|   1961|          78|        50|     75|     69|          85|       86|      68|   74|       84|       91|                62|        5|         12|         7|             5|         10|              86|           20|     79|          59|        82|     12|       70|         92|       88|           75|        88|            18|          80|     72|             22|      85|    70|     88|81.0|46.0|52.0|84.0|71.0|167664|81.0|51.0|46.0|71.0|52.0|84.0|79.0|87.0|82.0|55.0|                ST |81.0|51.0|46.0|71.0|52.0|84.0|79.0|87.0|82.0|55.0|87.0|\n",
            "| 10|     Sergio Ramos| 31|https://cdn.sofif...|      Spain|https://cdn.sofif...|     90|       90|     Real Madrid CF|https://cdn.sofif...|  €52M|€310K|   2153|          75|        84|     79|     60|          84|       80|      66|   73|       61|       60|                67|       11|          8|         9|             7|         11|              91|           88|     93|          72|        55|     86|       68|         52|       85|           78|        79|            91|          77|     84|             89|      81|    63|     66|70.0|87.0|83.0|70.0|74.0|155862|70.0|84.0|87.0|74.0|83.0|70.0|71.0|72.0|69.0|81.0|                CB |70.0|84.0|87.0|74.0|83.0|70.0|71.0|72.0|69.0|81.0|72.0|\n",
            "| 11|     K. De Bruyne| 26|https://cdn.sofif...|    Belgium|https://cdn.sofif...|     89|       92|    Manchester City|https://cdn.sofif...|  €83M|€285K|   2162|          76|        68|     80|     75|          87|       84|      90|   83|       85|       83|                83|       15|         13|         5|            10|         13|              53|           56|     65|          84|        86|     30|       77|         84|       88|           90|        85|            40|          75|     87|             51|      73|    90|     82|86.0|57.0|70.0|85.0|84.0|192985|86.0|66.0|57.0|84.0|70.0|85.0|85.0|81.0|85.0|71.0|         RM CM CAM |86.0|66.0|57.0|84.0|70.0|85.0|85.0|81.0|85.0|71.0|81.0|\n",
            "| 12|      T. Courtois| 25|https://cdn.sofif...|    Belgium|https://cdn.sofif...|     89|       92|            Chelsea|https://cdn.sofif...|  €59M|€190K|   1282|          46|        23|     61|     45|          23|       52|      14|   19|       13|       14|                11|       85|         91|        69|            86|         88|              13|           15|     68|          31|        17|     11|       27|         13|       81|           32|        36|            16|          52|     38|             18|      70|    44|     12|NULL|NULL|NULL|NULL|NULL|192119|NULL|NULL|NULL|NULL|NULL|NULL|NULL|NULL|NULL|NULL|                GK |NULL|NULL|NULL|NULL|NULL|NULL|NULL|NULL|NULL|NULL|NULL|\n",
            "| 13|       A. Sánchez| 28|https://cdn.sofif...|      Chile|https://cdn.sofif...|     89|       89|            Arsenal|https://cdn.sofif...|€67.5M|€265K|   2181|          88|        80|     90|     87|          87|       86|      80|   78|       90|       85|                78|       10|         10|        15|            12|         13|              70|           42|     85|          73|        82|     30|       77|         86|       87|           81|        84|            35|          84|     85|             39|      72|    83|     83|85.0|56.0|64.0|85.0|79.0|184941|85.0|62.0|56.0|79.0|64.0|85.0|85.0|83.0|86.0|66.0|       RM LW ST LM |85.0|62.0|56.0|79.0|64.0|85.0|85.0|83.0|86.0|66.0|83.0|\n",
            "| 14|        L. Modrić| 31|https://cdn.sofif...|    Croatia|https://cdn.sofif...|     89|       89|     Real Madrid CF|https://cdn.sofif...|  €57M|€340K|   2228|          75|        62|     93|     94|          92|       84|      78|   79|       86|       71|                77|       13|          9|         7|            14|          9|              55|           76|     67|          83|        82|     66|       80|         79|       88|           92|        73|            73|          71|     82|             80|      58|    90|     74|86.0|72.0|80.0|83.0|86.0|177003|86.0|78.0|72.0|86.0|80.0|83.0|84.0|76.0|83.0|80.0|            CDM CM |86.0|78.0|72.0|86.0|80.0|83.0|84.0|76.0|83.0|80.0|76.0|\n",
            "| 15|          G. Bale| 27|https://cdn.sofif...|      Wales|https://cdn.sofif...|     89|       89|     Real Madrid CF|https://cdn.sofif...|€69.5M|€370K|   2263|          93|        65|     77|     65|          87|       85|      87|   86|       89|       87|                85|       15|         15|        11|             5|          6|              86|           59|     85|          80|        90|     51|       76|         86|       87|           86|        91|            52|          95|     76|             55|      80|    79|     76|86.0|67.0|71.0|87.0|81.0|173731|86.0|72.0|67.0|81.0|71.0|87.0|87.0|87.0|87.0|74.0|                RW |86.0|72.0|67.0|81.0|71.0|87.0|87.0|87.0|87.0|74.0|87.0|\n",
            "| 16|        S. Agüero| 29|https://cdn.sofif...|  Argentina|https://cdn.sofif...|     89|       89|    Manchester City|https://cdn.sofif...|€66.5M|€325K|   2074|          90|        63|     86|     91|          89|       90|      70|   82|       89|       90|                72|       13|         15|         6|            11|         14|              68|           24|     80|          63|        83|     13|       83|         91|       89|           79|        88|            12|          84|     74|             20|      74|    83|     85|85.0|44.0|54.0|87.0|75.0|153079|85.0|52.0|44.0|75.0|54.0|87.0|84.0|86.0|86.0|57.0|                ST |85.0|52.0|44.0|75.0|54.0|87.0|84.0|86.0|86.0|57.0|86.0|\n",
            "| 17|     G. Chiellini| 32|https://cdn.sofif...|      Italy|https://cdn.sofif...|     89|       89|           Juventus|https://cdn.sofif...|  €38M|€225K|   1867|          68|        92|     59|     64|          57|       82|      58|   60|       58|       33|                31|        3|          3|         2|             4|          3|              84|           88|     89|          59|        49|     92|       50|         28|       82|           59|        78|            90|          78|     68|             92|      91|    50|     45|55.0|86.0|76.0|55.0|60.0|138956|55.0|78.0|86.0|60.0|76.0|55.0|58.0|59.0|56.0|75.0|                CB |55.0|78.0|86.0|60.0|76.0|55.0|58.0|59.0|56.0|75.0|59.0|\n",
            "| 18|        G. Buffon| 39|https://cdn.sofif...|      Italy|https://cdn.sofif...|     89|       89|           Juventus|https://cdn.sofif...| €4.5M|€110K|   1335|          49|        38|     55|     49|          28|       70|      13|   20|       26|       15|                13|       89|         88|        74|            90|         84|              13|           28|     75|          35|        13|     10|       22|         12|       80|           37|        39|            11|          43|     39|             11|      69|    50|     17|NULL|NULL|NULL|NULL|NULL|  1179|NULL|NULL|NULL|NULL|NULL|NULL|NULL|NULL|NULL|NULL|                GK |NULL|NULL|NULL|NULL|NULL|NULL|NULL|NULL|NULL|NULL|NULL|\n",
            "| 19|        P. Dybala| 23|https://cdn.sofif...|  Argentina|https://cdn.sofif...|     88|       93|           Juventus|https://cdn.sofif...|  €79M|€215K|   2063|          88|        48|     91|     85|          93|       84|      80|   88|       92|       85|                84|        5|          4|         4|             5|          8|              68|           24|     75|          71|        88|     14|       86|         84|       84|           83|        82|            20|          84|     83|             20|      65|    84|     88|86.0|43.0|55.0|86.0|78.0|211110|86.0|55.0|43.0|78.0|55.0|86.0|86.0|83.0|87.0|60.0|            ST CAM |86.0|55.0|43.0|78.0|55.0|86.0|86.0|83.0|87.0|60.0|83.0|\n",
            "+---+-----------------+---+--------------------+-----------+--------------------+-------+---------+-------------------+--------------------+------+-----+-------+------------+----------+-------+-------+------------+---------+--------+-----+---------+---------+------------------+---------+-----------+----------+--------------+-----------+----------------+-------------+-------+------------+----------+-------+---------+-----------+---------+-------------+----------+--------------+------------+-------+---------------+--------+------+-------+----+----+----+----+----+------+----+----+----+----+----+----+----+----+----+----+-------------------+----+----+----+----+----+----+----+----+----+----+----+\n",
            "only showing top 20 rows\n",
            "\n"
          ]
        }
      ]
    },
    {
      "cell_type": "code",
      "source": [
        "#structure of dataframe\n",
        "fifa_df.printSchema()"
      ],
      "metadata": {
        "colab": {
          "base_uri": "https://localhost:8080/"
        },
        "id": "l2XDqiqfvVRH",
        "outputId": "e142598a-09a6-43e7-d006-3e76df8398ae"
      },
      "execution_count": null,
      "outputs": [
        {
          "output_type": "stream",
          "name": "stdout",
          "text": [
            "root\n",
            " |-- _c0: integer (nullable = true)\n",
            " |-- Name: string (nullable = true)\n",
            " |-- Age: integer (nullable = true)\n",
            " |-- Photo: string (nullable = true)\n",
            " |-- Nationality: string (nullable = true)\n",
            " |-- Flag: string (nullable = true)\n",
            " |-- Overall: integer (nullable = true)\n",
            " |-- Potential: integer (nullable = true)\n",
            " |-- Club: string (nullable = true)\n",
            " |-- Club Logo: string (nullable = true)\n",
            " |-- Value: string (nullable = true)\n",
            " |-- Wage: string (nullable = true)\n",
            " |-- Special: integer (nullable = true)\n",
            " |-- Acceleration: string (nullable = true)\n",
            " |-- Aggression: string (nullable = true)\n",
            " |-- Agility: string (nullable = true)\n",
            " |-- Balance: string (nullable = true)\n",
            " |-- Ball control: string (nullable = true)\n",
            " |-- Composure: string (nullable = true)\n",
            " |-- Crossing: string (nullable = true)\n",
            " |-- Curve: string (nullable = true)\n",
            " |-- Dribbling: string (nullable = true)\n",
            " |-- Finishing: string (nullable = true)\n",
            " |-- Free kick accuracy: string (nullable = true)\n",
            " |-- GK diving: string (nullable = true)\n",
            " |-- GK handling: string (nullable = true)\n",
            " |-- GK kicking: string (nullable = true)\n",
            " |-- GK positioning: string (nullable = true)\n",
            " |-- GK reflexes: string (nullable = true)\n",
            " |-- Heading accuracy: string (nullable = true)\n",
            " |-- Interceptions: string (nullable = true)\n",
            " |-- Jumping: string (nullable = true)\n",
            " |-- Long passing: string (nullable = true)\n",
            " |-- Long shots: string (nullable = true)\n",
            " |-- Marking: string (nullable = true)\n",
            " |-- Penalties: string (nullable = true)\n",
            " |-- Positioning: string (nullable = true)\n",
            " |-- Reactions: string (nullable = true)\n",
            " |-- Short passing: string (nullable = true)\n",
            " |-- Shot power: string (nullable = true)\n",
            " |-- Sliding tackle: string (nullable = true)\n",
            " |-- Sprint speed: string (nullable = true)\n",
            " |-- Stamina: string (nullable = true)\n",
            " |-- Standing tackle: string (nullable = true)\n",
            " |-- Strength: string (nullable = true)\n",
            " |-- Vision: string (nullable = true)\n",
            " |-- Volleys: string (nullable = true)\n",
            " |-- CAM: double (nullable = true)\n",
            " |-- CB: double (nullable = true)\n",
            " |-- CDM: double (nullable = true)\n",
            " |-- CF: double (nullable = true)\n",
            " |-- CM: double (nullable = true)\n",
            " |-- ID: integer (nullable = true)\n",
            " |-- LAM: double (nullable = true)\n",
            " |-- LB: double (nullable = true)\n",
            " |-- LCB: double (nullable = true)\n",
            " |-- LCM: double (nullable = true)\n",
            " |-- LDM: double (nullable = true)\n",
            " |-- LF: double (nullable = true)\n",
            " |-- LM: double (nullable = true)\n",
            " |-- LS: double (nullable = true)\n",
            " |-- LW: double (nullable = true)\n",
            " |-- LWB: double (nullable = true)\n",
            " |-- Preferred Positions: string (nullable = true)\n",
            " |-- RAM: double (nullable = true)\n",
            " |-- RB: double (nullable = true)\n",
            " |-- RCB: double (nullable = true)\n",
            " |-- RCM: double (nullable = true)\n",
            " |-- RDM: double (nullable = true)\n",
            " |-- RF: double (nullable = true)\n",
            " |-- RM: double (nullable = true)\n",
            " |-- RS: double (nullable = true)\n",
            " |-- RW: double (nullable = true)\n",
            " |-- RWB: double (nullable = true)\n",
            " |-- ST: double (nullable = true)\n",
            "\n"
          ]
        }
      ]
    },
    {
      "cell_type": "code",
      "source": [
        "#information about columns\n",
        "fifa_df.columns"
      ],
      "metadata": {
        "colab": {
          "base_uri": "https://localhost:8080/"
        },
        "id": "0jVY1gmSv5Bn",
        "outputId": "6cedfca3-9fcd-48ad-c674-f93a59f5ee89"
      },
      "execution_count": null,
      "outputs": [
        {
          "output_type": "execute_result",
          "data": {
            "text/plain": [
              "['_c0',\n",
              " 'Name',\n",
              " 'Age',\n",
              " 'Photo',\n",
              " 'Nationality',\n",
              " 'Flag',\n",
              " 'Overall',\n",
              " 'Potential',\n",
              " 'Club',\n",
              " 'Club Logo',\n",
              " 'Value',\n",
              " 'Wage',\n",
              " 'Special',\n",
              " 'Acceleration',\n",
              " 'Aggression',\n",
              " 'Agility',\n",
              " 'Balance',\n",
              " 'Ball control',\n",
              " 'Composure',\n",
              " 'Crossing',\n",
              " 'Curve',\n",
              " 'Dribbling',\n",
              " 'Finishing',\n",
              " 'Free kick accuracy',\n",
              " 'GK diving',\n",
              " 'GK handling',\n",
              " 'GK kicking',\n",
              " 'GK positioning',\n",
              " 'GK reflexes',\n",
              " 'Heading accuracy',\n",
              " 'Interceptions',\n",
              " 'Jumping',\n",
              " 'Long passing',\n",
              " 'Long shots',\n",
              " 'Marking',\n",
              " 'Penalties',\n",
              " 'Positioning',\n",
              " 'Reactions',\n",
              " 'Short passing',\n",
              " 'Shot power',\n",
              " 'Sliding tackle',\n",
              " 'Sprint speed',\n",
              " 'Stamina',\n",
              " 'Standing tackle',\n",
              " 'Strength',\n",
              " 'Vision',\n",
              " 'Volleys',\n",
              " 'CAM',\n",
              " 'CB',\n",
              " 'CDM',\n",
              " 'CF',\n",
              " 'CM',\n",
              " 'ID',\n",
              " 'LAM',\n",
              " 'LB',\n",
              " 'LCB',\n",
              " 'LCM',\n",
              " 'LDM',\n",
              " 'LF',\n",
              " 'LM',\n",
              " 'LS',\n",
              " 'LW',\n",
              " 'LWB',\n",
              " 'Preferred Positions',\n",
              " 'RAM',\n",
              " 'RB',\n",
              " 'RCB',\n",
              " 'RCM',\n",
              " 'RDM',\n",
              " 'RF',\n",
              " 'RM',\n",
              " 'RS',\n",
              " 'RW',\n",
              " 'RWB',\n",
              " 'ST']"
            ]
          },
          "metadata": {},
          "execution_count": 42
        }
      ]
    },
    {
      "cell_type": "code",
      "source": [
        "#dataframe count\n",
        "fifa_df.count()"
      ],
      "metadata": {
        "colab": {
          "base_uri": "https://localhost:8080/"
        },
        "id": "B9Tla-4vwAy4",
        "outputId": "48aaefe9-aaa6-46b4-999d-3e0ee5d21305"
      },
      "execution_count": null,
      "outputs": [
        {
          "output_type": "execute_result",
          "data": {
            "text/plain": [
              "17981"
            ]
          },
          "metadata": {},
          "execution_count": 43
        }
      ]
    },
    {
      "cell_type": "code",
      "source": [
        "#dataframe column count\n",
        "len (fifa_df.columns)"
      ],
      "metadata": {
        "colab": {
          "base_uri": "https://localhost:8080/"
        },
        "id": "8p8RraHswLBI",
        "outputId": "44c9ed77-4cfc-41c4-c7a1-b66d03839a32"
      },
      "execution_count": null,
      "outputs": [
        {
          "output_type": "execute_result",
          "data": {
            "text/plain": [
              "75"
            ]
          },
          "metadata": {},
          "execution_count": 44
        }
      ]
    },
    {
      "cell_type": "code",
      "source": [
        "fifa_df.select('Name','Nationality','club').show()"
      ],
      "metadata": {
        "colab": {
          "base_uri": "https://localhost:8080/"
        },
        "id": "mwky_X_OwmTJ",
        "outputId": "23660663-51d7-456a-fcf2-39966c92b52d"
      },
      "execution_count": null,
      "outputs": [
        {
          "output_type": "stream",
          "name": "stdout",
          "text": [
            "+-----------------+-----------+-------------------+\n",
            "|             Name|Nationality|               club|\n",
            "+-----------------+-----------+-------------------+\n",
            "|Cristiano Ronaldo|   Portugal|     Real Madrid CF|\n",
            "|         L. Messi|  Argentina|       FC Barcelona|\n",
            "|           Neymar|     Brazil|Paris Saint-Germain|\n",
            "|        L. Suárez|    Uruguay|       FC Barcelona|\n",
            "|         M. Neuer|    Germany|   FC Bayern Munich|\n",
            "|   R. Lewandowski|     Poland|   FC Bayern Munich|\n",
            "|           De Gea|      Spain|  Manchester United|\n",
            "|        E. Hazard|    Belgium|            Chelsea|\n",
            "|         T. Kroos|    Germany|     Real Madrid CF|\n",
            "|       G. Higuaín|  Argentina|           Juventus|\n",
            "|     Sergio Ramos|      Spain|     Real Madrid CF|\n",
            "|     K. De Bruyne|    Belgium|    Manchester City|\n",
            "|      T. Courtois|    Belgium|            Chelsea|\n",
            "|       A. Sánchez|      Chile|            Arsenal|\n",
            "|        L. Modrić|    Croatia|     Real Madrid CF|\n",
            "|          G. Bale|      Wales|     Real Madrid CF|\n",
            "|        S. Agüero|  Argentina|    Manchester City|\n",
            "|     G. Chiellini|      Italy|           Juventus|\n",
            "|        G. Buffon|      Italy|           Juventus|\n",
            "|        P. Dybala|  Argentina|           Juventus|\n",
            "+-----------------+-----------+-------------------+\n",
            "only showing top 20 rows\n",
            "\n"
          ]
        }
      ]
    },
    {
      "cell_type": "code",
      "source": [
        "fifa_df.select('Name','Long shots').distinct().show()"
      ],
      "metadata": {
        "colab": {
          "base_uri": "https://localhost:8080/"
        },
        "id": "-MQtJgzaw9Dz",
        "outputId": "1be1f009-4d8e-45b2-d517-307d27f394d0"
      },
      "execution_count": null,
      "outputs": [
        {
          "output_type": "stream",
          "name": "stdout",
          "text": [
            "+-----------------+----------+\n",
            "|             Name|Long shots|\n",
            "+-----------------+----------+\n",
            "|Cristiano Ronaldo|        92|\n",
            "|      J. Cuadrado|        80|\n",
            "|      M. Brozović|        79|\n",
            "|          A. Rami|        58|\n",
            "|       D. Abraham|        65|\n",
            "|     Borja Bastón|        73|\n",
            "|       J. Montero|        68|\n",
            "|      T. Barnetta|        74|\n",
            "|          Wallace|        26|\n",
            "|       A. Barreca|        42|\n",
            "|    Y. Benalouane|        39|\n",
            "|          Juankar|        64|\n",
            "|        D. Appiah|        38|\n",
            "|   Rafael Martins|        69|\n",
            "|          Granell|        77|\n",
            "|     A. Cornelius|        68|\n",
            "|         J. Henry|        75|\n",
            "|        M. Ozdoev|        69|\n",
            "|            Fábio|        58|\n",
            "|       T. Dingomé|        60|\n",
            "+-----------------+----------+\n",
            "only showing top 20 rows\n",
            "\n"
          ]
        }
      ]
    },
    {
      "cell_type": "markdown",
      "source": [
        "**filter on fifa_df DataFrame to select people older than 21**"
      ],
      "metadata": {
        "id": "Bm-v9FNsxPWy"
      }
    },
    {
      "cell_type": "code",
      "source": [
        "fifa_df.filter(fifa_df['age'] > 21).show()"
      ],
      "metadata": {
        "colab": {
          "base_uri": "https://localhost:8080/"
        },
        "id": "I8HfMxtbxQGi",
        "outputId": "12503da5-e669-4d80-ffc8-197e29d568ae"
      },
      "execution_count": null,
      "outputs": [
        {
          "output_type": "stream",
          "name": "stdout",
          "text": [
            "+---+-----------------+---+--------------------+-----------+--------------------+-------+---------+-------------------+--------------------+------+-----+-------+------------+----------+-------+-------+------------+---------+--------+-----+---------+---------+------------------+---------+-----------+----------+--------------+-----------+----------------+-------------+-------+------------+----------+-------+---------+-----------+---------+-------------+----------+--------------+------------+-------+---------------+--------+------+-------+----+----+----+----+----+------+----+----+----+----+----+----+----+----+----+----+-------------------+----+----+----+----+----+----+----+----+----+----+----+\n",
            "|_c0|             Name|Age|               Photo|Nationality|                Flag|Overall|Potential|               Club|           Club Logo| Value| Wage|Special|Acceleration|Aggression|Agility|Balance|Ball control|Composure|Crossing|Curve|Dribbling|Finishing|Free kick accuracy|GK diving|GK handling|GK kicking|GK positioning|GK reflexes|Heading accuracy|Interceptions|Jumping|Long passing|Long shots|Marking|Penalties|Positioning|Reactions|Short passing|Shot power|Sliding tackle|Sprint speed|Stamina|Standing tackle|Strength|Vision|Volleys| CAM|  CB| CDM|  CF|  CM|    ID| LAM|  LB| LCB| LCM| LDM|  LF|  LM|  LS|  LW| LWB|Preferred Positions| RAM|  RB| RCB| RCM| RDM|  RF|  RM|  RS|  RW| RWB|  ST|\n",
            "+---+-----------------+---+--------------------+-----------+--------------------+-------+---------+-------------------+--------------------+------+-----+-------+------------+----------+-------+-------+------------+---------+--------+-----+---------+---------+------------------+---------+-----------+----------+--------------+-----------+----------------+-------------+-------+------------+----------+-------+---------+-----------+---------+-------------+----------+--------------+------------+-------+---------------+--------+------+-------+----+----+----+----+----+------+----+----+----+----+----+----+----+----+----+----+-------------------+----+----+----+----+----+----+----+----+----+----+----+\n",
            "|  0|Cristiano Ronaldo| 32|https://cdn.sofif...|   Portugal|https://cdn.sofif...|     94|       94|     Real Madrid CF|https://cdn.sofif...|€95.5M|€565K|   2228|          89|        63|     89|     63|          93|       95|      85|   81|       91|       94|                76|        7|         11|        15|            14|         11|              88|           29|     95|          77|        92|     22|       85|         95|       96|           83|        94|            23|          91|     92|             31|      80|    85|     88|89.0|53.0|62.0|91.0|82.0| 20801|89.0|61.0|53.0|82.0|62.0|91.0|89.0|92.0|91.0|66.0|             ST LW |89.0|61.0|53.0|82.0|62.0|91.0|89.0|92.0|91.0|66.0|92.0|\n",
            "|  1|         L. Messi| 30|https://cdn.sofif...|  Argentina|https://cdn.sofif...|     93|       93|       FC Barcelona|https://cdn.sofif...| €105M|€565K|   2154|          92|        48|     90|     95|          95|       96|      77|   89|       97|       95|                90|        6|         11|        15|            14|          8|              71|           22|     68|          87|        88|     13|       74|         93|       95|           88|        85|            26|          87|     73|             28|      59|    90|     85|92.0|45.0|59.0|92.0|84.0|158023|92.0|57.0|45.0|84.0|59.0|92.0|90.0|88.0|91.0|62.0|                RW |92.0|57.0|45.0|84.0|59.0|92.0|90.0|88.0|91.0|62.0|88.0|\n",
            "|  2|           Neymar| 25|https://cdn.sofif...|     Brazil|https://cdn.sofif...|     92|       94|Paris Saint-Germain|https://cdn.sofif...| €123M|€280K|   2100|          94|        56|     96|     82|          95|       92|      75|   81|       96|       89|                84|        9|          9|        15|            15|         11|              62|           36|     61|          75|        77|     21|       81|         90|       88|           81|        80|            33|          90|     78|             24|      53|    80|     83|88.0|46.0|59.0|88.0|79.0|190871|88.0|59.0|46.0|79.0|59.0|88.0|87.0|84.0|89.0|64.0|                LW |88.0|59.0|46.0|79.0|59.0|88.0|87.0|84.0|89.0|64.0|84.0|\n",
            "|  3|        L. Suárez| 30|https://cdn.sofif...|    Uruguay|https://cdn.sofif...|     92|       92|       FC Barcelona|https://cdn.sofif...|  €97M|€510K|   2291|          88|        78|     86|     60|          91|       83|      77|   86|       86|       94|                84|       27|         25|        31|            33|         37|              77|           41|     69|          64|        86|     30|       85|         92|       93|           83|        87|            38|          77|     89|             45|      80|    84|     88|87.0|58.0|65.0|88.0|80.0|176580|87.0|64.0|58.0|80.0|65.0|88.0|85.0|88.0|87.0|68.0|                ST |87.0|64.0|58.0|80.0|65.0|88.0|85.0|88.0|87.0|68.0|88.0|\n",
            "|  4|         M. Neuer| 31|https://cdn.sofif...|    Germany|https://cdn.sofif...|     92|       92|   FC Bayern Munich|https://cdn.sofif...|  €61M|€230K|   1493|          58|        29|     52|     35|          48|       70|      15|   14|       30|       13|                11|       91|         90|        95|            91|         89|              25|           30|     78|          59|        16|     10|       47|         12|       85|           55|        25|            11|          61|     44|             10|      83|    70|     11|NULL|NULL|NULL|NULL|NULL|167495|NULL|NULL|NULL|NULL|NULL|NULL|NULL|NULL|NULL|NULL|                GK |NULL|NULL|NULL|NULL|NULL|NULL|NULL|NULL|NULL|NULL|NULL|\n",
            "|  5|   R. Lewandowski| 28|https://cdn.sofif...|     Poland|https://cdn.sofif...|     91|       91|   FC Bayern Munich|https://cdn.sofif...|  €92M|€355K|   2143|          79|        80|     78|     80|          89|       87|      62|   77|       85|       91|                84|       15|          6|        12|             8|         10|              85|           39|     84|          65|        83|     25|       81|         91|       91|           83|        88|            19|          83|     79|             42|      84|    78|     87|84.0|57.0|62.0|87.0|78.0|188545|84.0|58.0|57.0|78.0|62.0|87.0|82.0|88.0|84.0|61.0|                ST |84.0|58.0|57.0|78.0|62.0|87.0|82.0|88.0|84.0|61.0|88.0|\n",
            "|  6|           De Gea| 26|https://cdn.sofif...|      Spain|https://cdn.sofif...|     90|       92|  Manchester United|https://cdn.sofif...|€64.5M|€215K|   1458|          57|        38|     60|     43|          42|       64|      17|   21|       18|       13|                19|       90|         85|        87|            86|         90|              21|           30|     67|          51|        12|     13|       40|         12|       88|           50|        31|            13|          58|     40|             21|      64|    68|     13|NULL|NULL|NULL|NULL|NULL|193080|NULL|NULL|NULL|NULL|NULL|NULL|NULL|NULL|NULL|NULL|                GK |NULL|NULL|NULL|NULL|NULL|NULL|NULL|NULL|NULL|NULL|NULL|\n",
            "|  7|        E. Hazard| 26|https://cdn.sofif...|    Belgium|https://cdn.sofif...|     90|       91|            Chelsea|https://cdn.sofif...|€90.5M|€295K|   2096|          93|        54|     93|     91|          92|       87|      80|   82|       93|       83|                79|       11|         12|         6|             8|          8|              57|           41|     59|          81|        82|     25|       86|         85|       85|           86|        79|            22|          87|     79|             27|      65|    86|     79|88.0|47.0|61.0|87.0|81.0|183277|88.0|59.0|47.0|81.0|61.0|87.0|87.0|82.0|88.0|64.0|                LW |88.0|59.0|47.0|81.0|61.0|87.0|87.0|82.0|88.0|64.0|82.0|\n",
            "|  8|         T. Kroos| 27|https://cdn.sofif...|    Germany|https://cdn.sofif...|     90|       90|     Real Madrid CF|https://cdn.sofif...|  €79M|€340K|   2165|          60|        60|     71|     69|          89|       85|      85|   85|       79|       76|                84|       10|         11|        13|             7|         10|              54|           85|     32|          93|        90|     63|       73|         79|       86|           90|        87|            69|          52|     77|             82|      74|    88|     82|83.0|72.0|82.0|81.0|87.0|182521|83.0|76.0|72.0|87.0|82.0|81.0|81.0|77.0|80.0|78.0|            CDM CM |83.0|76.0|72.0|87.0|82.0|81.0|81.0|77.0|80.0|78.0|77.0|\n",
            "|  9|       G. Higuaín| 29|https://cdn.sofif...|  Argentina|https://cdn.sofif...|     90|       90|           Juventus|https://cdn.sofif...|  €77M|€275K|   1961|          78|        50|     75|     69|          85|       86|      68|   74|       84|       91|                62|        5|         12|         7|             5|         10|              86|           20|     79|          59|        82|     12|       70|         92|       88|           75|        88|            18|          80|     72|             22|      85|    70|     88|81.0|46.0|52.0|84.0|71.0|167664|81.0|51.0|46.0|71.0|52.0|84.0|79.0|87.0|82.0|55.0|                ST |81.0|51.0|46.0|71.0|52.0|84.0|79.0|87.0|82.0|55.0|87.0|\n",
            "| 10|     Sergio Ramos| 31|https://cdn.sofif...|      Spain|https://cdn.sofif...|     90|       90|     Real Madrid CF|https://cdn.sofif...|  €52M|€310K|   2153|          75|        84|     79|     60|          84|       80|      66|   73|       61|       60|                67|       11|          8|         9|             7|         11|              91|           88|     93|          72|        55|     86|       68|         52|       85|           78|        79|            91|          77|     84|             89|      81|    63|     66|70.0|87.0|83.0|70.0|74.0|155862|70.0|84.0|87.0|74.0|83.0|70.0|71.0|72.0|69.0|81.0|                CB |70.0|84.0|87.0|74.0|83.0|70.0|71.0|72.0|69.0|81.0|72.0|\n",
            "| 11|     K. De Bruyne| 26|https://cdn.sofif...|    Belgium|https://cdn.sofif...|     89|       92|    Manchester City|https://cdn.sofif...|  €83M|€285K|   2162|          76|        68|     80|     75|          87|       84|      90|   83|       85|       83|                83|       15|         13|         5|            10|         13|              53|           56|     65|          84|        86|     30|       77|         84|       88|           90|        85|            40|          75|     87|             51|      73|    90|     82|86.0|57.0|70.0|85.0|84.0|192985|86.0|66.0|57.0|84.0|70.0|85.0|85.0|81.0|85.0|71.0|         RM CM CAM |86.0|66.0|57.0|84.0|70.0|85.0|85.0|81.0|85.0|71.0|81.0|\n",
            "| 12|      T. Courtois| 25|https://cdn.sofif...|    Belgium|https://cdn.sofif...|     89|       92|            Chelsea|https://cdn.sofif...|  €59M|€190K|   1282|          46|        23|     61|     45|          23|       52|      14|   19|       13|       14|                11|       85|         91|        69|            86|         88|              13|           15|     68|          31|        17|     11|       27|         13|       81|           32|        36|            16|          52|     38|             18|      70|    44|     12|NULL|NULL|NULL|NULL|NULL|192119|NULL|NULL|NULL|NULL|NULL|NULL|NULL|NULL|NULL|NULL|                GK |NULL|NULL|NULL|NULL|NULL|NULL|NULL|NULL|NULL|NULL|NULL|\n",
            "| 13|       A. Sánchez| 28|https://cdn.sofif...|      Chile|https://cdn.sofif...|     89|       89|            Arsenal|https://cdn.sofif...|€67.5M|€265K|   2181|          88|        80|     90|     87|          87|       86|      80|   78|       90|       85|                78|       10|         10|        15|            12|         13|              70|           42|     85|          73|        82|     30|       77|         86|       87|           81|        84|            35|          84|     85|             39|      72|    83|     83|85.0|56.0|64.0|85.0|79.0|184941|85.0|62.0|56.0|79.0|64.0|85.0|85.0|83.0|86.0|66.0|       RM LW ST LM |85.0|62.0|56.0|79.0|64.0|85.0|85.0|83.0|86.0|66.0|83.0|\n",
            "| 14|        L. Modrić| 31|https://cdn.sofif...|    Croatia|https://cdn.sofif...|     89|       89|     Real Madrid CF|https://cdn.sofif...|  €57M|€340K|   2228|          75|        62|     93|     94|          92|       84|      78|   79|       86|       71|                77|       13|          9|         7|            14|          9|              55|           76|     67|          83|        82|     66|       80|         79|       88|           92|        73|            73|          71|     82|             80|      58|    90|     74|86.0|72.0|80.0|83.0|86.0|177003|86.0|78.0|72.0|86.0|80.0|83.0|84.0|76.0|83.0|80.0|            CDM CM |86.0|78.0|72.0|86.0|80.0|83.0|84.0|76.0|83.0|80.0|76.0|\n",
            "| 15|          G. Bale| 27|https://cdn.sofif...|      Wales|https://cdn.sofif...|     89|       89|     Real Madrid CF|https://cdn.sofif...|€69.5M|€370K|   2263|          93|        65|     77|     65|          87|       85|      87|   86|       89|       87|                85|       15|         15|        11|             5|          6|              86|           59|     85|          80|        90|     51|       76|         86|       87|           86|        91|            52|          95|     76|             55|      80|    79|     76|86.0|67.0|71.0|87.0|81.0|173731|86.0|72.0|67.0|81.0|71.0|87.0|87.0|87.0|87.0|74.0|                RW |86.0|72.0|67.0|81.0|71.0|87.0|87.0|87.0|87.0|74.0|87.0|\n",
            "| 16|        S. Agüero| 29|https://cdn.sofif...|  Argentina|https://cdn.sofif...|     89|       89|    Manchester City|https://cdn.sofif...|€66.5M|€325K|   2074|          90|        63|     86|     91|          89|       90|      70|   82|       89|       90|                72|       13|         15|         6|            11|         14|              68|           24|     80|          63|        83|     13|       83|         91|       89|           79|        88|            12|          84|     74|             20|      74|    83|     85|85.0|44.0|54.0|87.0|75.0|153079|85.0|52.0|44.0|75.0|54.0|87.0|84.0|86.0|86.0|57.0|                ST |85.0|52.0|44.0|75.0|54.0|87.0|84.0|86.0|86.0|57.0|86.0|\n",
            "| 17|     G. Chiellini| 32|https://cdn.sofif...|      Italy|https://cdn.sofif...|     89|       89|           Juventus|https://cdn.sofif...|  €38M|€225K|   1867|          68|        92|     59|     64|          57|       82|      58|   60|       58|       33|                31|        3|          3|         2|             4|          3|              84|           88|     89|          59|        49|     92|       50|         28|       82|           59|        78|            90|          78|     68|             92|      91|    50|     45|55.0|86.0|76.0|55.0|60.0|138956|55.0|78.0|86.0|60.0|76.0|55.0|58.0|59.0|56.0|75.0|                CB |55.0|78.0|86.0|60.0|76.0|55.0|58.0|59.0|56.0|75.0|59.0|\n",
            "| 18|        G. Buffon| 39|https://cdn.sofif...|      Italy|https://cdn.sofif...|     89|       89|           Juventus|https://cdn.sofif...| €4.5M|€110K|   1335|          49|        38|     55|     49|          28|       70|      13|   20|       26|       15|                13|       89|         88|        74|            90|         84|              13|           28|     75|          35|        13|     10|       22|         12|       80|           37|        39|            11|          43|     39|             11|      69|    50|     17|NULL|NULL|NULL|NULL|NULL|  1179|NULL|NULL|NULL|NULL|NULL|NULL|NULL|NULL|NULL|NULL|                GK |NULL|NULL|NULL|NULL|NULL|NULL|NULL|NULL|NULL|NULL|NULL|\n",
            "| 19|        P. Dybala| 23|https://cdn.sofif...|  Argentina|https://cdn.sofif...|     88|       93|           Juventus|https://cdn.sofif...|  €79M|€215K|   2063|          88|        48|     91|     85|          93|       84|      80|   88|       92|       85|                84|        5|          4|         4|             5|          8|              68|           24|     75|          71|        88|     14|       86|         84|       84|           83|        82|            20|          84|     83|             20|      65|    84|     88|86.0|43.0|55.0|86.0|78.0|211110|86.0|55.0|43.0|78.0|55.0|86.0|86.0|83.0|87.0|60.0|            ST CAM |86.0|55.0|43.0|78.0|55.0|86.0|86.0|83.0|87.0|60.0|83.0|\n",
            "+---+-----------------+---+--------------------+-----------+--------------------+-------+---------+-------------------+--------------------+------+-----+-------+------------+----------+-------+-------+------------+---------+--------+-----+---------+---------+------------------+---------+-----------+----------+--------------+-----------+----------------+-------------+-------+------------+----------+-------+---------+-----------+---------+-------------+----------+--------------+------------+-------+---------------+--------+------+-------+----+----+----+----+----+------+----+----+----+----+----+----+----+----+----+----+-------------------+----+----+----+----+----+----+----+----+----+----+----+\n",
            "only showing top 20 rows\n",
            "\n"
          ]
        }
      ]
    },
    {
      "cell_type": "code",
      "source": [
        "#Count the number of players by age\n",
        "fifa_df.groupBy(\"age\").count().show()"
      ],
      "metadata": {
        "colab": {
          "base_uri": "https://localhost:8080/"
        },
        "id": "J-x0yiRgxZZL",
        "outputId": "f8fb72ce-651a-427e-bb12-ddb4f33203ec"
      },
      "execution_count": null,
      "outputs": [
        {
          "output_type": "stream",
          "name": "stdout",
          "text": [
            "+---+-----+\n",
            "|age|count|\n",
            "+---+-----+\n",
            "| 31|  671|\n",
            "| 34|  272|\n",
            "| 28| 1051|\n",
            "| 26| 1202|\n",
            "| 27| 1152|\n",
            "| 44|    2|\n",
            "| 22| 1324|\n",
            "| 16|   13|\n",
            "| 20| 1245|\n",
            "| 40|    8|\n",
            "| 19| 1069|\n",
            "| 41|    3|\n",
            "| 37|   69|\n",
            "| 17|  258|\n",
            "| 35|  191|\n",
            "| 39|   20|\n",
            "| 23| 1394|\n",
            "| 38|   36|\n",
            "| 25| 1522|\n",
            "| 24| 1334|\n",
            "+---+-----+\n",
            "only showing top 20 rows\n",
            "\n"
          ]
        }
      ]
    },
    {
      "cell_type": "markdown",
      "source": [
        "**SQL Queries and Visualisation**"
      ],
      "metadata": {
        "id": "B2jjgJ7txwtE"
      }
    },
    {
      "cell_type": "code",
      "source": [
        "#Register the dataframe as a SQL temporary view\n",
        "fifa_df.createOrReplaceTempView(\"FifaView\")"
      ],
      "metadata": {
        "id": "1es-VCFuxx_U"
      },
      "execution_count": null,
      "outputs": []
    },
    {
      "cell_type": "code",
      "source": [
        "#Retrieving the content from the dataset\n",
        "sqlDF = spark.sql(\"SELECT * FROM FifaView\")\n",
        "sqlDF.show()"
      ],
      "metadata": {
        "colab": {
          "base_uri": "https://localhost:8080/"
        },
        "id": "Ar-enbNIyKCU",
        "outputId": "26449ebb-8e05-4fd2-d05b-a3cd43292c0e"
      },
      "execution_count": null,
      "outputs": [
        {
          "output_type": "stream",
          "name": "stdout",
          "text": [
            "+---+-----------------+---+--------------------+-----------+--------------------+-------+---------+-------------------+--------------------+------+-----+-------+------------+----------+-------+-------+------------+---------+--------+-----+---------+---------+------------------+---------+-----------+----------+--------------+-----------+----------------+-------------+-------+------------+----------+-------+---------+-----------+---------+-------------+----------+--------------+------------+-------+---------------+--------+------+-------+----+----+----+----+----+------+----+----+----+----+----+----+----+----+----+----+-------------------+----+----+----+----+----+----+----+----+----+----+----+\n",
            "|_c0|             Name|Age|               Photo|Nationality|                Flag|Overall|Potential|               Club|           Club Logo| Value| Wage|Special|Acceleration|Aggression|Agility|Balance|Ball control|Composure|Crossing|Curve|Dribbling|Finishing|Free kick accuracy|GK diving|GK handling|GK kicking|GK positioning|GK reflexes|Heading accuracy|Interceptions|Jumping|Long passing|Long shots|Marking|Penalties|Positioning|Reactions|Short passing|Shot power|Sliding tackle|Sprint speed|Stamina|Standing tackle|Strength|Vision|Volleys| CAM|  CB| CDM|  CF|  CM|    ID| LAM|  LB| LCB| LCM| LDM|  LF|  LM|  LS|  LW| LWB|Preferred Positions| RAM|  RB| RCB| RCM| RDM|  RF|  RM|  RS|  RW| RWB|  ST|\n",
            "+---+-----------------+---+--------------------+-----------+--------------------+-------+---------+-------------------+--------------------+------+-----+-------+------------+----------+-------+-------+------------+---------+--------+-----+---------+---------+------------------+---------+-----------+----------+--------------+-----------+----------------+-------------+-------+------------+----------+-------+---------+-----------+---------+-------------+----------+--------------+------------+-------+---------------+--------+------+-------+----+----+----+----+----+------+----+----+----+----+----+----+----+----+----+----+-------------------+----+----+----+----+----+----+----+----+----+----+----+\n",
            "|  0|Cristiano Ronaldo| 32|https://cdn.sofif...|   Portugal|https://cdn.sofif...|     94|       94|     Real Madrid CF|https://cdn.sofif...|€95.5M|€565K|   2228|          89|        63|     89|     63|          93|       95|      85|   81|       91|       94|                76|        7|         11|        15|            14|         11|              88|           29|     95|          77|        92|     22|       85|         95|       96|           83|        94|            23|          91|     92|             31|      80|    85|     88|89.0|53.0|62.0|91.0|82.0| 20801|89.0|61.0|53.0|82.0|62.0|91.0|89.0|92.0|91.0|66.0|             ST LW |89.0|61.0|53.0|82.0|62.0|91.0|89.0|92.0|91.0|66.0|92.0|\n",
            "|  1|         L. Messi| 30|https://cdn.sofif...|  Argentina|https://cdn.sofif...|     93|       93|       FC Barcelona|https://cdn.sofif...| €105M|€565K|   2154|          92|        48|     90|     95|          95|       96|      77|   89|       97|       95|                90|        6|         11|        15|            14|          8|              71|           22|     68|          87|        88|     13|       74|         93|       95|           88|        85|            26|          87|     73|             28|      59|    90|     85|92.0|45.0|59.0|92.0|84.0|158023|92.0|57.0|45.0|84.0|59.0|92.0|90.0|88.0|91.0|62.0|                RW |92.0|57.0|45.0|84.0|59.0|92.0|90.0|88.0|91.0|62.0|88.0|\n",
            "|  2|           Neymar| 25|https://cdn.sofif...|     Brazil|https://cdn.sofif...|     92|       94|Paris Saint-Germain|https://cdn.sofif...| €123M|€280K|   2100|          94|        56|     96|     82|          95|       92|      75|   81|       96|       89|                84|        9|          9|        15|            15|         11|              62|           36|     61|          75|        77|     21|       81|         90|       88|           81|        80|            33|          90|     78|             24|      53|    80|     83|88.0|46.0|59.0|88.0|79.0|190871|88.0|59.0|46.0|79.0|59.0|88.0|87.0|84.0|89.0|64.0|                LW |88.0|59.0|46.0|79.0|59.0|88.0|87.0|84.0|89.0|64.0|84.0|\n",
            "|  3|        L. Suárez| 30|https://cdn.sofif...|    Uruguay|https://cdn.sofif...|     92|       92|       FC Barcelona|https://cdn.sofif...|  €97M|€510K|   2291|          88|        78|     86|     60|          91|       83|      77|   86|       86|       94|                84|       27|         25|        31|            33|         37|              77|           41|     69|          64|        86|     30|       85|         92|       93|           83|        87|            38|          77|     89|             45|      80|    84|     88|87.0|58.0|65.0|88.0|80.0|176580|87.0|64.0|58.0|80.0|65.0|88.0|85.0|88.0|87.0|68.0|                ST |87.0|64.0|58.0|80.0|65.0|88.0|85.0|88.0|87.0|68.0|88.0|\n",
            "|  4|         M. Neuer| 31|https://cdn.sofif...|    Germany|https://cdn.sofif...|     92|       92|   FC Bayern Munich|https://cdn.sofif...|  €61M|€230K|   1493|          58|        29|     52|     35|          48|       70|      15|   14|       30|       13|                11|       91|         90|        95|            91|         89|              25|           30|     78|          59|        16|     10|       47|         12|       85|           55|        25|            11|          61|     44|             10|      83|    70|     11|NULL|NULL|NULL|NULL|NULL|167495|NULL|NULL|NULL|NULL|NULL|NULL|NULL|NULL|NULL|NULL|                GK |NULL|NULL|NULL|NULL|NULL|NULL|NULL|NULL|NULL|NULL|NULL|\n",
            "|  5|   R. Lewandowski| 28|https://cdn.sofif...|     Poland|https://cdn.sofif...|     91|       91|   FC Bayern Munich|https://cdn.sofif...|  €92M|€355K|   2143|          79|        80|     78|     80|          89|       87|      62|   77|       85|       91|                84|       15|          6|        12|             8|         10|              85|           39|     84|          65|        83|     25|       81|         91|       91|           83|        88|            19|          83|     79|             42|      84|    78|     87|84.0|57.0|62.0|87.0|78.0|188545|84.0|58.0|57.0|78.0|62.0|87.0|82.0|88.0|84.0|61.0|                ST |84.0|58.0|57.0|78.0|62.0|87.0|82.0|88.0|84.0|61.0|88.0|\n",
            "|  6|           De Gea| 26|https://cdn.sofif...|      Spain|https://cdn.sofif...|     90|       92|  Manchester United|https://cdn.sofif...|€64.5M|€215K|   1458|          57|        38|     60|     43|          42|       64|      17|   21|       18|       13|                19|       90|         85|        87|            86|         90|              21|           30|     67|          51|        12|     13|       40|         12|       88|           50|        31|            13|          58|     40|             21|      64|    68|     13|NULL|NULL|NULL|NULL|NULL|193080|NULL|NULL|NULL|NULL|NULL|NULL|NULL|NULL|NULL|NULL|                GK |NULL|NULL|NULL|NULL|NULL|NULL|NULL|NULL|NULL|NULL|NULL|\n",
            "|  7|        E. Hazard| 26|https://cdn.sofif...|    Belgium|https://cdn.sofif...|     90|       91|            Chelsea|https://cdn.sofif...|€90.5M|€295K|   2096|          93|        54|     93|     91|          92|       87|      80|   82|       93|       83|                79|       11|         12|         6|             8|          8|              57|           41|     59|          81|        82|     25|       86|         85|       85|           86|        79|            22|          87|     79|             27|      65|    86|     79|88.0|47.0|61.0|87.0|81.0|183277|88.0|59.0|47.0|81.0|61.0|87.0|87.0|82.0|88.0|64.0|                LW |88.0|59.0|47.0|81.0|61.0|87.0|87.0|82.0|88.0|64.0|82.0|\n",
            "|  8|         T. Kroos| 27|https://cdn.sofif...|    Germany|https://cdn.sofif...|     90|       90|     Real Madrid CF|https://cdn.sofif...|  €79M|€340K|   2165|          60|        60|     71|     69|          89|       85|      85|   85|       79|       76|                84|       10|         11|        13|             7|         10|              54|           85|     32|          93|        90|     63|       73|         79|       86|           90|        87|            69|          52|     77|             82|      74|    88|     82|83.0|72.0|82.0|81.0|87.0|182521|83.0|76.0|72.0|87.0|82.0|81.0|81.0|77.0|80.0|78.0|            CDM CM |83.0|76.0|72.0|87.0|82.0|81.0|81.0|77.0|80.0|78.0|77.0|\n",
            "|  9|       G. Higuaín| 29|https://cdn.sofif...|  Argentina|https://cdn.sofif...|     90|       90|           Juventus|https://cdn.sofif...|  €77M|€275K|   1961|          78|        50|     75|     69|          85|       86|      68|   74|       84|       91|                62|        5|         12|         7|             5|         10|              86|           20|     79|          59|        82|     12|       70|         92|       88|           75|        88|            18|          80|     72|             22|      85|    70|     88|81.0|46.0|52.0|84.0|71.0|167664|81.0|51.0|46.0|71.0|52.0|84.0|79.0|87.0|82.0|55.0|                ST |81.0|51.0|46.0|71.0|52.0|84.0|79.0|87.0|82.0|55.0|87.0|\n",
            "| 10|     Sergio Ramos| 31|https://cdn.sofif...|      Spain|https://cdn.sofif...|     90|       90|     Real Madrid CF|https://cdn.sofif...|  €52M|€310K|   2153|          75|        84|     79|     60|          84|       80|      66|   73|       61|       60|                67|       11|          8|         9|             7|         11|              91|           88|     93|          72|        55|     86|       68|         52|       85|           78|        79|            91|          77|     84|             89|      81|    63|     66|70.0|87.0|83.0|70.0|74.0|155862|70.0|84.0|87.0|74.0|83.0|70.0|71.0|72.0|69.0|81.0|                CB |70.0|84.0|87.0|74.0|83.0|70.0|71.0|72.0|69.0|81.0|72.0|\n",
            "| 11|     K. De Bruyne| 26|https://cdn.sofif...|    Belgium|https://cdn.sofif...|     89|       92|    Manchester City|https://cdn.sofif...|  €83M|€285K|   2162|          76|        68|     80|     75|          87|       84|      90|   83|       85|       83|                83|       15|         13|         5|            10|         13|              53|           56|     65|          84|        86|     30|       77|         84|       88|           90|        85|            40|          75|     87|             51|      73|    90|     82|86.0|57.0|70.0|85.0|84.0|192985|86.0|66.0|57.0|84.0|70.0|85.0|85.0|81.0|85.0|71.0|         RM CM CAM |86.0|66.0|57.0|84.0|70.0|85.0|85.0|81.0|85.0|71.0|81.0|\n",
            "| 12|      T. Courtois| 25|https://cdn.sofif...|    Belgium|https://cdn.sofif...|     89|       92|            Chelsea|https://cdn.sofif...|  €59M|€190K|   1282|          46|        23|     61|     45|          23|       52|      14|   19|       13|       14|                11|       85|         91|        69|            86|         88|              13|           15|     68|          31|        17|     11|       27|         13|       81|           32|        36|            16|          52|     38|             18|      70|    44|     12|NULL|NULL|NULL|NULL|NULL|192119|NULL|NULL|NULL|NULL|NULL|NULL|NULL|NULL|NULL|NULL|                GK |NULL|NULL|NULL|NULL|NULL|NULL|NULL|NULL|NULL|NULL|NULL|\n",
            "| 13|       A. Sánchez| 28|https://cdn.sofif...|      Chile|https://cdn.sofif...|     89|       89|            Arsenal|https://cdn.sofif...|€67.5M|€265K|   2181|          88|        80|     90|     87|          87|       86|      80|   78|       90|       85|                78|       10|         10|        15|            12|         13|              70|           42|     85|          73|        82|     30|       77|         86|       87|           81|        84|            35|          84|     85|             39|      72|    83|     83|85.0|56.0|64.0|85.0|79.0|184941|85.0|62.0|56.0|79.0|64.0|85.0|85.0|83.0|86.0|66.0|       RM LW ST LM |85.0|62.0|56.0|79.0|64.0|85.0|85.0|83.0|86.0|66.0|83.0|\n",
            "| 14|        L. Modrić| 31|https://cdn.sofif...|    Croatia|https://cdn.sofif...|     89|       89|     Real Madrid CF|https://cdn.sofif...|  €57M|€340K|   2228|          75|        62|     93|     94|          92|       84|      78|   79|       86|       71|                77|       13|          9|         7|            14|          9|              55|           76|     67|          83|        82|     66|       80|         79|       88|           92|        73|            73|          71|     82|             80|      58|    90|     74|86.0|72.0|80.0|83.0|86.0|177003|86.0|78.0|72.0|86.0|80.0|83.0|84.0|76.0|83.0|80.0|            CDM CM |86.0|78.0|72.0|86.0|80.0|83.0|84.0|76.0|83.0|80.0|76.0|\n",
            "| 15|          G. Bale| 27|https://cdn.sofif...|      Wales|https://cdn.sofif...|     89|       89|     Real Madrid CF|https://cdn.sofif...|€69.5M|€370K|   2263|          93|        65|     77|     65|          87|       85|      87|   86|       89|       87|                85|       15|         15|        11|             5|          6|              86|           59|     85|          80|        90|     51|       76|         86|       87|           86|        91|            52|          95|     76|             55|      80|    79|     76|86.0|67.0|71.0|87.0|81.0|173731|86.0|72.0|67.0|81.0|71.0|87.0|87.0|87.0|87.0|74.0|                RW |86.0|72.0|67.0|81.0|71.0|87.0|87.0|87.0|87.0|74.0|87.0|\n",
            "| 16|        S. Agüero| 29|https://cdn.sofif...|  Argentina|https://cdn.sofif...|     89|       89|    Manchester City|https://cdn.sofif...|€66.5M|€325K|   2074|          90|        63|     86|     91|          89|       90|      70|   82|       89|       90|                72|       13|         15|         6|            11|         14|              68|           24|     80|          63|        83|     13|       83|         91|       89|           79|        88|            12|          84|     74|             20|      74|    83|     85|85.0|44.0|54.0|87.0|75.0|153079|85.0|52.0|44.0|75.0|54.0|87.0|84.0|86.0|86.0|57.0|                ST |85.0|52.0|44.0|75.0|54.0|87.0|84.0|86.0|86.0|57.0|86.0|\n",
            "| 17|     G. Chiellini| 32|https://cdn.sofif...|      Italy|https://cdn.sofif...|     89|       89|           Juventus|https://cdn.sofif...|  €38M|€225K|   1867|          68|        92|     59|     64|          57|       82|      58|   60|       58|       33|                31|        3|          3|         2|             4|          3|              84|           88|     89|          59|        49|     92|       50|         28|       82|           59|        78|            90|          78|     68|             92|      91|    50|     45|55.0|86.0|76.0|55.0|60.0|138956|55.0|78.0|86.0|60.0|76.0|55.0|58.0|59.0|56.0|75.0|                CB |55.0|78.0|86.0|60.0|76.0|55.0|58.0|59.0|56.0|75.0|59.0|\n",
            "| 18|        G. Buffon| 39|https://cdn.sofif...|      Italy|https://cdn.sofif...|     89|       89|           Juventus|https://cdn.sofif...| €4.5M|€110K|   1335|          49|        38|     55|     49|          28|       70|      13|   20|       26|       15|                13|       89|         88|        74|            90|         84|              13|           28|     75|          35|        13|     10|       22|         12|       80|           37|        39|            11|          43|     39|             11|      69|    50|     17|NULL|NULL|NULL|NULL|NULL|  1179|NULL|NULL|NULL|NULL|NULL|NULL|NULL|NULL|NULL|NULL|                GK |NULL|NULL|NULL|NULL|NULL|NULL|NULL|NULL|NULL|NULL|NULL|\n",
            "| 19|        P. Dybala| 23|https://cdn.sofif...|  Argentina|https://cdn.sofif...|     88|       93|           Juventus|https://cdn.sofif...|  €79M|€215K|   2063|          88|        48|     91|     85|          93|       84|      80|   88|       92|       85|                84|        5|          4|         4|             5|          8|              68|           24|     75|          71|        88|     14|       86|         84|       84|           83|        82|            20|          84|     83|             20|      65|    84|     88|86.0|43.0|55.0|86.0|78.0|211110|86.0|55.0|43.0|78.0|55.0|86.0|86.0|83.0|87.0|60.0|            ST CAM |86.0|55.0|43.0|78.0|55.0|86.0|86.0|83.0|87.0|60.0|83.0|\n",
            "+---+-----------------+---+--------------------+-----------+--------------------+-------+---------+-------------------+--------------------+------+-----+-------+------------+----------+-------+-------+------------+---------+--------+-----+---------+---------+------------------+---------+-----------+----------+--------------+-----------+----------------+-------------+-------+------------+----------+-------+---------+-----------+---------+-------------+----------+--------------+------------+-------+---------------+--------+------+-------+----+----+----+----+----+------+----+----+----+----+----+----+----+----+----+----+-------------------+----+----+----+----+----+----+----+----+----+----+----+\n",
            "only showing top 20 rows\n",
            "\n"
          ]
        }
      ]
    },
    {
      "cell_type": "code",
      "source": [
        "#counting the number of players by age\n",
        "sqlDF = spark.sql(\"SELECT age, count(*) as count from FifaView GROUP BY age\")\n",
        "sqlDF.show()"
      ],
      "metadata": {
        "colab": {
          "base_uri": "https://localhost:8080/"
        },
        "id": "wwO2IE-OykKl",
        "outputId": "fa1e9757-d3d6-419c-fe21-5c5f0f8b094f"
      },
      "execution_count": null,
      "outputs": [
        {
          "output_type": "stream",
          "name": "stdout",
          "text": [
            "+---+-----+\n",
            "|age|count|\n",
            "+---+-----+\n",
            "| 31|  671|\n",
            "| 34|  272|\n",
            "| 28| 1051|\n",
            "| 26| 1202|\n",
            "| 27| 1152|\n",
            "| 44|    2|\n",
            "| 22| 1324|\n",
            "| 16|   13|\n",
            "| 20| 1245|\n",
            "| 40|    8|\n",
            "| 19| 1069|\n",
            "| 41|    3|\n",
            "| 37|   69|\n",
            "| 17|  258|\n",
            "| 35|  191|\n",
            "| 39|   20|\n",
            "| 23| 1394|\n",
            "| 38|   36|\n",
            "| 25| 1522|\n",
            "| 24| 1334|\n",
            "+---+-----+\n",
            "only showing top 20 rows\n",
            "\n"
          ]
        }
      ]
    },
    {
      "cell_type": "code",
      "source": [
        "#import required libraries\n",
        "import numpy as np\n",
        "import matplotlib.pyplot as plt\n",
        "import pandas as pd\n",
        "\n",
        "#converting the SQL dataframe to pandas dataframe\n",
        "pandas_df = sqlDF.toPandas()\n",
        "\n",
        "#Plot the bar chart\n",
        "pandas_df.plot(x='age',y='count',kind = 'bar')"
      ],
      "metadata": {
        "colab": {
          "base_uri": "https://localhost:8080/",
          "height": 470
        },
        "id": "-urB22qRzzKZ",
        "outputId": "dfe6d903-1ee8-4522-8994-ca1c91829de5"
      },
      "execution_count": null,
      "outputs": [
        {
          "output_type": "execute_result",
          "data": {
            "text/plain": [
              "<Axes: xlabel='age'>"
            ]
          },
          "metadata": {},
          "execution_count": 52
        },
        {
          "output_type": "display_data",
          "data": {
            "text/plain": [
              "<Figure size 640x480 with 1 Axes>"
            ],
            "image/png": "[encoded data removed]"
          },
          "metadata": {}
        }
      ]
    },
    {
      "cell_type": "code",
      "source": [
        "#order the output by adding the sort.value ()\n",
        "\n",
        "pandas_df.sort_values(by='age',ascending=True).plot(x='age',y='count',kind='bar')"
      ],
      "metadata": {
        "colab": {
          "base_uri": "https://localhost:8080/",
          "height": 470
        },
        "id": "t-opf2cy1J9F",
        "outputId": "02398776-8aa0-4c4d-99e6-b23af990a9d0"
      },
      "execution_count": null,
      "outputs": [
        {
          "output_type": "execute_result",
          "data": {
            "text/plain": [
              "<Axes: xlabel='age'>"
            ]
          },
          "metadata": {},
          "execution_count": 53
        },
        {
          "output_type": "display_data",
          "data": {
            "text/plain": [
              "<Figure size 640x480 with 1 Axes>"
            ],
            "image/png": "[encoded data removed]"
          },
          "metadata": {}
        }
      ]
    },
    {
      "cell_type": "markdown",
      "source": [
        "**Count the number of players in each club**"
      ],
      "metadata": {
        "id": "4D2_yk_911Gm"
      }
    },
    {
      "cell_type": "code",
      "source": [
        "sqlDF = spark.sql(\"SELECT club, count(*) FROM FifaView GROUP BY club\")\n",
        "sqlDF.show()"
      ],
      "metadata": {
        "colab": {
          "base_uri": "https://localhost:8080/"
        },
        "id": "qoVEDcwH11xW",
        "outputId": "98eb3fa4-da48-4baa-8fca-5c85b03d9e7e"
      },
      "execution_count": null,
      "outputs": [
        {
          "output_type": "stream",
          "name": "stdout",
          "text": [
            "+--------------------+--------+\n",
            "|                club|count(1)|\n",
            "+--------------------+--------+\n",
            "|             Palermo|      28|\n",
            "|         Yeovil Town|      21|\n",
            "|  1. FC Union Berlin|      27|\n",
            "|  Santiago Wanderers|      20|\n",
            "|               Carpi|      30|\n",
            "|Evkur Yeni Malaty...|      30|\n",
            "|          Sagan Tosu|      25|\n",
            "|            FC Basel|      25|\n",
            "|  Argentinos Juniors|      28|\n",
            "|       Karlsruher SC|      27|\n",
            "|  Lorca Deportiva CF|      29|\n",
            "|     SC Paderborn 07|      28|\n",
            "|     Cheltenham Town|      28|\n",
            "|San Lorenzo de Al...|      28|\n",
            "|         SC Freiburg|      32|\n",
            "|  SpVgg Unterhaching|      28|\n",
            "|Atletico Nacional...|      28|\n",
            "|Universidad Católica|      20|\n",
            "|         GFC Ajaccio|      25|\n",
            "|           FC Luzern|      27|\n",
            "+--------------------+--------+\n",
            "only showing top 20 rows\n",
            "\n"
          ]
        }
      ]
    },
    {
      "cell_type": "markdown",
      "source": [
        "Count the number of players in each club and displays those have more than 33\n",
        "members **bold text**"
      ],
      "metadata": {
        "id": "mE7HU2iN2UI3"
      }
    },
    {
      "cell_type": "code",
      "source": [
        "sqlDF = spark.sql(\"Select club, count(*) FROM FifaView GROUP BY club HAVING Count(*) > 33\")\n",
        "sqlDF.show()"
      ],
      "metadata": {
        "colab": {
          "base_uri": "https://localhost:8080/"
        },
        "id": "6vzZh50M2Us3",
        "outputId": "05f56da9-157e-4dd6-d717-6be60ec07f1b"
      },
      "execution_count": null,
      "outputs": [
        {
          "output_type": "stream",
          "name": "stdout",
          "text": [
            "+------------------+--------+\n",
            "|              club|count(1)|\n",
            "+------------------+--------+\n",
            "| Manchester United|      34|\n",
            "|     UD Las Palmas|      34|\n",
            "|              NULL|     248|\n",
            "|Olympique Lyonnais|      34|\n",
            "|     VfL Wolfsburg|      34|\n",
            "|          OGC Nice|      34|\n",
            "|     Villarreal CF|      35|\n",
            "|         FC Nantes|      34|\n",
            "| Borussia Dortmund|      34|\n",
            "+------------------+--------+\n",
            "\n"
          ]
        }
      ]
    },
    {
      "cell_type": "code",
      "source": [
        "# output as a bar graph\n",
        "pandas_df = sqlDF.toPandas()\n",
        "pandas_df.plot(x='club',y='count(1)',kind='pie')"
      ],
      "metadata": {
        "colab": {
          "base_uri": "https://localhost:8080/",
          "height": 423
        },
        "id": "ztyZ25Jz2t2y",
        "outputId": "997e74a9-13f1-4c38-f5df-9d2bc738fcbe"
      },
      "execution_count": null,
      "outputs": [
        {
          "output_type": "execute_result",
          "data": {
            "text/plain": [
              "<Axes: ylabel='count(1)'>"
            ]
          },
          "metadata": {},
          "execution_count": 56
        },
        {
          "output_type": "display_data",
          "data": {
            "text/plain": [
              "<Figure size 640x480 with 1 Axes>"
            ],
            "image/png": "[encoded data removed]"
          },
          "metadata": {}
        }
      ]
    },
    {
      "cell_type": "code",
      "source": [
        "%%shell\n",
        "jupyter nbconvert --to html /content/Tutorial5_FIFA18.ipynb"
      ],
      "metadata": {
        "colab": {
          "base_uri": "https://localhost:8080/"
        },
        "id": "tJ6qTBb95cLJ",
        "outputId": "8215f690-0481-4f3a-97a5-215bd9dd63a0"
      },
      "execution_count": null,
      "outputs": [
        {
          "output_type": "stream",
          "name": "stdout",
          "text": [
            "[NbConvertApp] Converting notebook /content/Tutorial5_FIFA18.ipynb to html\n",
            "[NbConvertApp] Writing 731645 bytes to /content/Tutorial5_FIFA18.html\n"
          ]
        },
        {
          "output_type": "execute_result",
          "data": {
            "text/plain": []
          },
          "metadata": {},
          "execution_count": 58
        }
      ]
    }
  ]
}