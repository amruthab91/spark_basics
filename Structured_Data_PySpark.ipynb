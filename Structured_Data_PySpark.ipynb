{
  "nbformat": 4,
  "nbformat_minor": 0,
  "metadata": {
    "colab": {
      "provenance": []
    },
    "kernelspec": {
      "name": "python3",
      "display_name": "Python 3"
    }
  },
  "cells": [
    {
      "cell_type": "markdown",
      "metadata": {
        "id": "jil_2aqplrgb"
      },
      "source": [
        "# **Tutorial: Best Hands-on Structured Data Analysis using PySpark RDD and DF**\n",
        "\n",
        "## Week 9 - Big Data Analytics - CN7031\n",
        "\n",
        "**`Dr Amin Karami, UEL UK - Docklands Campus`**\n",
        "\n",
        "`E: a.karami@uel.ac.uk`\n",
        "\n",
        "`W: https://www.youtube.com/@AminKarami`\n",
        "\n",
        "`W: www.aminkarami.com`\n",
        "\n",
        "---\n",
        "\n",
        "\n",
        "**Learning outcomes:**\n",
        "- `Performance Comparison`: gain an understanding of the performance differences between PySpark RDD and DataFrame in various scenarios.\n",
        "- `Complex Task Handling`: learn how to handle complex tasks using PySpark RDD and DataFrame. The examples provided illustrate scenarios involving multiple transformations and actions, helping learners grasp the capabilities and efficiency of each approach in different use cases."
      ]
    },
    {
      "cell_type": "code",
      "metadata": {
        "id": "VABP7EUIzlHs",
        "colab": {
          "base_uri": "https://localhost:8080/"
        },
        "outputId": "3d56bdd2-3ade-41b2-f99b-6efac3a9f975"
      },
      "source": [
        "!pip3 install pyspark"
      ],
      "execution_count": null,
      "outputs": [
        {
          "output_type": "stream",
          "name": "stdout",
          "text": [
            "Collecting pyspark\n",
            "  Downloading pyspark-3.5.0.tar.gz (316.9 MB)\n",
            "\u001b[2K     \u001b[90m━━━━━━━━━━━━━━━━━━━━━━━━━━━━━━━━━━━━━━━━\u001b[0m \u001b[32m316.9/316.9 MB\u001b[0m \u001b[31m4.4 MB/s\u001b[0m eta \u001b[36m0:00:00\u001b[0m\n",
            "\u001b[?25h  Preparing metadata (setup.py) ... \u001b[?25l\u001b[?25hdone\n",
            "Requirement already satisfied: py4j==0.10.9.7 in /usr/local/lib/python3.10/dist-packages (from pyspark) (0.10.9.7)\n",
            "Building wheels for collected packages: pyspark\n",
            "  Building wheel for pyspark (setup.py) ... \u001b[?25l\u001b[?25hdone\n",
            "  Created wheel for pyspark: filename=pyspark-3.5.0-py2.py3-none-any.whl size=317425344 sha256=eb885a3c3413653a0347ec35ff917a7ed15ead0fd0f37be10fc47f01025fde58\n",
            "  Stored in directory: /root/.cache/pip/wheels/41/4e/10/c2cf2467f71c678cfc8a6b9ac9241e5e44a01940da8fbb17fc\n",
            "Successfully built pyspark\n",
            "Installing collected packages: pyspark\n",
            "Successfully installed pyspark-3.5.0\n"
          ]
        }
      ]
    },
    {
      "cell_type": "code",
      "metadata": {
        "id": "jOCZtkN1xtKZ",
        "colab": {
          "base_uri": "https://localhost:8080/"
        },
        "outputId": "4be97e38-0e22-4aea-b29a-1a7e8d84cd54"
      },
      "source": [
        "# Source: http://kdd.ics.uci.edu/databases/kddcup99/\n",
        "import urllib.request\n",
        "urllib.request.urlretrieve(\"http://kdd.ics.uci.edu/databases/kddcup99/kddcup.data.gz\", \"kddcup.data.gz\")\n",
        "\n",
        "######### if you faced with this error: \"HTTPError: HTTP Error 403: Forbidden\"\n",
        "######### download it manually from the Moodle site (week 8) and drag-drop in the \"Files\""
      ],
      "execution_count": null,
      "outputs": [
        {
          "output_type": "execute_result",
          "data": {
            "text/plain": [
              "('kddcup.data.gz', <http.client.HTTPMessage at 0x7cea77c68ee0>)"
            ]
          },
          "metadata": {},
          "execution_count": 2
        }
      ]
    },
    {
      "cell_type": "markdown",
      "source": [
        "# Load Data in RDD and DF"
      ],
      "metadata": {
        "id": "BwAQCdWGDlLT"
      }
    },
    {
      "cell_type": "code",
      "metadata": {
        "id": "b9eKqp92DDy_"
      },
      "source": [
        "from pyspark import SparkContext, SparkConf\n",
        "from pyspark.sql import SparkSession\n",
        "\n",
        "# Initialize Spark using conf\n",
        "conf = SparkConf()\n",
        "conf.set(\"spark.app.name\", \"RDDExample\")\n",
        "conf.set(\"spark.master\", \"local[*]\")\n",
        "sc = SparkContext(conf = conf)\n",
        "\n",
        "# Create a SparkSession\n",
        "spark = SparkSession.builder.appName(\"DFExample\").getOrCreate()"
      ],
      "execution_count": null,
      "outputs": []
    },
    {
      "cell_type": "code",
      "source": [
        "# Data reading in RDD\n",
        "data_rdd = sc.textFile(\"kddcup.data.gz\", 8)\n",
        "data_rdd.take(2)"
      ],
      "metadata": {
        "id": "_T-EgTkzY3Ci",
        "colab": {
          "base_uri": "https://localhost:8080/"
        },
        "outputId": "91101939-b26f-4ed8-e637-0ad03761aa39"
      },
      "execution_count": null,
      "outputs": [
        {
          "output_type": "execute_result",
          "data": {
            "text/plain": [
              "['0,tcp,http,SF,215,45076,0,0,0,0,0,1,0,0,0,0,0,0,0,0,0,0,1,1,0.00,0.00,0.00,0.00,1.00,0.00,0.00,0,0,0.00,0.00,0.00,0.00,0.00,0.00,0.00,0.00,normal.',\n",
              " '0,tcp,http,SF,162,4528,0,0,0,0,0,1,0,0,0,0,0,0,0,0,0,0,2,2,0.00,0.00,0.00,0.00,1.00,0.00,0.00,1,1,1.00,0.00,1.00,0.00,0.00,0.00,0.00,0.00,normal.']"
            ]
          },
          "metadata": {},
          "execution_count": 4
        }
      ]
    },
    {
      "cell_type": "code",
      "source": [
        "# Convert RDD to DataFrame: 42 features in KDDCup\n",
        "features = ['duration','protocol_type','service','flag','src_bytes','dst_bytes','land','wrong_fragment','urgent','hot','num_failed_logins','logged_in',\n",
        "            'num_compromised','root_shell','su_attempted','num_root','num_file_creations','num_shells','num_access_files','num_outbound_cmds','is_host_login',\n",
        "            'is_guest_login','count','srv_count','serror_rate','srv_serror_rate','rerror_rate','srv_rerror_rate','same_srv_rate','diff_srv_rate',\n",
        "            'srv_diff_host_rate','dst_host_count','dst_host_srv_count','dst_host_same_srv_rate','dst_host_diff_srv_rate','dst_host_same_src_port_rate',\n",
        "            'dst_host_srv_diff_host_rate','dst_host_serror_rate','dst_host_srv_serror_rate','dst_host_rerror_rate','dst_host_srv_rerror_rate','label']\n",
        "\n",
        "Split_rdd = data_rdd.map(lambda line: line.split(\",\"))\n",
        "data_df = spark.createDataFrame(Split_rdd, features)\n",
        "\n",
        "data_df.show(2)"
      ],
      "metadata": {
        "id": "UE5EokpI_5PQ",
        "colab": {
          "base_uri": "https://localhost:8080/"
        },
        "outputId": "1d50386f-e03a-46ef-8902-ee04ab5dd7cf"
      },
      "execution_count": null,
      "outputs": [
        {
          "output_type": "stream",
          "name": "stdout",
          "text": [
            "+--------+-------------+-------+----+---------+---------+----+--------------+------+---+-----------------+---------+---------------+----------+------------+--------+------------------+----------+----------------+-----------------+-------------+--------------+-----+---------+-----------+---------------+-----------+---------------+-------------+-------------+------------------+--------------+------------------+----------------------+----------------------+---------------------------+---------------------------+--------------------+------------------------+--------------------+------------------------+-------+\n",
            "|duration|protocol_type|service|flag|src_bytes|dst_bytes|land|wrong_fragment|urgent|hot|num_failed_logins|logged_in|num_compromised|root_shell|su_attempted|num_root|num_file_creations|num_shells|num_access_files|num_outbound_cmds|is_host_login|is_guest_login|count|srv_count|serror_rate|srv_serror_rate|rerror_rate|srv_rerror_rate|same_srv_rate|diff_srv_rate|srv_diff_host_rate|dst_host_count|dst_host_srv_count|dst_host_same_srv_rate|dst_host_diff_srv_rate|dst_host_same_src_port_rate|dst_host_srv_diff_host_rate|dst_host_serror_rate|dst_host_srv_serror_rate|dst_host_rerror_rate|dst_host_srv_rerror_rate|  label|\n",
            "+--------+-------------+-------+----+---------+---------+----+--------------+------+---+-----------------+---------+---------------+----------+------------+--------+------------------+----------+----------------+-----------------+-------------+--------------+-----+---------+-----------+---------------+-----------+---------------+-------------+-------------+------------------+--------------+------------------+----------------------+----------------------+---------------------------+---------------------------+--------------------+------------------------+--------------------+------------------------+-------+\n",
            "|       0|          tcp|   http|  SF|      215|    45076|   0|             0|     0|  0|                0|        1|              0|         0|           0|       0|                 0|         0|               0|                0|            0|             0|    1|        1|       0.00|           0.00|       0.00|           0.00|         1.00|         0.00|              0.00|             0|                 0|                  0.00|                  0.00|                       0.00|                       0.00|                0.00|                    0.00|                0.00|                    0.00|normal.|\n",
            "|       0|          tcp|   http|  SF|      162|     4528|   0|             0|     0|  0|                0|        1|              0|         0|           0|       0|                 0|         0|               0|                0|            0|             0|    2|        2|       0.00|           0.00|       0.00|           0.00|         1.00|         0.00|              0.00|             1|                 1|                  1.00|                  0.00|                       1.00|                       0.00|                0.00|                    0.00|                0.00|                    0.00|normal.|\n",
            "+--------+-------------+-------+----+---------+---------+----+--------------+------+---+-----------------+---------+---------------+----------+------------+--------+------------------+----------+----------------+-----------------+-------------+--------------+-----+---------+-----------+---------------+-----------+---------------+-------------+-------------+------------------+--------------+------------------+----------------------+----------------------+---------------------------+---------------------------+--------------------+------------------------+--------------------+------------------------+-------+\n",
            "only showing top 2 rows\n",
            "\n"
          ]
        }
      ]
    },
    {
      "cell_type": "markdown",
      "source": [
        "# Task 1: Count the number of records"
      ],
      "metadata": {
        "id": "X6WyaJcKZDei"
      }
    },
    {
      "cell_type": "code",
      "source": [
        "%%time\n",
        "print(\"RDD record count:\", data_rdd.count())"
      ],
      "metadata": {
        "id": "51fLGa6PXfNJ",
        "colab": {
          "base_uri": "https://localhost:8080/"
        },
        "outputId": "eeb87d24-9c2b-447c-9c57-501a8c5f50b6"
      },
      "execution_count": null,
      "outputs": [
        {
          "output_type": "stream",
          "name": "stdout",
          "text": [
            "RDD record count: 4898431\n",
            "CPU times: user 70.1 ms, sys: 8.81 ms, total: 78.9 ms\n",
            "Wall time: 10.1 s\n"
          ]
        }
      ]
    },
    {
      "cell_type": "code",
      "source": [
        "%%time\n",
        "print(\"DF record count:\", data_df.count())"
      ],
      "metadata": {
        "colab": {
          "base_uri": "https://localhost:8080/"
        },
        "id": "ywhgx0c25I7e",
        "outputId": "bc57f84d-b20c-4859-e346-7c810d3e4c6f"
      },
      "execution_count": null,
      "outputs": [
        {
          "output_type": "stream",
          "name": "stdout",
          "text": [
            "DF record count: 4898431\n",
            "CPU times: user 380 ms, sys: 45 ms, total: 425 ms\n",
            "Wall time: 1min 16s\n"
          ]
        }
      ]
    },
    {
      "cell_type": "code",
      "source": [
        "from pyspark import StorageLevel"
      ],
      "metadata": {
        "id": "FGp8UCaU7K6d"
      },
      "execution_count": null,
      "outputs": []
    },
    {
      "cell_type": "code",
      "source": [
        "%%time\n",
        "data_df.persist(StorageLevel.MEMORY_AND_DISK)\n",
        "data_df = data_df.repartition(8)\n",
        "print(\"DF record count:\", data_df.count())"
      ],
      "metadata": {
        "colab": {
          "base_uri": "https://localhost:8080/"
        },
        "id": "oSbv4EpQ7TLA",
        "outputId": "b8608b40-856f-44e6-ddd8-10e38303af86"
      },
      "execution_count": null,
      "outputs": [
        {
          "output_type": "stream",
          "name": "stdout",
          "text": [
            "DF record count: 4898431\n",
            "CPU times: user 751 ms, sys: 88.3 ms, total: 840 ms\n",
            "Wall time: 2min 29s\n"
          ]
        }
      ]
    },
    {
      "cell_type": "code",
      "source": [
        "%%time\n",
        "print(\"DF record count:\", data_df.count())"
      ],
      "metadata": {
        "colab": {
          "base_uri": "https://localhost:8080/"
        },
        "id": "xY_Dx09080oA",
        "outputId": "3759c02a-a6ce-4767-aa4b-3e3cc1530f3d"
      },
      "execution_count": null,
      "outputs": [
        {
          "output_type": "stream",
          "name": "stdout",
          "text": [
            "DF record count: 4898431\n",
            "CPU times: user 33.9 ms, sys: 2.99 ms, total: 36.8 ms\n",
            "Wall time: 5.86 s\n"
          ]
        }
      ]
    },
    {
      "cell_type": "code",
      "source": [
        "%%time\n",
        "data_rdd.persist(StorageLevel.MEMORY_AND_DISK)\n",
        "print(\"RDD record count:\", data_rdd.count())"
      ],
      "metadata": {
        "colab": {
          "base_uri": "https://localhost:8080/"
        },
        "id": "Sf-hMP819aXz",
        "outputId": "69b277e9-72a8-46c6-9e28-2beb66b744ba"
      },
      "execution_count": null,
      "outputs": [
        {
          "output_type": "stream",
          "name": "stdout",
          "text": [
            "RDD record count: 4898431\n",
            "CPU times: user 112 ms, sys: 15.3 ms, total: 127 ms\n",
            "Wall time: 18.8 s\n"
          ]
        }
      ]
    },
    {
      "cell_type": "markdown",
      "source": [
        "# Task 2: Filter the records including the protocol type `tcp`"
      ],
      "metadata": {
        "id": "-9K5t5d3DeF6"
      }
    },
    {
      "cell_type": "code",
      "source": [
        "%%time\n",
        "filtered_rdd = data_rdd.filter(lambda x: x.split(\",\")[1]=='tcp')\n",
        "\n",
        "filtered_count = filtered_rdd.count()\n",
        "\n",
        "print(\"number of records with TCP protocols\", filtered_count)"
      ],
      "metadata": {
        "id": "vWcmn1fVBBJQ",
        "colab": {
          "base_uri": "https://localhost:8080/"
        },
        "outputId": "ba113fd5-715b-4544-e998-c0f18924b1ac"
      },
      "execution_count": null,
      "outputs": [
        {
          "output_type": "stream",
          "name": "stdout",
          "text": [
            "number of records with TCP protocols 1870598\n",
            "CPU times: user 94.7 ms, sys: 15.7 ms, total: 110 ms\n",
            "Wall time: 16.7 s\n"
          ]
        }
      ]
    },
    {
      "cell_type": "code",
      "source": [
        "%%time\n",
        "filtered_df = data_df.filter(data_df.protocol_type.contains('tcp'))\n",
        "\n",
        "filtered_count = filtered_df.count()\n",
        "\n",
        "print(\"number of records with TCP protocols\", filtered_count)"
      ],
      "metadata": {
        "colab": {
          "base_uri": "https://localhost:8080/"
        },
        "id": "2kc-SPV6-xT3",
        "outputId": "6b7556f1-3f40-459d-e65d-fb48eae50350"
      },
      "execution_count": null,
      "outputs": [
        {
          "output_type": "stream",
          "name": "stdout",
          "text": [
            "number of records with TCP protocols 1870598\n",
            "CPU times: user 13.6 ms, sys: 993 µs, total: 14.6 ms\n",
            "Wall time: 2.13 s\n"
          ]
        }
      ]
    },
    {
      "cell_type": "markdown",
      "source": [
        "# Task 3: Find the `distinct types of services` in data"
      ],
      "metadata": {
        "id": "4tpep-xNDtn5"
      }
    },
    {
      "cell_type": "code",
      "source": [
        "%%time\n",
        "service_types_rdd = data_rdd.map(lambda line: line.split(\",\")[2])\n",
        "\n",
        "distinct_service_rdd = service_types_rdd.distinct().collect()\n",
        "\n",
        "print(\"distinct service types:\", distinct_service_rdd)"
      ],
      "metadata": {
        "id": "kXQtI3xvDPNd",
        "colab": {
          "base_uri": "https://localhost:8080/"
        },
        "outputId": "12ec3877-a12c-4f99-9c3e-7266ffdf9d02"
      },
      "execution_count": null,
      "outputs": [
        {
          "output_type": "stream",
          "name": "stdout",
          "text": [
            "distinct service types: ['http', 'smtp', 'domain_u', 'auth', 'finger', 'telnet', 'eco_i', 'ftp', 'ntp_u', 'ecr_i', 'other', 'urp_i', 'private', 'pop_3', 'ftp_data', 'netstat', 'daytime', 'ssh', 'echo', 'time', 'name', 'whois', 'domain', 'mtp', 'gopher', 'remote_job', 'rje', 'ctf', 'supdup', 'link', 'systat', 'discard', 'X11', 'shell', 'login', 'imap4', 'nntp', 'uucp', 'pm_dump', 'IRC', 'Z39_50', 'netbios_dgm', 'ldap', 'sunrpc', 'courier', 'exec', 'bgp', 'csnet_ns', 'http_443', 'klogin', 'printer', 'netbios_ssn', 'pop_2', 'nnsp', 'efs', 'hostnames', 'uucp_path', 'sql_net', 'vmnet', 'iso_tsap', 'netbios_ns', 'kshell', 'urh_i', 'http_2784', 'harvest', 'aol', 'tftp_u', 'http_8001', 'tim_i', 'red_i']\n",
            "CPU times: user 124 ms, sys: 11 ms, total: 135 ms\n",
            "Wall time: 21.5 s\n"
          ]
        }
      ]
    },
    {
      "cell_type": "code",
      "source": [
        "%%time\n",
        "distinct_service_df = data_df.select('service').distinct().show(truncate = False, n= data_df.count())\n",
        "print(\"distinct service types:\", distinct_service_df)"
      ],
      "metadata": {
        "colab": {
          "base_uri": "https://localhost:8080/"
        },
        "id": "xbAsljeuAafL",
        "outputId": "29009dce-2c0a-4266-95ef-c62fef8737af"
      },
      "execution_count": null,
      "outputs": [
        {
          "output_type": "stream",
          "name": "stdout",
          "text": [
            "+-----------+\n",
            "|service    |\n",
            "+-----------+\n",
            "|telnet     |\n",
            "|ftp        |\n",
            "|auth       |\n",
            "|iso_tsap   |\n",
            "|systat     |\n",
            "|name       |\n",
            "|sql_net    |\n",
            "|ntp_u      |\n",
            "|X11        |\n",
            "|pop_3      |\n",
            "|ldap       |\n",
            "|discard    |\n",
            "|tftp_u     |\n",
            "|Z39_50     |\n",
            "|daytime    |\n",
            "|domain_u   |\n",
            "|login      |\n",
            "|smtp       |\n",
            "|http_2784  |\n",
            "|mtp        |\n",
            "|domain     |\n",
            "|http       |\n",
            "|harvest    |\n",
            "|link       |\n",
            "|courier    |\n",
            "|kshell     |\n",
            "|pop_2      |\n",
            "|other      |\n",
            "|exec       |\n",
            "|nnsp       |\n",
            "|efs        |\n",
            "|IRC        |\n",
            "|pm_dump    |\n",
            "|private    |\n",
            "|urh_i      |\n",
            "|ftp_data   |\n",
            "|whois      |\n",
            "|nntp       |\n",
            "|netbios_ns |\n",
            "|klogin     |\n",
            "|shell      |\n",
            "|red_i      |\n",
            "|tim_i      |\n",
            "|uucp_path  |\n",
            "|eco_i      |\n",
            "|vmnet      |\n",
            "|ctf        |\n",
            "|supdup     |\n",
            "|finger     |\n",
            "|printer    |\n",
            "|netbios_dgm|\n",
            "|urp_i      |\n",
            "|ecr_i      |\n",
            "|time       |\n",
            "|netbios_ssn|\n",
            "|csnet_ns   |\n",
            "|hostnames  |\n",
            "|sunrpc     |\n",
            "|echo       |\n",
            "|http_443   |\n",
            "|netstat    |\n",
            "|remote_job |\n",
            "|imap4      |\n",
            "|gopher     |\n",
            "|uucp       |\n",
            "|ssh        |\n",
            "|rje        |\n",
            "|bgp        |\n",
            "|aol        |\n",
            "|http_8001  |\n",
            "+-----------+\n",
            "\n",
            "distinct service types: None\n",
            "CPU times: user 60.5 ms, sys: 6.81 ms, total: 67.3 ms\n",
            "Wall time: 10.1 s\n"
          ]
        }
      ]
    },
    {
      "cell_type": "markdown",
      "source": [
        "# Task 4: Calculate the `average duration of connections`"
      ],
      "metadata": {
        "id": "BwUOeF2sETxD"
      }
    },
    {
      "cell_type": "code",
      "source": [
        "%%time\n",
        "duration_rdd = data_rdd.map(lambda line: int(line.split(',')[0]))\n",
        "average_duration = duration_rdd.mean()\n",
        "\n",
        "print(\"avg duration of connections:\", average_duration)"
      ],
      "metadata": {
        "id": "CIXWd9O8EJEb",
        "colab": {
          "base_uri": "https://localhost:8080/"
        },
        "outputId": "abc93305-8a3a-4503-dee2-f5421318dcf9"
      },
      "execution_count": null,
      "outputs": [
        {
          "output_type": "stream",
          "name": "stdout",
          "text": [
            "avg duration of connections: 48.34243046396006\n",
            "CPU times: user 260 ms, sys: 31.3 ms, total: 292 ms\n",
            "Wall time: 48.8 s\n"
          ]
        }
      ]
    },
    {
      "cell_type": "code",
      "source": [
        "%%time\n",
        "from pyspark.sql.functions import avg\n",
        "average_duration = data_df.groupBy().agg(avg(\"duration\").alias(\"average_duration\"))\n",
        "average_duration.show()"
      ],
      "metadata": {
        "colab": {
          "base_uri": "https://localhost:8080/"
        },
        "id": "xIPURpmfDeEH",
        "outputId": "19f98a91-407c-46c6-ba7e-4cb40bb369a9"
      },
      "execution_count": null,
      "outputs": [
        {
          "output_type": "stream",
          "name": "stdout",
          "text": [
            "+-----------------+\n",
            "| average_duration|\n",
            "+-----------------+\n",
            "|48.34243046395876|\n",
            "+-----------------+\n",
            "\n",
            "CPU times: user 47.9 ms, sys: 4.48 ms, total: 52.4 ms\n",
            "Wall time: 8.07 s\n"
          ]
        }
      ]
    },
    {
      "cell_type": "markdown",
      "source": [
        "# Task 5: Find the maximum number of `source bytes` in a connection"
      ],
      "metadata": {
        "id": "zFj11db0LmcZ"
      }
    },
    {
      "cell_type": "code",
      "source": [
        "%%time\n",
        "src_bytes_rdd = data_rdd.map(lambda line: int(line.split(\",\")[4]))\n",
        "max_src_bytes = src_bytes_rdd.max()\n",
        "print(\"Max source bytes in a connection:\", max_src_bytes)"
      ],
      "metadata": {
        "id": "w4uAX_g-LgiB",
        "colab": {
          "base_uri": "https://localhost:8080/"
        },
        "outputId": "231b2406-0c70-4853-dcd6-aae96f9ea254"
      },
      "execution_count": null,
      "outputs": [
        {
          "output_type": "stream",
          "name": "stdout",
          "text": [
            "Max source bytes in a connection: 1379963888\n",
            "CPU times: user 101 ms, sys: 12.2 ms, total: 113 ms\n",
            "Wall time: 18.2 s\n"
          ]
        }
      ]
    },
    {
      "cell_type": "code",
      "source": [
        "%%time\n",
        "from pyspark.sql.functions import max, col\n",
        "\n",
        "max_src_bytes = data_df.withColumn(\"src_bytes\", col(\"src_bytes\").cast(\"int\")).agg(max(\"src_bytes\").alias(\"max_src_bytes\"))\n",
        "\n",
        "print(\"Max. source bytes in a connection\", max_src_bytes.show())"
      ],
      "metadata": {
        "colab": {
          "base_uri": "https://localhost:8080/"
        },
        "id": "48vJmQSpFsaj",
        "outputId": "9a528e64-a27c-4a6f-e987-2cb7be8c8c14"
      },
      "execution_count": null,
      "outputs": [
        {
          "output_type": "stream",
          "name": "stdout",
          "text": [
            "+-------------+\n",
            "|max_src_bytes|\n",
            "+-------------+\n",
            "|   1379963888|\n",
            "+-------------+\n",
            "\n",
            "Max. source bytes in a connection None\n",
            "CPU times: user 35.1 ms, sys: 4.69 ms, total: 39.8 ms\n",
            "Wall time: 5.76 s\n"
          ]
        }
      ]
    },
    {
      "cell_type": "markdown",
      "source": [
        "# Task 6: Calculate the total number of connections that are labeled as `\"normal\"`"
      ],
      "metadata": {
        "id": "kZXfBczcL8eK"
      }
    },
    {
      "cell_type": "code",
      "source": [
        "%%time\n",
        "normal_connection_rdd = data_rdd.filter(lambda line: line.split(\",\")[-1] == 'normal.')\n",
        "\n",
        "normal_connections_count = normal_connection_rdd.count()\n",
        "\n",
        "print(\"total number of normal connections:\", normal_connections_count)"
      ],
      "metadata": {
        "id": "8WDnrX7FL2uG",
        "colab": {
          "base_uri": "https://localhost:8080/"
        },
        "outputId": "e88ae35a-9a18-43fc-b1c3-61e0cb34b6ea"
      },
      "execution_count": null,
      "outputs": [
        {
          "output_type": "stream",
          "name": "stdout",
          "text": [
            "total number of normal connections: 972781\n",
            "CPU times: user 93.6 ms, sys: 10 ms, total: 104 ms\n",
            "Wall time: 16.2 s\n"
          ]
        }
      ]
    },
    {
      "cell_type": "code",
      "source": [
        "%%time\n",
        "total_normal_connections = data_df.filter(col(\"label\") == \"normal.\").count()\n",
        "print(\"Total no. of normal connection:\",total_normal_connections)"
      ],
      "metadata": {
        "colab": {
          "base_uri": "https://localhost:8080/"
        },
        "id": "1aKslwMoHqy6",
        "outputId": "18a09d3a-6119-465e-dbf3-7bcae460f6c3"
      },
      "execution_count": null,
      "outputs": [
        {
          "output_type": "stream",
          "name": "stdout",
          "text": [
            "Total no. of normal connection: 972781\n",
            "CPU times: user 8.6 ms, sys: 2.13 ms, total: 10.7 ms\n",
            "Wall time: 1.28 s\n"
          ]
        }
      ]
    },
    {
      "cell_type": "markdown",
      "source": [
        "# Task 7: Group the records by `type` (normal or sub-attacks) and `count the number of connections` for each type"
      ],
      "metadata": {
        "id": "VnM005bkMG_2"
      }
    },
    {
      "cell_type": "code",
      "source": [
        "%%time\n",
        "import pandas as pd\n",
        "attack_rdd = data_rdd.map(lambda line: (line.split(',')[-1],1))\n",
        "connection_per_attack_rdd = attack_rdd.reduceByKey(lambda x,y: x + y)\n",
        "\n",
        "connection_per_attack_list = connection_per_attack_rdd.collect()\n",
        "\n",
        "\n",
        "df = pd.DataFrame(connection_per_attack_list, columns = ['service','count'])\n",
        "df.sort_values('count',ascending= False)"
      ],
      "metadata": {
        "id": "mxsxg3JMMEVs",
        "colab": {
          "base_uri": "https://localhost:8080/",
          "height": 805
        },
        "outputId": "c8723271-0ebe-4b1b-8a96-13a3c6f12058"
      },
      "execution_count": null,
      "outputs": [
        {
          "output_type": "stream",
          "name": "stdout",
          "text": [
            "CPU times: user 129 ms, sys: 22.6 ms, total: 151 ms\n",
            "Wall time: 21.7 s\n"
          ]
        },
        {
          "output_type": "execute_result",
          "data": {
            "text/plain": [
              "             service    count\n",
              "5             smurf.  2807886\n",
              "4           neptune.  1072017\n",
              "0            normal.   972781\n",
              "15            satan.    15892\n",
              "10          ipsweep.    12481\n",
              "9         portsweep.    10413\n",
              "17             nmap.     2316\n",
              "13             back.     2203\n",
              "20      warezclient.     1020\n",
              "8          teardrop.      979\n",
              "7               pod.      264\n",
              "6      guess_passwd.       53\n",
              "1   buffer_overflow.       30\n",
              "11             land.       21\n",
              "19      warezmaster.       20\n",
              "14             imap.       12\n",
              "22          rootkit.       10\n",
              "2        loadmodule.        9\n",
              "12        ftp_write.        8\n",
              "18         multihop.        7\n",
              "16              phf.        4\n",
              "3              perl.        3\n",
              "21              spy.        2"
            ],
            "text/html": [
              "\n",
              "  <div id=\"df-c07f8433-ca3c-4b0e-81c5-ee8ef6f8c9c1\" class=\"colab-df-container\">\n",
              "    <div>\n",
              "<style scoped>\n",
              "    .dataframe tbody tr th:only-of-type {\n",
              "        vertical-align: middle;\n",
              "    }\n",
              "\n",
              "    .dataframe tbody tr th {\n",
              "        vertical-align: top;\n",
              "    }\n",
              "\n",
              "    .dataframe thead th {\n",
              "        text-align: right;\n",
              "    }\n",
              "</style>\n",
              "<table border=\"1\" class=\"dataframe\">\n",
              "  <thead>\n",
              "    <tr style=\"text-align: right;\">\n",
              "      <th></th>\n",
              "      <th>service</th>\n",
              "      <th>count</th>\n",
              "    </tr>\n",
              "  </thead>\n",
              "  <tbody>\n",
              "    <tr>\n",
              "      <th>5</th>\n",
              "      <td>smurf.</td>\n",
              "      <td>2807886</td>\n",
              "    </tr>\n",
              "    <tr>\n",
              "      <th>4</th>\n",
              "      <td>neptune.</td>\n",
              "      <td>1072017</td>\n",
              "    </tr>\n",
              "    <tr>\n",
              "      <th>0</th>\n",
              "      <td>normal.</td>\n",
              "      <td>972781</td>\n",
              "    </tr>\n",
              "    <tr>\n",
              "      <th>15</th>\n",
              "      <td>satan.</td>\n",
              "      <td>15892</td>\n",
              "    </tr>\n",
              "    <tr>\n",
              "      <th>10</th>\n",
              "      <td>ipsweep.</td>\n",
              "      <td>12481</td>\n",
              "    </tr>\n",
              "    <tr>\n",
              "      <th>9</th>\n",
              "      <td>portsweep.</td>\n",
              "      <td>10413</td>\n",
              "    </tr>\n",
              "    <tr>\n",
              "      <th>17</th>\n",
              "      <td>nmap.</td>\n",
              "      <td>2316</td>\n",
              "    </tr>\n",
              "    <tr>\n",
              "      <th>13</th>\n",
              "      <td>back.</td>\n",
              "      <td>2203</td>\n",
              "    </tr>\n",
              "    <tr>\n",
              "      <th>20</th>\n",
              "      <td>warezclient.</td>\n",
              "      <td>1020</td>\n",
              "    </tr>\n",
              "    <tr>\n",
              "      <th>8</th>\n",
              "      <td>teardrop.</td>\n",
              "      <td>979</td>\n",
              "    </tr>\n",
              "    <tr>\n",
              "      <th>7</th>\n",
              "      <td>pod.</td>\n",
              "      <td>264</td>\n",
              "    </tr>\n",
              "    <tr>\n",
              "      <th>6</th>\n",
              "      <td>guess_passwd.</td>\n",
              "      <td>53</td>\n",
              "    </tr>\n",
              "    <tr>\n",
              "      <th>1</th>\n",
              "      <td>buffer_overflow.</td>\n",
              "      <td>30</td>\n",
              "    </tr>\n",
              "    <tr>\n",
              "      <th>11</th>\n",
              "      <td>land.</td>\n",
              "      <td>21</td>\n",
              "    </tr>\n",
              "    <tr>\n",
              "      <th>19</th>\n",
              "      <td>warezmaster.</td>\n",
              "      <td>20</td>\n",
              "    </tr>\n",
              "    <tr>\n",
              "      <th>14</th>\n",
              "      <td>imap.</td>\n",
              "      <td>12</td>\n",
              "    </tr>\n",
              "    <tr>\n",
              "      <th>22</th>\n",
              "      <td>rootkit.</td>\n",
              "      <td>10</td>\n",
              "    </tr>\n",
              "    <tr>\n",
              "      <th>2</th>\n",
              "      <td>loadmodule.</td>\n",
              "      <td>9</td>\n",
              "    </tr>\n",
              "    <tr>\n",
              "      <th>12</th>\n",
              "      <td>ftp_write.</td>\n",
              "      <td>8</td>\n",
              "    </tr>\n",
              "    <tr>\n",
              "      <th>18</th>\n",
              "      <td>multihop.</td>\n",
              "      <td>7</td>\n",
              "    </tr>\n",
              "    <tr>\n",
              "      <th>16</th>\n",
              "      <td>phf.</td>\n",
              "      <td>4</td>\n",
              "    </tr>\n",
              "    <tr>\n",
              "      <th>3</th>\n",
              "      <td>perl.</td>\n",
              "      <td>3</td>\n",
              "    </tr>\n",
              "    <tr>\n",
              "      <th>21</th>\n",
              "      <td>spy.</td>\n",
              "      <td>2</td>\n",
              "    </tr>\n",
              "  </tbody>\n",
              "</table>\n",
              "</div>\n",
              "    <div class=\"colab-df-buttons\">\n",
              "\n",
              "  <div class=\"colab-df-container\">\n",
              "    <button class=\"colab-df-convert\" onclick=\"convertToInteractive('df-c07f8433-ca3c-4b0e-81c5-ee8ef6f8c9c1')\"\n",
              "            title=\"Convert this dataframe to an interactive table.\"\n",
              "            style=\"display:none;\">\n",
              "\n",
              "  <svg xmlns=\"http://www.w3.org/2000/svg\" height=\"24px\" viewBox=\"0 -960 960 960\">\n",
              "    <path d=\"M120-120v-720h720v720H120Zm60-500h600v-160H180v160Zm220 220h160v-160H400v160Zm0 220h160v-160H400v160ZM180-400h160v-160H180v160Zm440 0h160v-160H620v160ZM180-180h160v-160H180v160Zm440 0h160v-160H620v160Z\"/>\n",
              "  </svg>\n",
              "    </button>\n",
              "\n",
              "  <style>\n",
              "    .colab-df-container {\n",
              "      display:flex;\n",
              "      gap: 12px;\n",
              "    }\n",
              "\n",
              "    .colab-df-convert {\n",
              "      background-color: #E8F0FE;\n",
              "      border: none;\n",
              "      border-radius: 50%;\n",
              "      cursor: pointer;\n",
              "      display: none;\n",
              "      fill: #1967D2;\n",
              "      height: 32px;\n",
              "      padding: 0 0 0 0;\n",
              "      width: 32px;\n",
              "    }\n",
              "\n",
              "    .colab-df-convert:hover {\n",
              "      background-color: #E2EBFA;\n",
              "      box-shadow: 0px 1px 2px rgba(60, 64, 67, 0.3), 0px 1px 3px 1px rgba(60, 64, 67, 0.15);\n",
              "      fill: #174EA6;\n",
              "    }\n",
              "\n",
              "    .colab-df-buttons div {\n",
              "      margin-bottom: 4px;\n",
              "    }\n",
              "\n",
              "    [theme=dark] .colab-df-convert {\n",
              "      background-color: #3B4455;\n",
              "      fill: #D2E3FC;\n",
              "    }\n",
              "\n",
              "    [theme=dark] .colab-df-convert:hover {\n",
              "      background-color: #434B5C;\n",
              "      box-shadow: 0px 1px 3px 1px rgba(0, 0, 0, 0.15);\n",
              "      filter: drop-shadow(0px 1px 2px rgba(0, 0, 0, 0.3));\n",
              "      fill: #FFFFFF;\n",
              "    }\n",
              "  </style>\n",
              "\n",
              "    <script>\n",
              "      const buttonEl =\n",
              "        document.querySelector('#df-c07f8433-ca3c-4b0e-81c5-ee8ef6f8c9c1 button.colab-df-convert');\n",
              "      buttonEl.style.display =\n",
              "        google.colab.kernel.accessAllowed ? 'block' : 'none';\n",
              "\n",
              "      async function convertToInteractive(key) {\n",
              "        const element = document.querySelector('#df-c07f8433-ca3c-4b0e-81c5-ee8ef6f8c9c1');\n",
              "        const dataTable =\n",
              "          await google.colab.kernel.invokeFunction('convertToInteractive',\n",
              "                                                    [key], {});\n",
              "        if (!dataTable) return;\n",
              "\n",
              "        const docLinkHtml = 'Like what you see? Visit the ' +\n",
              "          '<a target=\"_blank\" href=https://colab.research.google.com/notebooks/data_table.ipynb>data table notebook</a>'\n",
              "          + ' to learn more about interactive tables.';\n",
              "        element.innerHTML = '';\n",
              "        dataTable['output_type'] = 'display_data';\n",
              "        await google.colab.output.renderOutput(dataTable, element);\n",
              "        const docLink = document.createElement('div');\n",
              "        docLink.innerHTML = docLinkHtml;\n",
              "        element.appendChild(docLink);\n",
              "      }\n",
              "    </script>\n",
              "  </div>\n",
              "\n",
              "\n",
              "<div id=\"df-b885b7ba-18f8-47a1-8e54-16e432dc203c\">\n",
              "  <button class=\"colab-df-quickchart\" onclick=\"quickchart('df-b885b7ba-18f8-47a1-8e54-16e432dc203c')\"\n",
              "            title=\"Suggest charts\"\n",
              "            style=\"display:none;\">\n",
              "\n",
              "<svg xmlns=\"http://www.w3.org/2000/svg\" height=\"24px\"viewBox=\"0 0 24 24\"\n",
              "     width=\"24px\">\n",
              "    <g>\n",
              "        <path d=\"M19 3H5c-1.1 0-2 .9-2 2v14c0 1.1.9 2 2 2h14c1.1 0 2-.9 2-2V5c0-1.1-.9-2-2-2zM9 17H7v-7h2v7zm4 0h-2V7h2v10zm4 0h-2v-4h2v4z\"/>\n",
              "    </g>\n",
              "</svg>\n",
              "  </button>\n",
              "\n",
              "<style>\n",
              "  .colab-df-quickchart {\n",
              "      --bg-color: #E8F0FE;\n",
              "      --fill-color: #1967D2;\n",
              "      --hover-bg-color: #E2EBFA;\n",
              "      --hover-fill-color: #174EA6;\n",
              "      --disabled-fill-color: #AAA;\n",
              "      --disabled-bg-color: #DDD;\n",
              "  }\n",
              "\n",
              "  [theme=dark] .colab-df-quickchart {\n",
              "      --bg-color: #3B4455;\n",
              "      --fill-color: #D2E3FC;\n",
              "      --hover-bg-color: #434B5C;\n",
              "      --hover-fill-color: #FFFFFF;\n",
              "      --disabled-bg-color: #3B4455;\n",
              "      --disabled-fill-color: #666;\n",
              "  }\n",
              "\n",
              "  .colab-df-quickchart {\n",
              "    background-color: var(--bg-color);\n",
              "    border: none;\n",
              "    border-radius: 50%;\n",
              "    cursor: pointer;\n",
              "    display: none;\n",
              "    fill: var(--fill-color);\n",
              "    height: 32px;\n",
              "    padding: 0;\n",
              "    width: 32px;\n",
              "  }\n",
              "\n",
              "  .colab-df-quickchart:hover {\n",
              "    background-color: var(--hover-bg-color);\n",
              "    box-shadow: 0 1px 2px rgba(60, 64, 67, 0.3), 0 1px 3px 1px rgba(60, 64, 67, 0.15);\n",
              "    fill: var(--button-hover-fill-color);\n",
              "  }\n",
              "\n",
              "  .colab-df-quickchart-complete:disabled,\n",
              "  .colab-df-quickchart-complete:disabled:hover {\n",
              "    background-color: var(--disabled-bg-color);\n",
              "    fill: var(--disabled-fill-color);\n",
              "    box-shadow: none;\n",
              "  }\n",
              "\n",
              "  .colab-df-spinner {\n",
              "    border: 2px solid var(--fill-color);\n",
              "    border-color: transparent;\n",
              "    border-bottom-color: var(--fill-color);\n",
              "    animation:\n",
              "      spin 1s steps(1) infinite;\n",
              "  }\n",
              "\n",
              "  @keyframes spin {\n",
              "    0% {\n",
              "      border-color: transparent;\n",
              "      border-bottom-color: var(--fill-color);\n",
              "      border-left-color: var(--fill-color);\n",
              "    }\n",
              "    20% {\n",
              "      border-color: transparent;\n",
              "      border-left-color: var(--fill-color);\n",
              "      border-top-color: var(--fill-color);\n",
              "    }\n",
              "    30% {\n",
              "      border-color: transparent;\n",
              "      border-left-color: var(--fill-color);\n",
              "      border-top-color: var(--fill-color);\n",
              "      border-right-color: var(--fill-color);\n",
              "    }\n",
              "    40% {\n",
              "      border-color: transparent;\n",
              "      border-right-color: var(--fill-color);\n",
              "      border-top-color: var(--fill-color);\n",
              "    }\n",
              "    60% {\n",
              "      border-color: transparent;\n",
              "      border-right-color: var(--fill-color);\n",
              "    }\n",
              "    80% {\n",
              "      border-color: transparent;\n",
              "      border-right-color: var(--fill-color);\n",
              "      border-bottom-color: var(--fill-color);\n",
              "    }\n",
              "    90% {\n",
              "      border-color: transparent;\n",
              "      border-bottom-color: var(--fill-color);\n",
              "    }\n",
              "  }\n",
              "</style>\n",
              "\n",
              "  <script>\n",
              "    async function quickchart(key) {\n",
              "      const quickchartButtonEl =\n",
              "        document.querySelector('#' + key + ' button');\n",
              "      quickchartButtonEl.disabled = true;  // To prevent multiple clicks.\n",
              "      quickchartButtonEl.classList.add('colab-df-spinner');\n",
              "      try {\n",
              "        const charts = await google.colab.kernel.invokeFunction(\n",
              "            'suggestCharts', [key], {});\n",
              "      } catch (error) {\n",
              "        console.error('Error during call to suggestCharts:', error);\n",
              "      }\n",
              "      quickchartButtonEl.classList.remove('colab-df-spinner');\n",
              "      quickchartButtonEl.classList.add('colab-df-quickchart-complete');\n",
              "    }\n",
              "    (() => {\n",
              "      let quickchartButtonEl =\n",
              "        document.querySelector('#df-b885b7ba-18f8-47a1-8e54-16e432dc203c button');\n",
              "      quickchartButtonEl.style.display =\n",
              "        google.colab.kernel.accessAllowed ? 'block' : 'none';\n",
              "    })();\n",
              "  </script>\n",
              "</div>\n",
              "    </div>\n",
              "  </div>\n"
            ]
          },
          "metadata": {},
          "execution_count": 40
        }
      ]
    },
    {
      "cell_type": "code",
      "source": [],
      "metadata": {
        "id": "QrAXNkkXKNhE"
      },
      "execution_count": null,
      "outputs": []
    },
    {
      "cell_type": "code",
      "source": [
        "%%time\n",
        "connections_by_protocol_type_sorted = data_df.groupBy(\"label\").count().orderBy(\"count\", ascending = False)\n",
        "connections_by_protocol_type_sorted.show(truncate = False, n = data_df.count())"
      ],
      "metadata": {
        "colab": {
          "base_uri": "https://localhost:8080/"
        },
        "id": "_5OmgXKrIXj0",
        "outputId": "ab993173-56d8-442d-a771-44a63bed29b2"
      },
      "execution_count": null,
      "outputs": [
        {
          "output_type": "stream",
          "name": "stdout",
          "text": [
            "+----------------+-------+\n",
            "|label           |count  |\n",
            "+----------------+-------+\n",
            "|smurf.          |2807886|\n",
            "|neptune.        |1072017|\n",
            "|normal.         |972781 |\n",
            "|satan.          |15892  |\n",
            "|ipsweep.        |12481  |\n",
            "|portsweep.      |10413  |\n",
            "|nmap.           |2316   |\n",
            "|back.           |2203   |\n",
            "|warezclient.    |1020   |\n",
            "|teardrop.       |979    |\n",
            "|pod.            |264    |\n",
            "|guess_passwd.   |53     |\n",
            "|buffer_overflow.|30     |\n",
            "|land.           |21     |\n",
            "|warezmaster.    |20     |\n",
            "|imap.           |12     |\n",
            "|rootkit.        |10     |\n",
            "|loadmodule.     |9      |\n",
            "|ftp_write.      |8      |\n",
            "|multihop.       |7      |\n",
            "|phf.            |4      |\n",
            "|perl.           |3      |\n",
            "|spy.            |2      |\n",
            "+----------------+-------+\n",
            "\n",
            "CPU times: user 60.6 ms, sys: 13.7 ms, total: 74.3 ms\n",
            "Wall time: 11.1 s\n"
          ]
        }
      ]
    },
    {
      "cell_type": "markdown",
      "source": [
        "# Task 8: Calculate the `number of connections` for `each attack type and protocol`"
      ],
      "metadata": {
        "id": "ponv7gx4Ms40"
      }
    },
    {
      "cell_type": "code",
      "source": [
        "%%time\n",
        "label_protocol_count_rdd = data_rdd.map(lambda line: ((line.split(',')[-1],line.split(',')[1]), 1))\n",
        "\n",
        "connections_by_attack_and_protocol_rdd = label_protocol_count_rdd.reduceByKey(lambda x,y: x + y)\n",
        "\n",
        "connections_by_attack_and_protocol_rdd.collect()"
      ],
      "metadata": {
        "id": "xo27NwKGMsaF",
        "colab": {
          "base_uri": "https://localhost:8080/"
        },
        "outputId": "1fd63ec9-4dd3-4247-ac2c-e3c395c27949"
      },
      "execution_count": null,
      "outputs": [
        {
          "output_type": "stream",
          "name": "stdout",
          "text": [
            "CPU times: user 155 ms, sys: 13.3 ms, total: 168 ms\n",
            "Wall time: 27.8 s\n"
          ]
        },
        {
          "output_type": "execute_result",
          "data": {
            "text/plain": [
              "[(('normal.', 'tcp'), 768670),\n",
              " (('normal.', 'udp'), 191348),\n",
              " (('normal.', 'icmp'), 12763),\n",
              " (('buffer_overflow.', 'tcp'), 30),\n",
              " (('loadmodule.', 'tcp'), 9),\n",
              " (('perl.', 'tcp'), 3),\n",
              " (('neptune.', 'tcp'), 1072017),\n",
              " (('smurf.', 'icmp'), 2807886),\n",
              " (('guess_passwd.', 'tcp'), 53),\n",
              " (('pod.', 'icmp'), 264),\n",
              " (('teardrop.', 'udp'), 979),\n",
              " (('portsweep.', 'tcp'), 10407),\n",
              " (('ipsweep.', 'tcp'), 924),\n",
              " (('land.', 'tcp'), 21),\n",
              " (('ftp_write.', 'tcp'), 8),\n",
              " (('back.', 'tcp'), 2203),\n",
              " (('imap.', 'tcp'), 12),\n",
              " (('satan.', 'icmp'), 37),\n",
              " (('satan.', 'udp'), 1708),\n",
              " (('satan.', 'tcp'), 14147),\n",
              " (('phf.', 'tcp'), 4),\n",
              " (('ipsweep.', 'icmp'), 11557),\n",
              " (('nmap.', 'icmp'), 1032),\n",
              " (('nmap.', 'tcp'), 1034),\n",
              " (('multihop.', 'tcp'), 7),\n",
              " (('nmap.', 'udp'), 250),\n",
              " (('warezmaster.', 'tcp'), 20),\n",
              " (('warezclient.', 'tcp'), 1020),\n",
              " (('spy.', 'tcp'), 2),\n",
              " (('rootkit.', 'tcp'), 7),\n",
              " (('portsweep.', 'icmp'), 6),\n",
              " (('rootkit.', 'udp'), 3)]"
            ]
          },
          "metadata": {},
          "execution_count": 42
        }
      ]
    },
    {
      "cell_type": "code",
      "source": [
        "%%time\n",
        "connections_by_attack_and_protocol = data_df.groupby(\"label\",\"protocol_type\").count().withColumnRenamed(\"count\",\"Count\")\n",
        "connections_by_attack_and_protocol.orderBy(\"label\",\"protocol_type\").show(truncate = False)"
      ],
      "metadata": {
        "colab": {
          "base_uri": "https://localhost:8080/"
        },
        "id": "25KLNSBmK-BF",
        "outputId": "737e1453-f9bb-4fa2-eba0-e4d599710a4c"
      },
      "execution_count": null,
      "outputs": [
        {
          "output_type": "stream",
          "name": "stdout",
          "text": [
            "+----------------+-------------+-------+\n",
            "|label           |protocol_type|Count  |\n",
            "+----------------+-------------+-------+\n",
            "|back.           |tcp          |2203   |\n",
            "|buffer_overflow.|tcp          |30     |\n",
            "|ftp_write.      |tcp          |8      |\n",
            "|guess_passwd.   |tcp          |53     |\n",
            "|imap.           |tcp          |12     |\n",
            "|ipsweep.        |icmp         |11557  |\n",
            "|ipsweep.        |tcp          |924    |\n",
            "|land.           |tcp          |21     |\n",
            "|loadmodule.     |tcp          |9      |\n",
            "|multihop.       |tcp          |7      |\n",
            "|neptune.        |tcp          |1072017|\n",
            "|nmap.           |icmp         |1032   |\n",
            "|nmap.           |tcp          |1034   |\n",
            "|nmap.           |udp          |250    |\n",
            "|normal.         |icmp         |12763  |\n",
            "|normal.         |tcp          |768670 |\n",
            "|normal.         |udp          |191348 |\n",
            "|perl.           |tcp          |3      |\n",
            "|phf.            |tcp          |4      |\n",
            "|pod.            |icmp         |264    |\n",
            "+----------------+-------------+-------+\n",
            "only showing top 20 rows\n",
            "\n",
            "CPU times: user 51.9 ms, sys: 6.25 ms, total: 58.1 ms\n",
            "Wall time: 7.32 s\n"
          ]
        }
      ]
    },
    {
      "cell_type": "markdown",
      "source": [
        "# Wrap up\n",
        "\n",
        "\n",
        "---\n",
        "\n",
        "\n",
        "While DataFrames generally offer better performance optimizations and a more optimized query execution engine compared to RDDs, there are certain scenarios where RDDs might be faster than DataFrames:\n",
        "\n",
        "- `Complex Transformations:` If you need to perform complex and custom transformations that are not easily expressible using DataFrame operations or require fine-grained control over the data processing logic, RDDs can be more efficient. RDDs provide lower-level APIs and allow you to use custom functions, which can be beneficial for certain use cases.\n",
        "\n",
        "- `Iterative Algorithms:` RDDs are a better choice for iterative algorithms, such as machine learning algorithms, where data needs to be repeatedly processed in multiple iterations. RDDs provide efficient support for iterative computations by allowing you to persist intermediate data in memory between iterations, whereas DataFrame operations may incur additional overhead due to their immutability.\n",
        "\n",
        "- `Data with Irregular Structure`: If your data has irregular or nested structures that are challenging to represent in a tabular format, RDDs can be more suitable. RDDs allow you to manipulate data in a more flexible and unstructured manner, making them a better choice for handling complex data types or hierarchical structures.\n",
        "\n",
        "- `Fine-Grained Control`: RDDs provide fine-grained control over data partitioning, caching, and serialization, allowing you to optimize performance based on specific requirements. If you require explicit control over these aspects, RDDs can offer better performance tuning options compared to DataFrames."
      ],
      "metadata": {
        "id": "IEuMy1FfNo_n"
      }
    }
  ]
}