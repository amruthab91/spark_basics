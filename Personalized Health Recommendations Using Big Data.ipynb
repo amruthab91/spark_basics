{
  "nbformat": 4,
  "nbformat_minor": 0,
  "metadata": {
    "colab": {
      "provenance": []
    },
    "kernelspec": {
      "name": "python3",
      "display_name": "Python 3"
    },
    "language_info": {
      "name": "python"
    }
  },
  "cells": [
    {
      "cell_type": "code",
      "execution_count": 1,
      "metadata": {
        "colab": {
          "base_uri": "https://localhost:8080/"
        },
        "id": "cvHJiw0265zy",
        "outputId": "430481e7-591d-4c85-e953-7e03cdab1937"
      },
      "outputs": [
        {
          "output_type": "stream",
          "name": "stdout",
          "text": [
            "Requirement already satisfied: pyspark in /usr/local/lib/python3.10/dist-packages (3.5.2)\n",
            "Requirement already satisfied: py4j==0.10.9.7 in /usr/local/lib/python3.10/dist-packages (from pyspark) (0.10.9.7)\n"
          ]
        }
      ],
      "source": [
        "!pip install pyspark\n"
      ]
    },
    {
      "cell_type": "code",
      "source": [
        "# Initialize Spark Session\n",
        "from pyspark.sql import SparkSession\n",
        "\n",
        "spark = SparkSession \\\n",
        "    .builder \\\n",
        "    .appName(\"Dissertation\") \\\n",
        "    .config(\"spark.some.config.option\", \"some-value\") \\\n",
        "    .config(\"spark.executor.memory\", \"4g\") \\\n",
        "    .config(\"spark.driver.memory\", \"4g\") \\\n",
        "    .getOrCreate()\n"
      ],
      "metadata": {
        "id": "-dGWnRK47Om5"
      },
      "execution_count": 2,
      "outputs": []
    },
    {
      "cell_type": "code",
      "source": [
        "#mount google drive\n",
        "from google.colab import drive\n",
        "drive.mount('/content/drive')"
      ],
      "metadata": {
        "colab": {
          "base_uri": "https://localhost:8080/"
        },
        "id": "tTCxH-Ij7ipb",
        "outputId": "97b5586f-1563-4c08-d2b0-b114751ebe54"
      },
      "execution_count": 3,
      "outputs": [
        {
          "output_type": "stream",
          "name": "stdout",
          "text": [
            "Drive already mounted at /content/drive; to attempt to forcibly remount, call drive.mount(\"/content/drive\", force_remount=True).\n"
          ]
        }
      ]
    },
    {
      "cell_type": "code",
      "source": [
        "# Read the data into dataframe\n",
        "df = spark.read.csv('/content/drive/MyDrive/heart_disease_data.csv',inferSchema=True, header =True)\n",
        "#displaying the cloumns present in the dataset\n",
        "df.columns"
      ],
      "metadata": {
        "colab": {
          "base_uri": "https://localhost:8080/"
        },
        "id": "h6EwcfrR7xaI",
        "outputId": "48032955-819b-4299-8d48-c764c36bc0dd"
      },
      "execution_count": 4,
      "outputs": [
        {
          "output_type": "execute_result",
          "data": {
            "text/plain": [
              "['age',\n",
              " 'sex',\n",
              " 'cp',\n",
              " 'trestbps',\n",
              " 'chol',\n",
              " 'fbs',\n",
              " 'restecg',\n",
              " 'thalach',\n",
              " 'exang',\n",
              " 'oldpeak',\n",
              " 'slope',\n",
              " 'ca',\n",
              " 'thal',\n",
              " 'target']"
            ]
          },
          "metadata": {},
          "execution_count": 4
        }
      ]
    },
    {
      "cell_type": "code",
      "source": [
        "# print the schema of the file\n",
        "df.printSchema()"
      ],
      "metadata": {
        "colab": {
          "base_uri": "https://localhost:8080/"
        },
        "id": "K8E0Iin8786R",
        "outputId": "f8b019c7-2f81-4704-db20-6c03e7af1340"
      },
      "execution_count": 5,
      "outputs": [
        {
          "output_type": "stream",
          "name": "stdout",
          "text": [
            "root\n",
            " |-- age: integer (nullable = true)\n",
            " |-- sex: integer (nullable = true)\n",
            " |-- cp: integer (nullable = true)\n",
            " |-- trestbps: integer (nullable = true)\n",
            " |-- chol: integer (nullable = true)\n",
            " |-- fbs: integer (nullable = true)\n",
            " |-- restecg: integer (nullable = true)\n",
            " |-- thalach: integer (nullable = true)\n",
            " |-- exang: integer (nullable = true)\n",
            " |-- oldpeak: double (nullable = true)\n",
            " |-- slope: integer (nullable = true)\n",
            " |-- ca: double (nullable = true)\n",
            " |-- thal: double (nullable = true)\n",
            " |-- target: integer (nullable = true)\n",
            "\n"
          ]
        }
      ]
    },
    {
      "cell_type": "code",
      "source": [
        "df.show(10)"
      ],
      "metadata": {
        "colab": {
          "base_uri": "https://localhost:8080/"
        },
        "id": "e04UV-fE8BgW",
        "outputId": "72f4bc97-2677-48f3-f122-521bc0c68c62"
      },
      "execution_count": 6,
      "outputs": [
        {
          "output_type": "stream",
          "name": "stdout",
          "text": [
            "+---+---+---+--------+----+---+-------+-------+-----+-------+-----+---+----+------+\n",
            "|age|sex| cp|trestbps|chol|fbs|restecg|thalach|exang|oldpeak|slope| ca|thal|target|\n",
            "+---+---+---+--------+----+---+-------+-------+-----+-------+-----+---+----+------+\n",
            "| 63|  1|  1|     145| 233|  1|      2|    150|    0|    2.3|    3|0.0| 6.0|     0|\n",
            "| 67|  1|  4|     160| 286|  0|      2|    108|    1|    1.5|    2|3.0| 3.0|     2|\n",
            "| 67|  1|  4|     120| 229|  0|      2|    129|    1|    2.6|    2|2.0| 7.0|     1|\n",
            "| 37|  1|  3|     130| 250|  0|      0|    187|    0|    3.5|    3|0.0| 3.0|     0|\n",
            "| 41|  0|  2|     130| 204|  0|      2|    172|    0|    1.4|    1|0.0| 3.0|     0|\n",
            "| 56|  1|  2|     120| 236|  0|      0|    178|    0|    0.8|    1|0.0| 3.0|     0|\n",
            "| 62|  0|  4|     140| 268|  0|      2|    160|    0|    3.6|    3|2.0| 3.0|     3|\n",
            "| 57|  0|  4|     120| 354|  0|      0|    163|    1|    0.6|    1|0.0| 3.0|     0|\n",
            "| 63|  1|  4|     130| 254|  0|      2|    147|    0|    1.4|    2|1.0| 7.0|     2|\n",
            "| 53|  1|  4|     140| 203|  1|      2|    155|    1|    3.1|    3|0.0| 7.0|     1|\n",
            "+---+---+---+--------+----+---+-------+-------+-----+-------+-----+---+----+------+\n",
            "only showing top 10 rows\n",
            "\n"
          ]
        }
      ]
    },
    {
      "cell_type": "code",
      "source": [
        "# Show distinct values in each column\n",
        "for col_name in df.columns:\n",
        "    df.select(col_name).distinct().show()"
      ],
      "metadata": {
        "colab": {
          "base_uri": "https://localhost:8080/"
        },
        "id": "SfUeL8ES8GQw",
        "outputId": "3277dedd-5ca9-470d-de02-af33c499b366"
      },
      "execution_count": 7,
      "outputs": [
        {
          "output_type": "stream",
          "name": "stdout",
          "text": [
            "+---+\n",
            "|age|\n",
            "+---+\n",
            "| 65|\n",
            "| 53|\n",
            "| 34|\n",
            "| 76|\n",
            "| 44|\n",
            "| 47|\n",
            "| 52|\n",
            "| 40|\n",
            "| 57|\n",
            "| 54|\n",
            "| 48|\n",
            "| 64|\n",
            "| 41|\n",
            "| 43|\n",
            "| 37|\n",
            "| 61|\n",
            "| 35|\n",
            "| 59|\n",
            "| 55|\n",
            "| 39|\n",
            "+---+\n",
            "only showing top 20 rows\n",
            "\n",
            "+---+\n",
            "|sex|\n",
            "+---+\n",
            "|  1|\n",
            "|  0|\n",
            "+---+\n",
            "\n",
            "+---+\n",
            "| cp|\n",
            "+---+\n",
            "|  1|\n",
            "|  3|\n",
            "|  4|\n",
            "|  2|\n",
            "+---+\n",
            "\n",
            "+--------+\n",
            "|trestbps|\n",
            "+--------+\n",
            "|     148|\n",
            "|     155|\n",
            "|     108|\n",
            "|     115|\n",
            "|     101|\n",
            "|     126|\n",
            "|     192|\n",
            "|     128|\n",
            "|     122|\n",
            "|     140|\n",
            "|     132|\n",
            "|     152|\n",
            "|     146|\n",
            "|     142|\n",
            "|     178|\n",
            "|     164|\n",
            "|      94|\n",
            "|     120|\n",
            "|     117|\n",
            "|     154|\n",
            "+--------+\n",
            "only showing top 20 rows\n",
            "\n",
            "+----+\n",
            "|chol|\n",
            "+----+\n",
            "| 243|\n",
            "| 255|\n",
            "| 322|\n",
            "| 321|\n",
            "| 211|\n",
            "| 193|\n",
            "| 126|\n",
            "| 183|\n",
            "| 210|\n",
            "| 300|\n",
            "| 192|\n",
            "| 271|\n",
            "| 253|\n",
            "| 236|\n",
            "| 223|\n",
            "| 417|\n",
            "| 409|\n",
            "| 222|\n",
            "| 330|\n",
            "| 209|\n",
            "+----+\n",
            "only showing top 20 rows\n",
            "\n",
            "+---+\n",
            "|fbs|\n",
            "+---+\n",
            "|  1|\n",
            "|  0|\n",
            "+---+\n",
            "\n",
            "+-------+\n",
            "|restecg|\n",
            "+-------+\n",
            "|      1|\n",
            "|      2|\n",
            "|      0|\n",
            "+-------+\n",
            "\n",
            "+-------+\n",
            "|thalach|\n",
            "+-------+\n",
            "|    148|\n",
            "|    137|\n",
            "|    133|\n",
            "|    108|\n",
            "|    155|\n",
            "|    115|\n",
            "|    126|\n",
            "|    159|\n",
            "|    192|\n",
            "|    103|\n",
            "|    128|\n",
            "|    122|\n",
            "|    157|\n",
            "|    190|\n",
            "|    111|\n",
            "|    140|\n",
            "|    177|\n",
            "|    132|\n",
            "|    152|\n",
            "|    185|\n",
            "+-------+\n",
            "only showing top 20 rows\n",
            "\n",
            "+-----+\n",
            "|exang|\n",
            "+-----+\n",
            "|    1|\n",
            "|    0|\n",
            "+-----+\n",
            "\n",
            "+-------+\n",
            "|oldpeak|\n",
            "+-------+\n",
            "|    2.4|\n",
            "|    0.0|\n",
            "|    3.5|\n",
            "|    0.2|\n",
            "|    2.9|\n",
            "|    1.4|\n",
            "|    0.7|\n",
            "|    0.1|\n",
            "|    3.1|\n",
            "|    6.2|\n",
            "|    2.3|\n",
            "|    3.4|\n",
            "|    2.5|\n",
            "|    1.0|\n",
            "|    0.6|\n",
            "|    0.8|\n",
            "|    2.2|\n",
            "|    2.8|\n",
            "|    4.0|\n",
            "|    1.9|\n",
            "+-------+\n",
            "only showing top 20 rows\n",
            "\n",
            "+-----+\n",
            "|slope|\n",
            "+-----+\n",
            "|    1|\n",
            "|    3|\n",
            "|    2|\n",
            "+-----+\n",
            "\n",
            "+----+\n",
            "|  ca|\n",
            "+----+\n",
            "| 0.0|\n",
            "| 1.0|\n",
            "|NULL|\n",
            "| 3.0|\n",
            "| 2.0|\n",
            "+----+\n",
            "\n",
            "+----+\n",
            "|thal|\n",
            "+----+\n",
            "| 7.0|\n",
            "| 3.0|\n",
            "|NULL|\n",
            "| 6.0|\n",
            "+----+\n",
            "\n",
            "+------+\n",
            "|target|\n",
            "+------+\n",
            "|     1|\n",
            "|     3|\n",
            "|     4|\n",
            "|     2|\n",
            "|     0|\n",
            "+------+\n",
            "\n"
          ]
        }
      ]
    },
    {
      "cell_type": "code",
      "source": [
        "from pyspark.sql.functions import col, isnan, when, count\n",
        "\n",
        "# Find null or missing values in each column\n",
        "df.select([count(when(isnan(c) | col(c).isNull(), c)).alias(c) for c in df.columns]).show()\n"
      ],
      "metadata": {
        "colab": {
          "base_uri": "https://localhost:8080/"
        },
        "id": "NgZR8Oig8YeA",
        "outputId": "cdf95edd-8d34-4d69-dd6e-ed1488c9fc54"
      },
      "execution_count": 8,
      "outputs": [
        {
          "output_type": "stream",
          "name": "stdout",
          "text": [
            "+---+---+---+--------+----+---+-------+-------+-----+-------+-----+---+----+------+\n",
            "|age|sex| cp|trestbps|chol|fbs|restecg|thalach|exang|oldpeak|slope| ca|thal|target|\n",
            "+---+---+---+--------+----+---+-------+-------+-----+-------+-----+---+----+------+\n",
            "|  0|  0|  0|       0|   0|  0|      0|      0|    0|      0|    0|  4|   2|     0|\n",
            "+---+---+---+--------+----+---+-------+-------+-----+-------+-----+---+----+------+\n",
            "\n"
          ]
        }
      ]
    },
    {
      "cell_type": "code",
      "source": [
        "# Count the number of rows\n",
        "print(f\"Number of rows: {df.count()}\")"
      ],
      "metadata": {
        "colab": {
          "base_uri": "https://localhost:8080/"
        },
        "id": "xU5eB71j8hUO",
        "outputId": "6caee3c4-0462-4716-b017-5b6eb39176a9"
      },
      "execution_count": 9,
      "outputs": [
        {
          "output_type": "stream",
          "name": "stdout",
          "text": [
            "Number of rows: 303\n"
          ]
        }
      ]
    },
    {
      "cell_type": "code",
      "source": [
        "# Drop rows with null values in 'ca' and 'thal'\n",
        "df = df.dropna(subset=[\"ca\", \"thal\"])\n"
      ],
      "metadata": {
        "id": "M3D8-t34-joG"
      },
      "execution_count": 10,
      "outputs": []
    },
    {
      "cell_type": "code",
      "source": [
        "# Find null or missing values in each column\n",
        "df.select([count(when(isnan(c) | col(c).isNull(), c)).alias(c) for c in df.columns]).show()"
      ],
      "metadata": {
        "colab": {
          "base_uri": "https://localhost:8080/"
        },
        "id": "Hmm3x7Ej-63d",
        "outputId": "ab9a8aeb-d6a8-43de-96c0-78b7bfc9c6dc"
      },
      "execution_count": 11,
      "outputs": [
        {
          "output_type": "stream",
          "name": "stdout",
          "text": [
            "+---+---+---+--------+----+---+-------+-------+-----+-------+-----+---+----+------+\n",
            "|age|sex| cp|trestbps|chol|fbs|restecg|thalach|exang|oldpeak|slope| ca|thal|target|\n",
            "+---+---+---+--------+----+---+-------+-------+-----+-------+-----+---+----+------+\n",
            "|  0|  0|  0|       0|   0|  0|      0|      0|    0|      0|    0|  0|   0|     0|\n",
            "+---+---+---+--------+----+---+-------+-------+-----+-------+-----+---+----+------+\n",
            "\n"
          ]
        }
      ]
    },
    {
      "cell_type": "code",
      "source": [
        "df.count()"
      ],
      "metadata": {
        "colab": {
          "base_uri": "https://localhost:8080/"
        },
        "id": "H9d8Fmdt_iVj",
        "outputId": "62d0a819-62fb-4988-c833-6b7e9c7e41dd"
      },
      "execution_count": 12,
      "outputs": [
        {
          "output_type": "execute_result",
          "data": {
            "text/plain": [
              "297"
            ]
          },
          "metadata": {},
          "execution_count": 12
        }
      ]
    },
    {
      "cell_type": "code",
      "source": [
        "from pyspark.ml.feature import VectorAssembler, StringIndexer, StandardScaler\n",
        "\n",
        "# Data Preprocessing\n",
        "# Handle categorical variables (if any)\n",
        "categorical_cols = [col_name for col_name, dtype in df.dtypes if dtype == 'string']\n",
        "indexers = [StringIndexer(inputCol=col, outputCol=col + \"_indexed\") for col in categorical_cols]\n",
        "for indexer in indexers:\n",
        "    df = indexer.fit(df).transform(df)"
      ],
      "metadata": {
        "id": "jp7ezoooA75u"
      },
      "execution_count": 13,
      "outputs": []
    },
    {
      "cell_type": "code",
      "source": [
        "# Ensure 'target' column is indexed if it is categorical\n",
        "if 'target' not in df.columns:\n",
        "    raise ValueError(\"The target column 'target' does not exist in the DataFrame.\")\n",
        "else:\n",
        "    if 'target_indexed' not in df.columns:\n",
        "        target_indexer = StringIndexer(inputCol='target', outputCol='target_indexed')\n",
        "        df = target_indexer.fit(df).transform(df)"
      ],
      "metadata": {
        "id": "ZiCjZQfQBBA3"
      },
      "execution_count": 14,
      "outputs": []
    },
    {
      "cell_type": "code",
      "source": [
        "from pyspark.sql.functions import when\n",
        "\n",
        "# Convert the 'target' column to binary values (0 and 1)\n",
        "df = df.withColumn(\"target_binary\", when(col(\"target\") == 2, 1).otherwise(col(\"target\")))\n",
        "\n",
        "# Recheck the schema and data\n",
        "df.printSchema()\n",
        "df.select(\"target\", \"target_binary\").distinct().show()\n"
      ],
      "metadata": {
        "colab": {
          "base_uri": "https://localhost:8080/"
        },
        "id": "otPbGZNcC9A4",
        "outputId": "f5dcf40f-2591-4b25-d3bf-fc87aab06a2d"
      },
      "execution_count": 15,
      "outputs": [
        {
          "output_type": "stream",
          "name": "stdout",
          "text": [
            "root\n",
            " |-- age: integer (nullable = true)\n",
            " |-- sex: integer (nullable = true)\n",
            " |-- cp: integer (nullable = true)\n",
            " |-- trestbps: integer (nullable = true)\n",
            " |-- chol: integer (nullable = true)\n",
            " |-- fbs: integer (nullable = true)\n",
            " |-- restecg: integer (nullable = true)\n",
            " |-- thalach: integer (nullable = true)\n",
            " |-- exang: integer (nullable = true)\n",
            " |-- oldpeak: double (nullable = true)\n",
            " |-- slope: integer (nullable = true)\n",
            " |-- ca: double (nullable = true)\n",
            " |-- thal: double (nullable = true)\n",
            " |-- target: integer (nullable = true)\n",
            " |-- target_indexed: double (nullable = false)\n",
            " |-- target_binary: integer (nullable = true)\n",
            "\n",
            "+------+-------------+\n",
            "|target|target_binary|\n",
            "+------+-------------+\n",
            "|     1|            1|\n",
            "|     0|            0|\n",
            "|     3|            3|\n",
            "|     2|            1|\n",
            "|     4|            4|\n",
            "+------+-------------+\n",
            "\n"
          ]
        }
      ]
    },
    {
      "cell_type": "code",
      "source": [
        "# Assemble features into a single vector\n",
        "feature_cols = [col for col in df.columns if col not in ['target', 'target_binary']]\n",
        "assembler = VectorAssembler(inputCols=feature_cols, outputCol=\"features\")\n",
        "df = assembler.transform(df)"
      ],
      "metadata": {
        "id": "92S6QT_48qgh"
      },
      "execution_count": 16,
      "outputs": []
    },
    {
      "cell_type": "code",
      "source": [
        "# Check the assembled features\n",
        "df.select(\"features\").show(truncate=False)\n"
      ],
      "metadata": {
        "colab": {
          "base_uri": "https://localhost:8080/"
        },
        "id": "M0Yj_aiV9_mY",
        "outputId": "9cf4ec52-3372-40c4-b014-8fa89114fbe0"
      },
      "execution_count": 17,
      "outputs": [
        {
          "output_type": "stream",
          "name": "stdout",
          "text": [
            "+-----------------------------------------------------------------+\n",
            "|features                                                         |\n",
            "+-----------------------------------------------------------------+\n",
            "|[63.0,1.0,1.0,145.0,233.0,1.0,2.0,150.0,0.0,2.3,3.0,0.0,6.0,0.0] |\n",
            "|[67.0,1.0,4.0,160.0,286.0,0.0,2.0,108.0,1.0,1.5,2.0,3.0,3.0,2.0] |\n",
            "|[67.0,1.0,4.0,120.0,229.0,0.0,2.0,129.0,1.0,2.6,2.0,2.0,7.0,1.0] |\n",
            "|[37.0,1.0,3.0,130.0,250.0,0.0,0.0,187.0,0.0,3.5,3.0,0.0,3.0,0.0] |\n",
            "|[41.0,0.0,2.0,130.0,204.0,0.0,2.0,172.0,0.0,1.4,1.0,0.0,3.0,0.0] |\n",
            "|[56.0,1.0,2.0,120.0,236.0,0.0,0.0,178.0,0.0,0.8,1.0,0.0,3.0,0.0] |\n",
            "|[62.0,0.0,4.0,140.0,268.0,0.0,2.0,160.0,0.0,3.6,3.0,2.0,3.0,3.0] |\n",
            "|[57.0,0.0,4.0,120.0,354.0,0.0,0.0,163.0,1.0,0.6,1.0,0.0,3.0,0.0] |\n",
            "|[63.0,1.0,4.0,130.0,254.0,0.0,2.0,147.0,0.0,1.4,2.0,1.0,7.0,2.0] |\n",
            "|[53.0,1.0,4.0,140.0,203.0,1.0,2.0,155.0,1.0,3.1,3.0,0.0,7.0,1.0] |\n",
            "|[57.0,1.0,4.0,140.0,192.0,0.0,0.0,148.0,0.0,0.4,2.0,0.0,6.0,0.0] |\n",
            "|[56.0,0.0,2.0,140.0,294.0,0.0,2.0,153.0,0.0,1.3,2.0,0.0,3.0,0.0] |\n",
            "|[56.0,1.0,3.0,130.0,256.0,1.0,2.0,142.0,1.0,0.6,2.0,1.0,6.0,2.0] |\n",
            "|(14,[0,1,2,3,4,7,10,12],[44.0,1.0,2.0,120.0,263.0,173.0,1.0,7.0])|\n",
            "|[52.0,1.0,3.0,172.0,199.0,1.0,0.0,162.0,0.0,0.5,1.0,0.0,7.0,0.0] |\n",
            "|[57.0,1.0,3.0,150.0,168.0,0.0,0.0,174.0,0.0,1.6,1.0,0.0,3.0,0.0] |\n",
            "|[48.0,1.0,2.0,110.0,229.0,0.0,0.0,168.0,0.0,1.0,3.0,0.0,7.0,1.0] |\n",
            "|[54.0,1.0,4.0,140.0,239.0,0.0,0.0,160.0,0.0,1.2,1.0,0.0,3.0,0.0] |\n",
            "|(14,[0,2,3,4,7,9,10,12],[48.0,3.0,130.0,275.0,139.0,0.2,1.0,3.0])|\n",
            "|[49.0,1.0,2.0,130.0,266.0,0.0,0.0,171.0,0.0,0.6,1.0,0.0,3.0,0.0] |\n",
            "+-----------------------------------------------------------------+\n",
            "only showing top 20 rows\n",
            "\n"
          ]
        }
      ]
    },
    {
      "cell_type": "code",
      "source": [
        "# Standardize features\n",
        "scaler = StandardScaler(inputCol=\"features\", outputCol=\"scaledFeatures\", withMean=True, withStd=True)\n",
        "scaler_model = scaler.fit(df)\n",
        "df = scaler_model.transform(df)"
      ],
      "metadata": {
        "id": "YRWP3k-F8veZ"
      },
      "execution_count": 18,
      "outputs": []
    },
    {
      "cell_type": "markdown",
      "source": [
        "Logistic Regression"
      ],
      "metadata": {
        "id": "LVIgMYApFUoC"
      }
    },
    {
      "cell_type": "code",
      "source": [
        "from pyspark.ml.evaluation import MulticlassClassificationEvaluator\n",
        "from pyspark.ml.tuning import ParamGridBuilder, CrossValidator\n",
        "from pyspark.ml.classification import LogisticRegression, RandomForestClassifier, GBTClassifier, LinearSVC, NaiveBayes, DecisionTreeClassifier\n",
        "# Define the Logistic Regression model\n",
        "logistic_regression = LogisticRegression(featuresCol=\"scaledFeatures\", labelCol=\"target_binary\")\n",
        "\n",
        "# Set up parameter grid\n",
        "paramGrid = ParamGridBuilder().addGrid(logistic_regression.regParam, [0.01, 0.1, 1.0]).build()\n",
        "\n",
        "# Define evaluator\n",
        "evaluator = MulticlassClassificationEvaluator(labelCol=\"target_binary\", metricName=\"accuracy\")\n",
        "\n",
        "# Set up CrossValidator\n",
        "crossval = CrossValidator(estimator=logistic_regression,\n",
        "                          estimatorParamMaps=paramGrid,\n",
        "                          evaluator=evaluator,\n",
        "                          numFolds=5)\n",
        "\n",
        "# Train the model\n",
        "cv_model = crossval.fit(df)\n",
        "\n",
        "# Evaluate the model\n",
        "accuracy_lr = evaluator.evaluate(cv_model.transform(df))\n",
        "print(f\"Logistic Regression Accuracy: {accuracy_lr}\")"
      ],
      "metadata": {
        "colab": {
          "base_uri": "https://localhost:8080/"
        },
        "id": "hyzr8uA9FLh6",
        "outputId": "6e15d0bf-d9c3-419e-f59e-5d55460f09ae"
      },
      "execution_count": 19,
      "outputs": [
        {
          "output_type": "stream",
          "name": "stdout",
          "text": [
            "Logistic Regression Accuracy: 0.9461279461279462\n"
          ]
        }
      ]
    },
    {
      "cell_type": "markdown",
      "source": [
        "Random Forest"
      ],
      "metadata": {
        "id": "8hvcK7jEFqgQ"
      }
    },
    {
      "cell_type": "code",
      "source": [
        "from pyspark.ml.classification import RandomForestClassifier\n",
        "\n",
        "# Define the Random Forest model\n",
        "random_forest = RandomForestClassifier(featuresCol=\"scaledFeatures\", labelCol=\"target_binary\")\n",
        "\n",
        "# Set up parameter grid\n",
        "paramGrid = ParamGridBuilder().addGrid(random_forest.numTrees, [10, 20]).build()\n",
        "\n",
        "# Set up CrossValidator\n",
        "crossval = CrossValidator(estimator=random_forest,\n",
        "                          estimatorParamMaps=paramGrid,\n",
        "                          evaluator=evaluator,\n",
        "                          numFolds=5)\n",
        "\n",
        "# Train the model\n",
        "cv_model = crossval.fit(df)\n",
        "\n",
        "# Evaluate the model\n",
        "accuracy_rf = evaluator.evaluate(cv_model.transform(df))\n",
        "print(f\"Random Forest Accuracy: {accuracy_rf}\")\n"
      ],
      "metadata": {
        "colab": {
          "base_uri": "https://localhost:8080/"
        },
        "id": "3qYr1drcFrR-",
        "outputId": "6b9f938c-41be-43a8-8e5d-00725ec84f28"
      },
      "execution_count": 20,
      "outputs": [
        {
          "output_type": "stream",
          "name": "stdout",
          "text": [
            "Random Forest Accuracy: 0.9966329966329966\n"
          ]
        }
      ]
    },
    {
      "cell_type": "markdown",
      "source": [
        "Decision Tree"
      ],
      "metadata": {
        "id": "gq7s7p2GF2z7"
      }
    },
    {
      "cell_type": "code",
      "source": [
        "from pyspark.ml.classification import DecisionTreeClassifier\n",
        "\n",
        "# Define the Decision Tree model\n",
        "decision_tree = DecisionTreeClassifier(featuresCol=\"scaledFeatures\", labelCol=\"target_binary\")\n",
        "\n",
        "# Set up parameter grid\n",
        "paramGrid = ParamGridBuilder().addGrid(decision_tree.maxDepth, [5, 10]).build()\n",
        "\n",
        "# Set up CrossValidator\n",
        "crossval = CrossValidator(estimator=decision_tree,\n",
        "                          estimatorParamMaps=paramGrid,\n",
        "                          evaluator=evaluator,\n",
        "                          numFolds=5)\n",
        "\n",
        "# Train the model\n",
        "cv_model = crossval.fit(df)\n",
        "\n",
        "# Evaluate the model\n",
        "accuracy_dt = evaluator.evaluate(cv_model.transform(df))\n",
        "print(f\"Decision Tree Accuracy: {accuracy_dt}\")\n"
      ],
      "metadata": {
        "colab": {
          "base_uri": "https://localhost:8080/"
        },
        "id": "Crk_7RYHF3nv",
        "outputId": "336bb76e-7df2-4f43-ac0d-a2f89e56ec17"
      },
      "execution_count": 21,
      "outputs": [
        {
          "output_type": "stream",
          "name": "stdout",
          "text": [
            "Decision Tree Accuracy: 1.0\n"
          ]
        }
      ]
    },
    {
      "cell_type": "code",
      "source": [
        "from pyspark.sql.functions import col\n",
        "\n",
        "# Check distinct values in the target column\n",
        "df.select(\"target\").distinct().show()\n",
        "\n",
        "# Convert target to binary (if necessary)\n",
        "# Assuming target values should be {0, 1}\n",
        "df = df.withColumn(\"target_binary\", col(\"target\").cast(\"double\"))\n"
      ],
      "metadata": {
        "colab": {
          "base_uri": "https://localhost:8080/"
        },
        "id": "RGtCdzqFGmuj",
        "outputId": "08d21e00-8722-40a8-ec28-1c42b319fb2f"
      },
      "execution_count": 22,
      "outputs": [
        {
          "output_type": "stream",
          "name": "stdout",
          "text": [
            "+------+\n",
            "|target|\n",
            "+------+\n",
            "|     1|\n",
            "|     3|\n",
            "|     4|\n",
            "|     2|\n",
            "|     0|\n",
            "+------+\n",
            "\n"
          ]
        }
      ]
    },
    {
      "cell_type": "code",
      "source": [
        "df.select(\"target_binary\").distinct().show()"
      ],
      "metadata": {
        "colab": {
          "base_uri": "https://localhost:8080/"
        },
        "id": "1KR4UlAFG9hY",
        "outputId": "0b65f067-ded6-448d-f0eb-2a7d879cf93b"
      },
      "execution_count": 23,
      "outputs": [
        {
          "output_type": "stream",
          "name": "stdout",
          "text": [
            "+-------------+\n",
            "|target_binary|\n",
            "+-------------+\n",
            "|          0.0|\n",
            "|          1.0|\n",
            "|          4.0|\n",
            "|          3.0|\n",
            "|          2.0|\n",
            "+-------------+\n",
            "\n"
          ]
        }
      ]
    },
    {
      "cell_type": "code",
      "source": [
        "from pyspark.sql.functions import when\n",
        "\n",
        "# Convert target values to binary (e.g., map all non-zero to 1.0)\n",
        "df = df.withColumn(\"target_binary\", when(col(\"target_binary\") > 0, 1.0).otherwise(0.0))\n",
        "\n",
        "# Check distinct values to confirm conversion\n",
        "df.select(\"target_binary\").distinct().show()\n"
      ],
      "metadata": {
        "colab": {
          "base_uri": "https://localhost:8080/"
        },
        "id": "sGw0PCPhHNRs",
        "outputId": "13a2ed23-1574-4250-84f7-17b0287602d9"
      },
      "execution_count": 24,
      "outputs": [
        {
          "output_type": "stream",
          "name": "stdout",
          "text": [
            "+-------------+\n",
            "|target_binary|\n",
            "+-------------+\n",
            "|          0.0|\n",
            "|          1.0|\n",
            "+-------------+\n",
            "\n"
          ]
        }
      ]
    },
    {
      "cell_type": "markdown",
      "source": [
        "Gradient Boosting Tree"
      ],
      "metadata": {
        "id": "DFPpMS_mHiVU"
      }
    },
    {
      "cell_type": "code",
      "source": [
        "from pyspark.ml.classification import GBTClassifier\n",
        "from pyspark.ml.evaluation import MulticlassClassificationEvaluator\n",
        "from pyspark.ml.tuning import ParamGridBuilder, CrossValidator\n",
        "\n",
        "# Define the Gradient-Boosted Trees model\n",
        "gbt = GBTClassifier(featuresCol=\"scaledFeatures\", labelCol=\"target_binary\")\n",
        "\n",
        "# Set up parameter grid\n",
        "paramGrid = ParamGridBuilder().addGrid(gbt.maxIter, [10, 20]).build()\n",
        "\n",
        "# Define evaluator\n",
        "evaluator = MulticlassClassificationEvaluator(labelCol=\"target_binary\", metricName=\"accuracy\")\n",
        "\n",
        "# Set up CrossValidator\n",
        "crossval = CrossValidator(estimator=gbt,\n",
        "                          estimatorParamMaps=paramGrid,\n",
        "                          evaluator=evaluator,\n",
        "                          numFolds=5)\n",
        "\n",
        "# Train the model\n",
        "cv_model = crossval.fit(df)\n",
        "\n",
        "# Evaluate the model\n",
        "accuracy_gbt = evaluator.evaluate(cv_model.transform(df))\n",
        "print(f\"Gradient-Boosted Trees Accuracy: {accuracy_gbt}\")\n"
      ],
      "metadata": {
        "colab": {
          "base_uri": "https://localhost:8080/"
        },
        "id": "J1o6NP_GGp5U",
        "outputId": "575d9553-fe23-4c3a-beb0-2780d42ccd86"
      },
      "execution_count": 25,
      "outputs": [
        {
          "output_type": "stream",
          "name": "stdout",
          "text": [
            "Gradient-Boosted Trees Accuracy: 1.0\n"
          ]
        }
      ]
    },
    {
      "cell_type": "markdown",
      "source": [
        "Support Vector Machine"
      ],
      "metadata": {
        "id": "z8JHTiV2HktZ"
      }
    },
    {
      "cell_type": "code",
      "source": [
        "from pyspark.ml.classification import LinearSVC\n",
        "from pyspark.ml.evaluation import MulticlassClassificationEvaluator\n",
        "from pyspark.ml.tuning import ParamGridBuilder, CrossValidator\n",
        "\n",
        "# Define the Support Vector Machine model\n",
        "svm = LinearSVC(featuresCol=\"scaledFeatures\", labelCol=\"target_binary\")\n",
        "\n",
        "# Set up parameter grid\n",
        "paramGrid = ParamGridBuilder().addGrid(svm.regParam, [0.01, 0.1, 1.0]).build()\n",
        "\n",
        "# Define evaluator\n",
        "evaluator = MulticlassClassificationEvaluator(labelCol=\"target_binary\", metricName=\"accuracy\")\n",
        "\n",
        "# Set up CrossValidator\n",
        "crossval = CrossValidator(estimator=svm,\n",
        "                          estimatorParamMaps=paramGrid,\n",
        "                          evaluator=evaluator,\n",
        "                          numFolds=5)\n",
        "\n",
        "# Train the model\n",
        "cv_model = crossval.fit(df)\n",
        "\n",
        "# Evaluate the model\n",
        "accuracy_svc = evaluator.evaluate(cv_model.transform(df))\n",
        "print(f\"Support Vector Machine Accuracy: {accuracy_svc}\")\n"
      ],
      "metadata": {
        "colab": {
          "base_uri": "https://localhost:8080/"
        },
        "id": "ApsbcF_fHnDM",
        "outputId": "a61fde9f-480b-4108-bef0-50e7fd3eca40"
      },
      "execution_count": 26,
      "outputs": [
        {
          "output_type": "stream",
          "name": "stdout",
          "text": [
            "Support Vector Machine Accuracy: 1.0\n"
          ]
        }
      ]
    },
    {
      "cell_type": "code",
      "source": [
        "import pandas as pd\n",
        "\n",
        "# Initialize an empty DataFrame to store results\n",
        "results_df = pd.DataFrame(columns=[\"Model\", \"Accuracy\"])\n",
        "\n",
        "# Adding results to the DataFrame\n",
        "results_df = pd.concat([results_df, pd.DataFrame([{\"Model\": \"Logistic Regression\", \"Accuracy\": accuracy_lr}])], ignore_index=True)\n",
        "results_df = pd.concat([results_df, pd.DataFrame([{\"Model\": \"Random Forest\", \"Accuracy\": accuracy_rf}])], ignore_index=True)\n",
        "results_df = pd.concat([results_df, pd.DataFrame([{\"Model\": \"Decision Tree\", \"Accuracy\": accuracy_dt}])], ignore_index=True)\n",
        "results_df = pd.concat([results_df, pd.DataFrame([{\"Model\": \"Gradient Boosting Tree\", \"Accuracy\": accuracy_gbt}])], ignore_index=True)\n",
        "results_df = pd.concat([results_df, pd.DataFrame([{\"Model\": \"Support Vector Machine\", \"Accuracy\": accuracy_svc}])], ignore_index=True)\n",
        "\n",
        "\n",
        "# Display the results DataFrame\n",
        "print(results_df)\n",
        "\n"
      ],
      "metadata": {
        "colab": {
          "base_uri": "https://localhost:8080/"
        },
        "id": "QJPPr7_x2uX_",
        "outputId": "db61876b-7627-4f4d-b1aa-4fd73cb0f9e5"
      },
      "execution_count": 28,
      "outputs": [
        {
          "output_type": "stream",
          "name": "stdout",
          "text": [
            "                    Model  Accuracy\n",
            "0     Logistic Regression  0.946128\n",
            "1           Random Forest  0.996633\n",
            "2           Decision Tree  1.000000\n",
            "3  Gradient Boosting Tree  1.000000\n",
            "4  Support Vector Machine  1.000000\n"
          ]
        },
        {
          "output_type": "stream",
          "name": "stderr",
          "text": [
            "<ipython-input-28-8cd86aff965a>:7: FutureWarning: The behavior of DataFrame concatenation with empty or all-NA entries is deprecated. In a future version, this will no longer exclude empty or all-NA columns when determining the result dtypes. To retain the old behavior, exclude the relevant entries before the concat operation.\n",
            "  results_df = pd.concat([results_df, pd.DataFrame([{\"Model\": \"Logistic Regression\", \"Accuracy\": accuracy_lr}])], ignore_index=True)\n"
          ]
        }
      ]
    },
    {
      "cell_type": "code",
      "source": [
        "import matplotlib.pyplot as plt\n",
        "import seaborn as sns\n",
        "\n",
        "# Plot the accuracies\n",
        "plt.figure(figsize=(10, 6))\n",
        "ax = sns.barplot(x=\"Model\", y=\"Accuracy\", data=results_df)\n",
        "plt.title(\"Model Accuracy Comparison\")\n",
        "plt.ylabel(\"Accuracy\")\n",
        "plt.xlabel(\"Model\")\n",
        "plt.xticks(rotation=45)\n",
        "# Add accuracy values on top of each bar with full precision\n",
        "for p in ax.patches:\n",
        "    height = p.get_height()  # Get the height of the bar (i.e., the accuracy)\n",
        "    ax.text(\n",
        "        p.get_x() + p.get_width() / 2,  # X position: center of the bar\n",
        "        height + 0.001,  # Y position: just above the top of the bar\n",
        "        f'{height:.6f}',  # Text: format the accuracy value with 6 decimal places\n",
        "        ha=\"center\"  # Center-align the text\n",
        "    )\n",
        "\n",
        "plt.ylim(0.94, 1.01)  # Adjust y-axis limits to better visualize small differences\n",
        "plt.show()\n"
      ],
      "metadata": {
        "colab": {
          "base_uri": "https://localhost:8080/",
          "height": 677
        },
        "id": "_WJECQb87ap1",
        "outputId": "4b3a5e1f-483e-477f-9edf-e52f25580ed2"
      },
      "execution_count": 32,
      "outputs": [
        {
          "output_type": "display_data",
          "data": {
            "text/plain": [
              "<Figure size 1000x600 with 1 Axes>"
            ],
            "image/png": "[encoded data removed]"
          },
          "metadata": {}
        }
      ]
    }
  ]
}