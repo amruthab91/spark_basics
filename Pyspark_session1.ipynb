{
  "nbformat": 4,
  "nbformat_minor": 0,
  "metadata": {
    "colab": {
      "provenance": [],
      "authorship_tag": "ABX9TyNJ5MgubGjhvL14/luAuEdx"
    },
    "kernelspec": {
      "name": "python3",
      "display_name": "Python 3"
    },
    "language_info": {
      "name": "python"
    }
  },
  "cells": [
    {
      "cell_type": "markdown",
      "source": [
        "Part 1: Initialize PySpark"
      ],
      "metadata": {
        "id": "HDIS_-5tl2Ve"
      }
    },
    {
      "cell_type": "code",
      "execution_count": null,
      "metadata": {
        "colab": {
          "base_uri": "https://localhost:8080/"
        },
        "id": "WDy5pDJxkh9m",
        "outputId": "3c2282a6-16ed-41ed-dc58-2524232bcb07"
      },
      "outputs": [
        {
          "output_type": "stream",
          "name": "stdout",
          "text": [
            "Collecting pyspark\n",
            "  Downloading pyspark-3.5.0.tar.gz (316.9 MB)\n",
            "\u001b[2K     \u001b[90m━━━━━━━━━━━━━━━━━━━━━━━━━━━━━━━━━━━━━━━━\u001b[0m \u001b[32m316.9/316.9 MB\u001b[0m \u001b[31m3.2 MB/s\u001b[0m eta \u001b[36m0:00:00\u001b[0m\n",
            "\u001b[?25h  Preparing metadata (setup.py) ... \u001b[?25l\u001b[?25hdone\n",
            "Requirement already satisfied: py4j==0.10.9.7 in /usr/local/lib/python3.10/dist-packages (from pyspark) (0.10.9.7)\n",
            "Building wheels for collected packages: pyspark\n",
            "  Building wheel for pyspark (setup.py) ... \u001b[?25l\u001b[?25hdone\n",
            "  Created wheel for pyspark: filename=pyspark-3.5.0-py2.py3-none-any.whl size=317425345 sha256=483f8c6f09e8451f47b05de9d6545105a7e5443b13a5ac478d07a5892ba609db\n",
            "  Stored in directory: /root/.cache/pip/wheels/41/4e/10/c2cf2467f71c678cfc8a6b9ac9241e5e44a01940da8fbb17fc\n",
            "Successfully built pyspark\n",
            "Installing collected packages: pyspark\n",
            "Successfully installed pyspark-3.5.0\n"
          ]
        }
      ],
      "source": [
        "!pip3 install pyspark"
      ]
    },
    {
      "cell_type": "code",
      "source": [
        "import pyspark\n",
        "from pyspark.sql import SparkSession\n",
        "\n",
        "spark = SparkSession.builder.appName(\"Tutorial1_CN7030\") \\\n",
        "                            .master(\"local[*]\")\\\n",
        "                            .config(\"spark.some.config.option\", \"some-value\") \\\n",
        "                            .getOrCreate()"
      ],
      "metadata": {
        "id": "okVedVy2lWKd"
      },
      "execution_count": null,
      "outputs": []
    },
    {
      "cell_type": "markdown",
      "source": [
        "Part 2: Create PySpark DataFrame with an explicit schema"
      ],
      "metadata": {
        "id": "ZcwYXhkol7UO"
      }
    },
    {
      "cell_type": "code",
      "source": [
        "# PySpark DataFrame with Explicit Schema\n",
        "df = spark.createDataFrame([\n",
        "    (1, 87.0, 'Mike', 'math', 'passed'),\n",
        "    (2, 60.5, 'Mike', 'computing', 'failed'),\n",
        "    (3, 20.8, 'Mina', 'networking', 'passed'),\n",
        "    (4, 41.0, 'Emmy', 'math', 'failed'),\n",
        "    (5, 39.0, 'Alex', 'computing', 'failed'),\n",
        "    (6, 55.8, 'Alex', 'AI', 'passed'),\n",
        "    (7, 74.0, 'Emmy', 'AI', 'passed'),\n",
        "    ], schema = 'ID int, Mark double, Name string, Lesson string, Status string')\n",
        "\n",
        "# show table\n",
        "df.show()\n",
        "\n",
        "# show schema\n",
        "df.printSchema()"
      ],
      "metadata": {
        "colab": {
          "base_uri": "https://localhost:8080/"
        },
        "id": "izCDiVK2lbTO",
        "outputId": "92717c16-a569-43c8-81fa-2c10c6fb01ab"
      },
      "execution_count": null,
      "outputs": [
        {
          "output_type": "stream",
          "name": "stdout",
          "text": [
            "+---+----+----+----------+------+\n",
            "| ID|Mark|Name|    Lesson|Status|\n",
            "+---+----+----+----------+------+\n",
            "|  1|87.0|Mike|      math|passed|\n",
            "|  2|60.5|Mike| computing|failed|\n",
            "|  3|20.8|Mina|networking|passed|\n",
            "|  4|41.0|Emmy|      math|failed|\n",
            "|  5|39.0|Alex| computing|failed|\n",
            "|  6|55.8|Alex|        AI|passed|\n",
            "|  7|74.0|Emmy|        AI|passed|\n",
            "+---+----+----+----------+------+\n",
            "\n",
            "root\n",
            " |-- ID: integer (nullable = true)\n",
            " |-- Mark: double (nullable = true)\n",
            " |-- Name: string (nullable = true)\n",
            " |-- Lesson: string (nullable = true)\n",
            " |-- Status: string (nullable = true)\n",
            "\n"
          ]
        }
      ]
    },
    {
      "cell_type": "code",
      "source": [
        "data = [[295, \"South Bend\", \"Indiana\",  101190, 112.9]]\n",
        "columns = [\"rank\", \"city\", \"state\",  \"population\", \"price\"]\n",
        "\n",
        "df1 = spark.createDataFrame(data, schema=\"rank LONG, city STRING, state STRING,  population LONG, price DOUBLE\")\n",
        "display(df1)\n",
        "df1.show()"
      ],
      "metadata": {
        "colab": {
          "base_uri": "https://localhost:8080/",
          "height": 139
        },
        "id": "I-P1P7SSmP0H",
        "outputId": "8cbad869-7b3b-4bb0-b457-ac3e3f31161f"
      },
      "execution_count": null,
      "outputs": [
        {
          "output_type": "display_data",
          "data": {
            "text/plain": [
              "DataFrame[rank: bigint, city: string, state: string, population: bigint, price: double]"
            ]
          },
          "metadata": {}
        },
        {
          "output_type": "stream",
          "name": "stdout",
          "text": [
            "+----+----------+-------+----------+-----+\n",
            "|rank|      city|  state|population|price|\n",
            "+----+----------+-------+----------+-----+\n",
            "| 295|South Bend|Indiana|    101190|112.9|\n",
            "+----+----------+-------+----------+-----+\n",
            "\n"
          ]
        }
      ]
    },
    {
      "cell_type": "markdown",
      "source": [
        "Part 3: Create PySpark DataFrame from Pandas DataFrame"
      ],
      "metadata": {
        "id": "hsv6krLBmR7H"
      }
    },
    {
      "cell_type": "code",
      "source": [
        "import numpy as np\n",
        "import pandas as pd\n",
        "df_pandas = pd.DataFrame(np.random.randint(0,200,size=(100000, 5)), columns=list('ABCDE'))"
      ],
      "metadata": {
        "id": "ulN0QWvimSyB"
      },
      "execution_count": null,
      "outputs": []
    },
    {
      "cell_type": "code",
      "source": [
        "df2 = spark.createDataFrame(df_pandas)\n",
        "\n",
        "# show table\n",
        "df2.show()\n",
        "\n",
        "# show schema\n",
        "df2.printSchema()"
      ],
      "metadata": {
        "colab": {
          "base_uri": "https://localhost:8080/"
        },
        "id": "7WhtmAZUmfjw",
        "outputId": "fa43bfd6-24e4-49cf-a530-ccf71894b64e"
      },
      "execution_count": null,
      "outputs": [
        {
          "output_type": "stream",
          "name": "stdout",
          "text": [
            "+---+---+---+---+---+\n",
            "|  A|  B|  C|  D|  E|\n",
            "+---+---+---+---+---+\n",
            "| 85| 60| 47|147| 56|\n",
            "| 73|138|168| 26| 52|\n",
            "|137|165|172|186| 44|\n",
            "| 52| 72|198|131|139|\n",
            "|113| 35|182|140| 69|\n",
            "| 92|128|119| 88| 78|\n",
            "|132| 89| 40|120|199|\n",
            "|191|185| 64|113|139|\n",
            "| 35| 42| 59|  4|179|\n",
            "|101|194| 99| 14|157|\n",
            "| 91| 48| 68|133|151|\n",
            "| 76|101|118|146| 79|\n",
            "|128| 77|  8|107|196|\n",
            "| 49| 51|188| 52|111|\n",
            "|191|136|150| 14|164|\n",
            "| 63|170| 57| 69|147|\n",
            "|132| 43|184| 67| 88|\n",
            "|145|166|135| 71| 86|\n",
            "|189| 64|150| 74| 95|\n",
            "|105| 18| 48|134| 59|\n",
            "+---+---+---+---+---+\n",
            "only showing top 20 rows\n",
            "\n",
            "root\n",
            " |-- A: long (nullable = true)\n",
            " |-- B: long (nullable = true)\n",
            " |-- C: long (nullable = true)\n",
            " |-- D: long (nullable = true)\n",
            " |-- E: long (nullable = true)\n",
            "\n"
          ]
        }
      ]
    },
    {
      "cell_type": "code",
      "source": [
        "print(df2.count())"
      ],
      "metadata": {
        "colab": {
          "base_uri": "https://localhost:8080/"
        },
        "id": "NmCGsmt4mikA",
        "outputId": "9c7c5e05-6105-440d-dc32-81192ef55999"
      },
      "execution_count": null,
      "outputs": [
        {
          "output_type": "stream",
          "name": "stdout",
          "text": [
            "100000\n"
          ]
        }
      ]
    },
    {
      "cell_type": "code",
      "source": [
        "# Returns a DataFrame that combines the rows of df1 and df\n",
        "print(\"rows in df\",df.count())\n",
        "df.show()\n",
        "print(\"rows in df1\",df1.count())\n",
        "df1.show()\n",
        "df3 = df1.union(df)\n",
        "print(\"rows in df3\")\n",
        "print(df3.count())\n",
        "df3.show()\n",
        "print(\"showing the data frame from the bottom\")\n",
        "df3.tail(7)"
      ],
      "metadata": {
        "colab": {
          "base_uri": "https://localhost:8080/"
        },
        "id": "lhk2MOfSmkbI",
        "outputId": "5df0acf2-5a39-434e-c8ee-88e40a353330"
      },
      "execution_count": null,
      "outputs": [
        {
          "output_type": "stream",
          "name": "stdout",
          "text": [
            "rows in df 7\n",
            "+---+----+----+----------+------+\n",
            "| ID|Mark|Name|    Lesson|Status|\n",
            "+---+----+----+----------+------+\n",
            "|  1|87.0|Mike|      math|passed|\n",
            "|  2|60.5|Mike| computing|failed|\n",
            "|  3|20.8|Mina|networking|passed|\n",
            "|  4|41.0|Emmy|      math|failed|\n",
            "|  5|39.0|Alex| computing|failed|\n",
            "|  6|55.8|Alex|        AI|passed|\n",
            "|  7|74.0|Emmy|        AI|passed|\n",
            "+---+----+----+----------+------+\n",
            "\n",
            "rows in df1 1\n",
            "+----+----------+-------+----------+-----+\n",
            "|rank|      city|  state|population|price|\n",
            "+----+----------+-------+----------+-----+\n",
            "| 295|South Bend|Indiana|    101190|112.9|\n",
            "+----+----------+-------+----------+-----+\n",
            "\n",
            "rows in df3\n",
            "8\n",
            "+----+----------+-------+----------+------+\n",
            "|rank|      city|  state|population| price|\n",
            "+----+----------+-------+----------+------+\n",
            "| 295|South Bend|Indiana|    101190| 112.9|\n",
            "|   1|      87.0|   Mike|      math|passed|\n",
            "|   2|      60.5|   Mike| computing|failed|\n",
            "|   3|      20.8|   Mina|networking|passed|\n",
            "|   4|      41.0|   Emmy|      math|failed|\n",
            "|   5|      39.0|   Alex| computing|failed|\n",
            "|   6|      55.8|   Alex|        AI|passed|\n",
            "|   7|      74.0|   Emmy|        AI|passed|\n",
            "+----+----------+-------+----------+------+\n",
            "\n",
            "showing the data frame from the bottom\n"
          ]
        },
        {
          "output_type": "execute_result",
          "data": {
            "text/plain": [
              "[Row(rank=1, city='87.0', state='Mike', population='math', price='passed'),\n",
              " Row(rank=2, city='60.5', state='Mike', population='computing', price='failed'),\n",
              " Row(rank=3, city='20.8', state='Mina', population='networking', price='passed'),\n",
              " Row(rank=4, city='41.0', state='Emmy', population='math', price='failed'),\n",
              " Row(rank=5, city='39.0', state='Alex', population='computing', price='failed'),\n",
              " Row(rank=6, city='55.8', state='Alex', population='AI', price='passed'),\n",
              " Row(rank=7, city='74.0', state='Emmy', population='AI', price='passed')]"
            ]
          },
          "metadata": {},
          "execution_count": 9
        }
      ]
    },
    {
      "cell_type": "markdown",
      "source": [
        "How many partitions? - To find the partitions"
      ],
      "metadata": {
        "id": "_Nivu3bZmsk3"
      }
    },
    {
      "cell_type": "code",
      "source": [
        "Totpartition=df.rdd.getNumPartitions()\n",
        "print(Totpartition)\n",
        "newpartitiondf = df.repartition(4)\n",
        "\n",
        "print(newpartitiondf.rdd.getNumPartitions())\n",
        "\n",
        "# Repatition by column name into 4 partitions, check the df1 it has a column name city we want it to be in four paritition\n",
        "df4 = df1.repartition(4, \"city\")\n",
        "print(df4.rdd.getNumPartitions())\n",
        "# Repatition by multiple columns\n",
        "#df5 = df4.repartition(\"ColumnName1\",\"ColumnName2\")\n"
      ],
      "metadata": {
        "colab": {
          "base_uri": "https://localhost:8080/"
        },
        "id": "xBzcLCLVmqug",
        "outputId": "f87a6ba4-d74f-4809-9c28-2b63764dd5ae"
      },
      "execution_count": null,
      "outputs": [
        {
          "output_type": "stream",
          "name": "stdout",
          "text": [
            "2\n",
            "4\n",
            "4\n"
          ]
        }
      ]
    },
    {
      "cell_type": "code",
      "source": [
        "myfile=\"/content/CompleteDataset.csv\"\n",
        "df_fifa = spark.read.format(\"csv\").load(myfile, inferSchema=True, header=True)"
      ],
      "metadata": {
        "id": "Yx3HhyN-qC0T"
      },
      "execution_count": null,
      "outputs": []
    },
    {
      "cell_type": "code",
      "source": [
        "# show table\n",
        "df_fifa.show(truncate = True)\n",
        "\n",
        "# show schema\n",
        "df_fifa.printSchema()"
      ],
      "metadata": {
        "colab": {
          "base_uri": "https://localhost:8080/"
        },
        "id": "XA9QFYy7qH_t",
        "outputId": "b8fd17a1-10b6-4046-f676-debce8bc2ad5"
      },
      "execution_count": null,
      "outputs": [
        {
          "output_type": "stream",
          "name": "stdout",
          "text": [
            "+---+-----------------+---+--------------------+-----------+--------------------+-------+---------+-------------------+--------------------+------+-----+-------+------------+----------+-------+-------+------------+---------+--------+-----+---------+---------+------------------+---------+-----------+----------+--------------+-----------+----------------+-------------+-------+------------+----------+-------+---------+-----------+---------+-------------+----------+--------------+------------+-------+---------------+--------+------+-------+----+----+----+----+----+------+----+----+----+----+----+----+----+----+----+----+-------------------+----+----+----+----+----+----+----+----+----+----+----+\n",
            "|_c0|             Name|Age|               Photo|Nationality|                Flag|Overall|Potential|               Club|           Club Logo| Value| Wage|Special|Acceleration|Aggression|Agility|Balance|Ball control|Composure|Crossing|Curve|Dribbling|Finishing|Free kick accuracy|GK diving|GK handling|GK kicking|GK positioning|GK reflexes|Heading accuracy|Interceptions|Jumping|Long passing|Long shots|Marking|Penalties|Positioning|Reactions|Short passing|Shot power|Sliding tackle|Sprint speed|Stamina|Standing tackle|Strength|Vision|Volleys| CAM|  CB| CDM|  CF|  CM|    ID| LAM|  LB| LCB| LCM| LDM|  LF|  LM|  LS|  LW| LWB|Preferred Positions| RAM|  RB| RCB| RCM| RDM|  RF|  RM|  RS|  RW| RWB|  ST|\n",
            "+---+-----------------+---+--------------------+-----------+--------------------+-------+---------+-------------------+--------------------+------+-----+-------+------------+----------+-------+-------+------------+---------+--------+-----+---------+---------+------------------+---------+-----------+----------+--------------+-----------+----------------+-------------+-------+------------+----------+-------+---------+-----------+---------+-------------+----------+--------------+------------+-------+---------------+--------+------+-------+----+----+----+----+----+------+----+----+----+----+----+----+----+----+----+----+-------------------+----+----+----+----+----+----+----+----+----+----+----+\n",
            "|  0|Cristiano Ronaldo| 32|https://cdn.sofif...|   Portugal|https://cdn.sofif...|     94|       94|     Real Madrid CF|https://cdn.sofif...|€95.5M|€565K|   2228|          89|        63|     89|     63|          93|       95|      85|   81|       91|       94|                76|        7|         11|        15|            14|         11|              88|           29|     95|          77|        92|     22|       85|         95|       96|           83|        94|            23|          91|     92|             31|      80|    85|     88|89.0|53.0|62.0|91.0|82.0| 20801|89.0|61.0|53.0|82.0|62.0|91.0|89.0|92.0|91.0|66.0|             ST LW |89.0|61.0|53.0|82.0|62.0|91.0|89.0|92.0|91.0|66.0|92.0|\n",
            "|  1|         L. Messi| 30|https://cdn.sofif...|  Argentina|https://cdn.sofif...|     93|       93|       FC Barcelona|https://cdn.sofif...| €105M|€565K|   2154|          92|        48|     90|     95|          95|       96|      77|   89|       97|       95|                90|        6|         11|        15|            14|          8|              71|           22|     68|          87|        88|     13|       74|         93|       95|           88|        85|            26|          87|     73|             28|      59|    90|     85|92.0|45.0|59.0|92.0|84.0|158023|92.0|57.0|45.0|84.0|59.0|92.0|90.0|88.0|91.0|62.0|                RW |92.0|57.0|45.0|84.0|59.0|92.0|90.0|88.0|91.0|62.0|88.0|\n",
            "|  2|           Neymar| 25|https://cdn.sofif...|     Brazil|https://cdn.sofif...|     92|       94|Paris Saint-Germain|https://cdn.sofif...| €123M|€280K|   2100|          94|        56|     96|     82|          95|       92|      75|   81|       96|       89|                84|        9|          9|        15|            15|         11|              62|           36|     61|          75|        77|     21|       81|         90|       88|           81|        80|            33|          90|     78|             24|      53|    80|     83|88.0|46.0|59.0|88.0|79.0|190871|88.0|59.0|46.0|79.0|59.0|88.0|87.0|84.0|89.0|64.0|                LW |88.0|59.0|46.0|79.0|59.0|88.0|87.0|84.0|89.0|64.0|84.0|\n",
            "|  3|        L. Suárez| 30|https://cdn.sofif...|    Uruguay|https://cdn.sofif...|     92|       92|       FC Barcelona|https://cdn.sofif...|  €97M|€510K|   2291|          88|        78|     86|     60|          91|       83|      77|   86|       86|       94|                84|       27|         25|        31|            33|         37|              77|           41|     69|          64|        86|     30|       85|         92|       93|           83|        87|            38|          77|     89|             45|      80|    84|     88|87.0|58.0|65.0|88.0|80.0|176580|87.0|64.0|58.0|80.0|65.0|88.0|85.0|88.0|87.0|68.0|                ST |87.0|64.0|58.0|80.0|65.0|88.0|85.0|88.0|87.0|68.0|88.0|\n",
            "|  4|         M. Neuer| 31|https://cdn.sofif...|    Germany|https://cdn.sofif...|     92|       92|   FC Bayern Munich|https://cdn.sofif...|  €61M|€230K|   1493|          58|        29|     52|     35|          48|       70|      15|   14|       30|       13|                11|       91|         90|        95|            91|         89|              25|           30|     78|          59|        16|     10|       47|         12|       85|           55|        25|            11|          61|     44|             10|      83|    70|     11|NULL|NULL|NULL|NULL|NULL|167495|NULL|NULL|NULL|NULL|NULL|NULL|NULL|NULL|NULL|NULL|                GK |NULL|NULL|NULL|NULL|NULL|NULL|NULL|NULL|NULL|NULL|NULL|\n",
            "|  5|   R. Lewandowski| 28|https://cdn.sofif...|     Poland|https://cdn.sofif...|     91|       91|   FC Bayern Munich|https://cdn.sofif...|  €92M|€355K|   2143|          79|        80|     78|     80|          89|       87|      62|   77|       85|       91|                84|       15|          6|        12|             8|         10|              85|           39|     84|          65|        83|     25|       81|         91|       91|           83|        88|            19|          83|     79|             42|      84|    78|     87|84.0|57.0|62.0|87.0|78.0|188545|84.0|58.0|57.0|78.0|62.0|87.0|82.0|88.0|84.0|61.0|                ST |84.0|58.0|57.0|78.0|62.0|87.0|82.0|88.0|84.0|61.0|88.0|\n",
            "|  6|           De Gea| 26|https://cdn.sofif...|      Spain|https://cdn.sofif...|     90|       92|  Manchester United|https://cdn.sofif...|€64.5M|€215K|   1458|          57|        38|     60|     43|          42|       64|      17|   21|       18|       13|                19|       90|         85|        87|            86|         90|              21|           30|     67|          51|        12|     13|       40|         12|       88|           50|        31|            13|          58|     40|             21|      64|    68|     13|NULL|NULL|NULL|NULL|NULL|193080|NULL|NULL|NULL|NULL|NULL|NULL|NULL|NULL|NULL|NULL|                GK |NULL|NULL|NULL|NULL|NULL|NULL|NULL|NULL|NULL|NULL|NULL|\n",
            "|  7|        E. Hazard| 26|https://cdn.sofif...|    Belgium|https://cdn.sofif...|     90|       91|            Chelsea|https://cdn.sofif...|€90.5M|€295K|   2096|          93|        54|     93|     91|          92|       87|      80|   82|       93|       83|                79|       11|         12|         6|             8|          8|              57|           41|     59|          81|        82|     25|       86|         85|       85|           86|        79|            22|          87|     79|             27|      65|    86|     79|88.0|47.0|61.0|87.0|81.0|183277|88.0|59.0|47.0|81.0|61.0|87.0|87.0|82.0|88.0|64.0|                LW |88.0|59.0|47.0|81.0|61.0|87.0|87.0|82.0|88.0|64.0|82.0|\n",
            "|  8|         T. Kroos| 27|https://cdn.sofif...|    Germany|https://cdn.sofif...|     90|       90|     Real Madrid CF|https://cdn.sofif...|  €79M|€340K|   2165|          60|        60|     71|     69|          89|       85|      85|   85|       79|       76|                84|       10|         11|        13|             7|         10|              54|           85|     32|          93|        90|     63|       73|         79|       86|           90|        87|            69|          52|     77|             82|      74|    88|     82|83.0|72.0|82.0|81.0|87.0|182521|83.0|76.0|72.0|87.0|82.0|81.0|81.0|77.0|80.0|78.0|            CDM CM |83.0|76.0|72.0|87.0|82.0|81.0|81.0|77.0|80.0|78.0|77.0|\n",
            "|  9|       G. Higuaín| 29|https://cdn.sofif...|  Argentina|https://cdn.sofif...|     90|       90|           Juventus|https://cdn.sofif...|  €77M|€275K|   1961|          78|        50|     75|     69|          85|       86|      68|   74|       84|       91|                62|        5|         12|         7|             5|         10|              86|           20|     79|          59|        82|     12|       70|         92|       88|           75|        88|            18|          80|     72|             22|      85|    70|     88|81.0|46.0|52.0|84.0|71.0|167664|81.0|51.0|46.0|71.0|52.0|84.0|79.0|87.0|82.0|55.0|                ST |81.0|51.0|46.0|71.0|52.0|84.0|79.0|87.0|82.0|55.0|87.0|\n",
            "| 10|     Sergio Ramos| 31|https://cdn.sofif...|      Spain|https://cdn.sofif...|     90|       90|     Real Madrid CF|https://cdn.sofif...|  €52M|€310K|   2153|          75|        84|     79|     60|          84|       80|      66|   73|       61|       60|                67|       11|          8|         9|             7|         11|              91|           88|     93|          72|        55|     86|       68|         52|       85|           78|        79|            91|          77|     84|             89|      81|    63|     66|70.0|87.0|83.0|70.0|74.0|155862|70.0|84.0|87.0|74.0|83.0|70.0|71.0|72.0|69.0|81.0|                CB |70.0|84.0|87.0|74.0|83.0|70.0|71.0|72.0|69.0|81.0|72.0|\n",
            "| 11|     K. De Bruyne| 26|https://cdn.sofif...|    Belgium|https://cdn.sofif...|     89|       92|    Manchester City|https://cdn.sofif...|  €83M|€285K|   2162|          76|        68|     80|     75|          87|       84|      90|   83|       85|       83|                83|       15|         13|         5|            10|         13|              53|           56|     65|          84|        86|     30|       77|         84|       88|           90|        85|            40|          75|     87|             51|      73|    90|     82|86.0|57.0|70.0|85.0|84.0|192985|86.0|66.0|57.0|84.0|70.0|85.0|85.0|81.0|85.0|71.0|         RM CM CAM |86.0|66.0|57.0|84.0|70.0|85.0|85.0|81.0|85.0|71.0|81.0|\n",
            "| 12|      T. Courtois| 25|https://cdn.sofif...|    Belgium|https://cdn.sofif...|     89|       92|            Chelsea|https://cdn.sofif...|  €59M|€190K|   1282|          46|        23|     61|     45|          23|       52|      14|   19|       13|       14|                11|       85|         91|        69|            86|         88|              13|           15|     68|          31|        17|     11|       27|         13|       81|           32|        36|            16|          52|     38|             18|      70|    44|     12|NULL|NULL|NULL|NULL|NULL|192119|NULL|NULL|NULL|NULL|NULL|NULL|NULL|NULL|NULL|NULL|                GK |NULL|NULL|NULL|NULL|NULL|NULL|NULL|NULL|NULL|NULL|NULL|\n",
            "| 13|       A. Sánchez| 28|https://cdn.sofif...|      Chile|https://cdn.sofif...|     89|       89|            Arsenal|https://cdn.sofif...|€67.5M|€265K|   2181|          88|        80|     90|     87|          87|       86|      80|   78|       90|       85|                78|       10|         10|        15|            12|         13|              70|           42|     85|          73|        82|     30|       77|         86|       87|           81|        84|            35|          84|     85|             39|      72|    83|     83|85.0|56.0|64.0|85.0|79.0|184941|85.0|62.0|56.0|79.0|64.0|85.0|85.0|83.0|86.0|66.0|       RM LW ST LM |85.0|62.0|56.0|79.0|64.0|85.0|85.0|83.0|86.0|66.0|83.0|\n",
            "| 14|        L. Modrić| 31|https://cdn.sofif...|    Croatia|https://cdn.sofif...|     89|       89|     Real Madrid CF|https://cdn.sofif...|  €57M|€340K|   2228|          75|        62|     93|     94|          92|       84|      78|   79|       86|       71|                77|       13|          9|         7|            14|          9|              55|           76|     67|          83|        82|     66|       80|         79|       88|           92|        73|            73|          71|     82|             80|      58|    90|     74|86.0|72.0|80.0|83.0|86.0|177003|86.0|78.0|72.0|86.0|80.0|83.0|84.0|76.0|83.0|80.0|            CDM CM |86.0|78.0|72.0|86.0|80.0|83.0|84.0|76.0|83.0|80.0|76.0|\n",
            "| 15|          G. Bale| 27|https://cdn.sofif...|      Wales|https://cdn.sofif...|     89|       89|     Real Madrid CF|https://cdn.sofif...|€69.5M|€370K|   2263|          93|        65|     77|     65|          87|       85|      87|   86|       89|       87|                85|       15|         15|        11|             5|          6|              86|           59|     85|          80|        90|     51|       76|         86|       87|           86|        91|            52|          95|     76|             55|      80|    79|     76|86.0|67.0|71.0|87.0|81.0|173731|86.0|72.0|67.0|81.0|71.0|87.0|87.0|87.0|87.0|74.0|                RW |86.0|72.0|67.0|81.0|71.0|87.0|87.0|87.0|87.0|74.0|87.0|\n",
            "| 16|        S. Agüero| 29|https://cdn.sofif...|  Argentina|https://cdn.sofif...|     89|       89|    Manchester City|https://cdn.sofif...|€66.5M|€325K|   2074|          90|        63|     86|     91|          89|       90|      70|   82|       89|       90|                72|       13|         15|         6|            11|         14|              68|           24|     80|          63|        83|     13|       83|         91|       89|           79|        88|            12|          84|     74|             20|      74|    83|     85|85.0|44.0|54.0|87.0|75.0|153079|85.0|52.0|44.0|75.0|54.0|87.0|84.0|86.0|86.0|57.0|                ST |85.0|52.0|44.0|75.0|54.0|87.0|84.0|86.0|86.0|57.0|86.0|\n",
            "| 17|     G. Chiellini| 32|https://cdn.sofif...|      Italy|https://cdn.sofif...|     89|       89|           Juventus|https://cdn.sofif...|  €38M|€225K|   1867|          68|        92|     59|     64|          57|       82|      58|   60|       58|       33|                31|        3|          3|         2|             4|          3|              84|           88|     89|          59|        49|     92|       50|         28|       82|           59|        78|            90|          78|     68|             92|      91|    50|     45|55.0|86.0|76.0|55.0|60.0|138956|55.0|78.0|86.0|60.0|76.0|55.0|58.0|59.0|56.0|75.0|                CB |55.0|78.0|86.0|60.0|76.0|55.0|58.0|59.0|56.0|75.0|59.0|\n",
            "| 18|        G. Buffon| 39|https://cdn.sofif...|      Italy|https://cdn.sofif...|     89|       89|           Juventus|https://cdn.sofif...| €4.5M|€110K|   1335|          49|        38|     55|     49|          28|       70|      13|   20|       26|       15|                13|       89|         88|        74|            90|         84|              13|           28|     75|          35|        13|     10|       22|         12|       80|           37|        39|            11|          43|     39|             11|      69|    50|     17|NULL|NULL|NULL|NULL|NULL|  1179|NULL|NULL|NULL|NULL|NULL|NULL|NULL|NULL|NULL|NULL|                GK |NULL|NULL|NULL|NULL|NULL|NULL|NULL|NULL|NULL|NULL|NULL|\n",
            "| 19|        P. Dybala| 23|https://cdn.sofif...|  Argentina|https://cdn.sofif...|     88|       93|           Juventus|https://cdn.sofif...|  €79M|€215K|   2063|          88|        48|     91|     85|          93|       84|      80|   88|       92|       85|                84|        5|          4|         4|             5|          8|              68|           24|     75|          71|        88|     14|       86|         84|       84|           83|        82|            20|          84|     83|             20|      65|    84|     88|86.0|43.0|55.0|86.0|78.0|211110|86.0|55.0|43.0|78.0|55.0|86.0|86.0|83.0|87.0|60.0|            ST CAM |86.0|55.0|43.0|78.0|55.0|86.0|86.0|83.0|87.0|60.0|83.0|\n",
            "+---+-----------------+---+--------------------+-----------+--------------------+-------+---------+-------------------+--------------------+------+-----+-------+------------+----------+-------+-------+------------+---------+--------+-----+---------+---------+------------------+---------+-----------+----------+--------------+-----------+----------------+-------------+-------+------------+----------+-------+---------+-----------+---------+-------------+----------+--------------+------------+-------+---------------+--------+------+-------+----+----+----+----+----+------+----+----+----+----+----+----+----+----+----+----+-------------------+----+----+----+----+----+----+----+----+----+----+----+\n",
            "only showing top 20 rows\n",
            "\n",
            "root\n",
            " |-- _c0: integer (nullable = true)\n",
            " |-- Name: string (nullable = true)\n",
            " |-- Age: integer (nullable = true)\n",
            " |-- Photo: string (nullable = true)\n",
            " |-- Nationality: string (nullable = true)\n",
            " |-- Flag: string (nullable = true)\n",
            " |-- Overall: integer (nullable = true)\n",
            " |-- Potential: integer (nullable = true)\n",
            " |-- Club: string (nullable = true)\n",
            " |-- Club Logo: string (nullable = true)\n",
            " |-- Value: string (nullable = true)\n",
            " |-- Wage: string (nullable = true)\n",
            " |-- Special: integer (nullable = true)\n",
            " |-- Acceleration: string (nullable = true)\n",
            " |-- Aggression: string (nullable = true)\n",
            " |-- Agility: string (nullable = true)\n",
            " |-- Balance: string (nullable = true)\n",
            " |-- Ball control: string (nullable = true)\n",
            " |-- Composure: string (nullable = true)\n",
            " |-- Crossing: string (nullable = true)\n",
            " |-- Curve: string (nullable = true)\n",
            " |-- Dribbling: string (nullable = true)\n",
            " |-- Finishing: string (nullable = true)\n",
            " |-- Free kick accuracy: string (nullable = true)\n",
            " |-- GK diving: string (nullable = true)\n",
            " |-- GK handling: string (nullable = true)\n",
            " |-- GK kicking: string (nullable = true)\n",
            " |-- GK positioning: string (nullable = true)\n",
            " |-- GK reflexes: string (nullable = true)\n",
            " |-- Heading accuracy: string (nullable = true)\n",
            " |-- Interceptions: string (nullable = true)\n",
            " |-- Jumping: string (nullable = true)\n",
            " |-- Long passing: string (nullable = true)\n",
            " |-- Long shots: string (nullable = true)\n",
            " |-- Marking: string (nullable = true)\n",
            " |-- Penalties: string (nullable = true)\n",
            " |-- Positioning: string (nullable = true)\n",
            " |-- Reactions: string (nullable = true)\n",
            " |-- Short passing: string (nullable = true)\n",
            " |-- Shot power: string (nullable = true)\n",
            " |-- Sliding tackle: string (nullable = true)\n",
            " |-- Sprint speed: string (nullable = true)\n",
            " |-- Stamina: string (nullable = true)\n",
            " |-- Standing tackle: string (nullable = true)\n",
            " |-- Strength: string (nullable = true)\n",
            " |-- Vision: string (nullable = true)\n",
            " |-- Volleys: string (nullable = true)\n",
            " |-- CAM: double (nullable = true)\n",
            " |-- CB: double (nullable = true)\n",
            " |-- CDM: double (nullable = true)\n",
            " |-- CF: double (nullable = true)\n",
            " |-- CM: double (nullable = true)\n",
            " |-- ID: integer (nullable = true)\n",
            " |-- LAM: double (nullable = true)\n",
            " |-- LB: double (nullable = true)\n",
            " |-- LCB: double (nullable = true)\n",
            " |-- LCM: double (nullable = true)\n",
            " |-- LDM: double (nullable = true)\n",
            " |-- LF: double (nullable = true)\n",
            " |-- LM: double (nullable = true)\n",
            " |-- LS: double (nullable = true)\n",
            " |-- LW: double (nullable = true)\n",
            " |-- LWB: double (nullable = true)\n",
            " |-- Preferred Positions: string (nullable = true)\n",
            " |-- RAM: double (nullable = true)\n",
            " |-- RB: double (nullable = true)\n",
            " |-- RCB: double (nullable = true)\n",
            " |-- RCM: double (nullable = true)\n",
            " |-- RDM: double (nullable = true)\n",
            " |-- RF: double (nullable = true)\n",
            " |-- RM: double (nullable = true)\n",
            " |-- RS: double (nullable = true)\n",
            " |-- RW: double (nullable = true)\n",
            " |-- RWB: double (nullable = true)\n",
            " |-- ST: double (nullable = true)\n",
            "\n"
          ]
        }
      ]
    },
    {
      "cell_type": "code",
      "source": [
        "print(df_fifa.count())\n",
        "print(len(df_fifa.columns))"
      ],
      "metadata": {
        "colab": {
          "base_uri": "https://localhost:8080/"
        },
        "id": "F01a_H8JqgjG",
        "outputId": "8603a09d-34b0-4993-b9ef-44d34b517bd5"
      },
      "execution_count": null,
      "outputs": [
        {
          "output_type": "stream",
          "name": "stdout",
          "text": [
            "17981\n",
            "75\n"
          ]
        }
      ]
    },
    {
      "cell_type": "code",
      "source": [
        "# Count rows using rdd attribute\n",
        "row_count = df_fifa.rdd.count()\n",
        "\n",
        "print(f'The DataFrame has {row_count} rows.')"
      ],
      "metadata": {
        "colab": {
          "base_uri": "https://localhost:8080/"
        },
        "id": "cokAkO2yqiv3",
        "outputId": "c6821c61-a316-4d49-8558-6d64b44bd4e4"
      },
      "execution_count": null,
      "outputs": [
        {
          "output_type": "stream",
          "name": "stdout",
          "text": [
            "The DataFrame has 17981 rows.\n"
          ]
        }
      ]
    },
    {
      "cell_type": "code",
      "source": [
        "# Change the number of partitions\n",
        "df_fifa = df_fifa.repartition(4)\n",
        "df_fifa.rdd.getNumPartitions()\n"
      ],
      "metadata": {
        "colab": {
          "base_uri": "https://localhost:8080/"
        },
        "id": "Kn98ThNjqla-",
        "outputId": "03ef088f-a778-4946-d182-3842d5457275"
      },
      "execution_count": null,
      "outputs": [
        {
          "output_type": "execute_result",
          "data": {
            "text/plain": [
              "4"
            ]
          },
          "metadata": {},
          "execution_count": 17
        }
      ]
    },
    {
      "cell_type": "code",
      "source": [
        "# showing Age more than  20\n",
        "subset_Age = df_fifa.filter(df_fifa[\"Age\"] > 30)\n",
        "subset_Age.show(10)"
      ],
      "metadata": {
        "colab": {
          "base_uri": "https://localhost:8080/"
        },
        "id": "HfxGTQZxqunQ",
        "outputId": "29504c1a-4b70-4231-da18-b25c2c7d0e46"
      },
      "execution_count": null,
      "outputs": [
        {
          "output_type": "stream",
          "name": "stdout",
          "text": [
            "+-----+-------------+---+--------------------+-------------+--------------------+-------+---------+--------------------+--------------------+-----+----+-------+------------+----------+-------+-------+------------+---------+--------+-----+---------+---------+------------------+---------+-----------+----------+--------------+-----------+----------------+-------------+-------+------------+----------+-------+---------+-----------+---------+-------------+----------+--------------+------------+-------+---------------+--------+------+-------+----+----+----+----+----+------+----+----+----+----+----+----+----+----+----+----+-------------------+----+----+----+----+----+----+----+----+----+----+----+\n",
            "|  _c0|         Name|Age|               Photo|  Nationality|                Flag|Overall|Potential|                Club|           Club Logo|Value|Wage|Special|Acceleration|Aggression|Agility|Balance|Ball control|Composure|Crossing|Curve|Dribbling|Finishing|Free kick accuracy|GK diving|GK handling|GK kicking|GK positioning|GK reflexes|Heading accuracy|Interceptions|Jumping|Long passing|Long shots|Marking|Penalties|Positioning|Reactions|Short passing|Shot power|Sliding tackle|Sprint speed|Stamina|Standing tackle|Strength|Vision|Volleys| CAM|  CB| CDM|  CF|  CM|    ID| LAM|  LB| LCB| LCM| LDM|  LF|  LM|  LS|  LW| LWB|Preferred Positions| RAM|  RB| RCB| RCM| RDM|  RF|  RM|  RS|  RW| RWB|  ST|\n",
            "+-----+-------------+---+--------------------+-------------+--------------------+-------+---------+--------------------+--------------------+-----+----+-------+------------+----------+-------+-------+------------+---------+--------+-----+---------+---------+------------------+---------+-----------+----------+--------------+-----------+----------------+-------------+-------+------------+----------+-------+---------+-----------+---------+-------------+----------+--------------+------------+-------+---------------+--------+------+-------+----+----+----+----+----+------+----+----+----+----+----+----+----+----+----+----+-------------------+----+----+----+----+----+----+----+----+----+----+----+\n",
            "| 6913|     R. Grzyb| 34|https://cdn.sofif...|       Poland|https://cdn.sofif...|     68|       68|Jagiellonia Biały...|https://cdn.sofif...|€270K| €6K|   1779|          68|        70|     73|     77|          62|       74|      65|   57|       61|       38|                17|        8|         13|        11|             8|         10|              56|           82|     81|          64|        67|     61|       52|         64|       61|           64|        68|            69|          33|     72|             64|      69|    56|     58|60.0|66.0|67.0|58.0|63.0|182844|60.0|65.0|66.0|63.0|67.0|58.0|60.0|57.0|59.0|65.0|            RB CDM |60.0|65.0|66.0|63.0|67.0|58.0|60.0|57.0|59.0|65.0|57.0|\n",
            "| 7899|Ricardo Nunes| 31|https://cdn.sofif...| South Africa|https://cdn.sofif...|     67|       67|      Pogoń Szczecin|https://cdn.sofif...|€500K| €4K|   1819|          78|        53|     70|     73|          65|       70|      70|   71|       62|       45|                67|       14|         10|        11|            14|          7|              43|           65|     68|          65|        63|     59|       59|         64|       57|           59|        64|            65|          77|     75|             68|      65|    54|     39|61.0|61.0|63.0|61.0|62.0|212014|61.0|66.0|61.0|62.0|63.0|61.0|64.0|58.0|63.0|66.0|                LB |61.0|66.0|61.0|62.0|63.0|61.0|64.0|58.0|63.0|66.0|58.0|\n",
            "| 5713|    Kike Sola| 31|https://cdn.sofif...|        Spain|https://cdn.sofif...|     70|       70|Athletic Club de ...|https://cdn.sofif...|€1.6M|€17K|   1717|          56|        72|     65|     68|          73|       63|      59|   59|       71|       68|                59|        6|          9|        10|             4|          2|              78|           43|     59|          55|        65|     40|       63|         71|       61|           71|        69|            42|          47|     30|             45|      76|    56|     65|66.0|56.0|55.0|67.0|61.0|185073|66.0|51.0|56.0|61.0|55.0|67.0|63.0|69.0|65.0|52.0|                ST |66.0|51.0|56.0|61.0|55.0|67.0|63.0|69.0|65.0|52.0|69.0|\n",
            "| 4044| O. Deschacht| 36|https://cdn.sofif...|      Belgium|https://cdn.sofif...|     71|       71|      RSC Anderlecht|https://cdn.sofif...|€325K|€10K|   1634|          47|        67|     55|     59|          62|       77|      64|   42|       47|       37|                31|        6|         14|        10|            12|          6|              71|           80|     55|          60|        52|     71|       36|         47|       65|           65|        62|            70|          49|     65|             72|      72|    57|     26|55.0|70.0|68.0|54.0|61.0| 49161|55.0|67.0|70.0|61.0|68.0|54.0|56.0|54.0|54.0|66.0|             LB CB |55.0|67.0|70.0|61.0|68.0|54.0|56.0|54.0|54.0|66.0|54.0|\n",
            "|11763|    Y. Urbina| 34|https://cdn.sofif...|       Mexico|https://cdn.sofif...|     64|       64|    Monarcas Morelia|https://cdn.sofif...|€180K|€12K|   1119|          47|        44|     61|     65|          21|       57|      12|   13|       21|       12|                12|       65|         59|        62|            64|         66|              13|           24|     63|          31|        18|     14|       21|         11|       63|           21|        21|            13|          44|     36|             11|      55|    23|     13|NULL|NULL|NULL|NULL|NULL|140244|NULL|NULL|NULL|NULL|NULL|NULL|NULL|NULL|NULL|NULL|                GK |NULL|NULL|NULL|NULL|NULL|NULL|NULL|NULL|NULL|NULL|NULL|\n",
            "|13000| E. Domaschke| 31|https://cdn.sofif...|      Germany|https://cdn.sofif...|     62|       62|           SV Meppen|https://cdn.sofif...|€180K| €1K|   1038|          36|        29|     41|     53|          22|       38|      11|   10|       19|       10|                12|       61|         62|        66|            56|         63|              13|           13|     62|          22|        12|     10|       22|         15|       58|           23|        23|            10|          40|     24|             15|      69|    46|     10|NULL|NULL|NULL|NULL|NULL|183596|NULL|NULL|NULL|NULL|NULL|NULL|NULL|NULL|NULL|NULL|                GK |NULL|NULL|NULL|NULL|NULL|NULL|NULL|NULL|NULL|NULL|NULL|\n",
            "|  909|    Guilherme| 31|https://cdn.sofif...|       Russia|https://cdn.sofif...|     78|       78|    Lokomotiv Moscow|https://cdn.sofif...|€6.5M|€33K|   1185|          37|        35|     54|     30|          21|       65|      13|   19|       16|       11|                12|       82|         73|        70|            77|         78|              13|           21|     62|          33|        16|     14|       12|         13|       74|           39|        22|            18|          40|     34|             16|      62|    55|     13|NULL|NULL|NULL|NULL|NULL|180714|NULL|NULL|NULL|NULL|NULL|NULL|NULL|NULL|NULL|NULL|                GK |NULL|NULL|NULL|NULL|NULL|NULL|NULL|NULL|NULL|NULL|NULL|\n",
            "|10678|     M. Burch| 33|https://cdn.sofif...|United States|https://cdn.sofif...|     65|       65|   Minnesota Thunder|https://cdn.sofif...|€210K| €2K|   1796|          60|      66-2|     68|     59|          63|       61|      67|   63|       61|       50|              66-5|        7|         13|        10|             6|         16|              59|           62|     66|        55-3|        66|     64|       59|       51-4|       61|           58|      81-4|            64|          67|     72|             66|      63|    55|     52|59.0|63.0|62.0|59.0|60.0|176075|59.0|64.0|63.0|60.0|62.0|59.0|60.0|60.0|60.0|64.0|                LB |59.0|64.0|63.0|60.0|62.0|59.0|60.0|60.0|60.0|64.0|60.0|\n",
            "| 5178|  P. Quiñonez| 31|https://cdn.sofif...|      Ecuador|https://cdn.sofif...|     70|       70|                NULL|https://cdn.sofif...|   €0|  €0|   1955|          73|        71|     68|     80|          70|       69|      71|   56|       60|       61|                74|       14|          7|        15|            16|         13|              66|           72|     61|          73|        78|     60|       68|         52|       78|           75|        83|            59|          72|     72|             67|      35|    67|     68|68.0|64.0|69.0|67.0|70.0|190559|68.0|69.0|64.0|70.0|69.0|67.0|68.0|66.0|67.0|69.0|            CM CDM |68.0|69.0|64.0|70.0|69.0|67.0|68.0|66.0|67.0|69.0|66.0|\n",
            "| 1676|   G. Johnson| 32|https://cdn.sofif...|      England|https://cdn.sofif...|     75|       75|          Stoke City|https://cdn.sofif...|€3.7M|€52K|   2006|          74|        71|     72|     67|          77|       72|      75|   69|       78|       54|                54|       13|          7|         7|             6|          7|              68|           68|     77|          70|        70|     75|       60|         69|       74|           75|        79|            77|          69|     71|             76|      72|    69|     56|72.0|73.0|73.0|72.0|72.0|137782|72.0|74.0|73.0|72.0|73.0|72.0|73.0|69.0|72.0|74.0|                RB |72.0|74.0|73.0|72.0|73.0|72.0|73.0|69.0|72.0|74.0|69.0|\n",
            "+-----+-------------+---+--------------------+-------------+--------------------+-------+---------+--------------------+--------------------+-----+----+-------+------------+----------+-------+-------+------------+---------+--------+-----+---------+---------+------------------+---------+-----------+----------+--------------+-----------+----------------+-------------+-------+------------+----------+-------+---------+-----------+---------+-------------+----------+--------------+------------+-------+---------------+--------+------+-------+----+----+----+----+----+------+----+----+----+----+----+----+----+----+----+----+-------------------+----+----+----+----+----+----+----+----+----+----+----+\n",
            "only showing top 10 rows\n",
            "\n"
          ]
        }
      ]
    },
    {
      "cell_type": "code",
      "source": [
        "df_fifa.select(\"Name\",\"Club\").distinct().show(100)"
      ],
      "metadata": {
        "colab": {
          "base_uri": "https://localhost:8080/"
        },
        "id": "WDYlrfA1q2pB",
        "outputId": "a210206d-a1f9-4839-f82d-8e024d0a705e"
      },
      "execution_count": null,
      "outputs": [
        {
          "output_type": "stream",
          "name": "stdout",
          "text": [
            "+---------------+--------------------+\n",
            "|           Name|                Club|\n",
            "+---------------+--------------------+\n",
            "|      C. Vargas|Atletico Nacional...|\n",
            "|Simão Donatinho|Clube Atlético Pa...|\n",
            "|   L. Coulibaly|          Angers SCO|\n",
            "|      H. Osorio|Independiente San...|\n",
            "|  M. Migliorini|            Avellino|\n",
            "|    D. Petković|          FC Lorient|\n",
            "|       O. Şahan|         Trabzonspor|\n",
            "|      G. Donsah|             Bologna|\n",
            "|      A. Sukhov|              FC Ufa|\n",
            "|      A. Mawson|        Swansea City|\n",
            "|      K. Kamara|New England Revol...|\n",
            "|      P. McGinn|Partick Thistle F.C.|\n",
            "|        I. Boye|           Örebro SK|\n",
            "|         S. Old|           Morecambe|\n",
            "|  M. Villasanti|           Temperley|\n",
            "|       L. Nolan|  Accrington Stanley|\n",
            "|     J. Joronen|          AC Horsens|\n",
            "|    T. McCarron|          Finn Harps|\n",
            "|       J. Terry|         Aston Villa|\n",
            "|      F. Kessié|               Milan|\n",
            "|     S. Ulreich|    FC Bayern Munich|\n",
            "|      A. Stokes|           Hibernian|\n",
            "|       G. Torje|Kardemir Karabükspor|\n",
            "|           Eder|               Inter|\n",
            "|     L. Civelli|            Banfield|\n",
            "|      D. Jevtić|         Lech Poznań|\n",
            "|       H. Okuno|      Vegalta Sendai|\n",
            "|       Casemiro|      Real Madrid CF|\n",
            "|       Costinha|     Vitória Setúbal|\n",
            "|        R. Wolf|  Fortuna Düsseldorf|\n",
            "|         S. Cox|     Southend United|\n",
            "|    Kim Min Tae|Hokkaido Consadol...|\n",
            "|   S. Heidinger|       Holstein Kiel|\n",
            "|     J. Sánchez|Atlético Bucaramanga|\n",
            "|    M. Djuricin|Grasshopper Club ...|\n",
            "|       T. Moore|             Arsenal|\n",
            "|    M. Ramsland|             Sogndal|\n",
            "|   P. Grazziani|   Alianza Petrolera|\n",
            "|      N. Diallo|    Stade Rennais FC|\n",
            "|    R. Robitsch|      Wolfsberger AC|\n",
            "|       Y. Ogawa|     Albirex Niigata|\n",
            "|    M. Mitrović|         SønderjyskE|\n",
            "|     T. Johnson|         Southampton|\n",
            "|         Tienza| Real Betis Balompié|\n",
            "|S. Brunstad Fet|        Aalesunds FK|\n",
            "|     W. Johnson|Orlando City Socc...|\n",
            "|      S. Müller|          1. FC Köln|\n",
            "|      Alan Baró|Central Coast Mar...|\n",
            "|        Rolando|Olympique de Mars...|\n",
            "|    L. Desábato|     Vélez Sarsfield|\n",
            "|      A. Shunin|       Dinamo Moscow|\n",
            "|     E. Manjedo|CD Universidad de...|\n",
            "|       N. Matić|   Manchester United|\n",
            "|    P. Hoffmann|  SC Preußen Münster|\n",
            "|      B. Romero|  Argentinos Juniors|\n",
            "| Laure Santeiro|            Cruzeiro|\n",
            "|     E. Codesto|           Colo-Colo|\n",
            "|    N. Boogaard|      Newcastle Jets|\n",
            "|      Y. Thuram|         Le Havre AC|\n",
            "|     C. Bolaños|Vancouver Whiteca...|\n",
            "|       A. Frara|           Frosinone|\n",
            "|        J. Leca|          AC Ajaccio|\n",
            "|       S. Popov|        Kasimpaşa SK|\n",
            "|         F. Due|          Randers FC|\n",
            "|    C. Kahraman|  1. FC Union Berlin|\n",
            "|    A. Connolly|Brighton & Hove A...|\n",
            "|     M. Attiyah|           Ohod Club|\n",
            "|       S. Tuton|            Barnsley|\n",
            "|   Rafael Costa|       Moreirense FC|\n",
            "|      A. Rochat|  FC Lausanne-Sports|\n",
            "|    Saúl Berjón|         Real Oviedo|\n",
            "|         Y. Ito|     Kashima Antlers|\n",
            "|       K. Rekik|   Hertha BSC Berlin|\n",
            "|    Fábio China|         CS Marítimo|\n",
            "|     J. Walters|             Burnley|\n",
            "|  R. van Eijden|          AZ Alkmaar|\n",
            "|        Nicolas|       Hellas Verona|\n",
            "|        G. Baah|  New York Red Bulls|\n",
            "|  Borja Herrera|       UD Las Palmas|\n",
            "|       J. Jones|          Kilmarnock|\n",
            "|     S. Asamoah|   Sint-Truidense VV|\n",
            "|     C. Maloney|    Columbus Crew SC|\n",
            "|  E. Gründemann|       Hansa Rostock|\n",
            "|      A. Zerbin|              Napoli|\n",
            "|      W. Miller|       Burton Albion|\n",
            "|    B. Urbański|           Willem II|\n",
            "|         C. Rúa|           Tigres FC|\n",
            "|       A. Power|          Kilmarnock|\n",
            "|     C. Jullien|         Toulouse FC|\n",
            "|     K. Bennett|          Portsmouth|\n",
            "|     M. Barbosa|       Villarreal CF|\n",
            "|     N. de Jong|      Galatasaray SK|\n",
            "|     L. Trotter|       AFC Wimbledon|\n",
            "|     R. Lentini|        Bahía Blanca|\n",
            "|   J. De Guzmán| Eintracht Frankfurt|\n",
            "|    S. Dzhanaev|         Rubin Kazan|\n",
            "|     A. Akaichi|          Al Ittihad|\n",
            "|      C. Davies|        Derby County|\n",
            "|   I. Uzochukwu|     Odense Boldklub|\n",
            "|         Falcao|           AS Monaco|\n",
            "+---------------+--------------------+\n",
            "only showing top 100 rows\n",
            "\n"
          ]
        }
      ]
    }
  ]
}